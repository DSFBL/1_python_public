{
 "cells": [
  {
   "cell_type": "markdown",
   "metadata": {},
   "source": [
    "# Введение. Знакомство со средой"
   ]
  },
  {
   "cell_type": "markdown",
   "metadata": {},
   "source": [
    "Прежде, чем мы начнем разбираться с самим питоном,разберемся, где мы находимся. Это - Jupyter Notebook. По сути, это просто система, которая будет запускать написанный нами код. Из преимуществ: можем выполнять отдельные ячейки с кодом, а не запускать всю систему. Также Jupyter удобно использовать для визуализации данных, чем активно пользуются аналитики и дата саентисты. Есть немало систем, где можем писать код и выполнять его, но мы, пожалуй, не будем о них.\n"
   ]
  },
  {
   "cell_type": "markdown",
   "metadata": {},
   "source": [
    "Разберемся с панелью инструментов. В разделе \"File\" мы можем открыть новую чистую тетрадь без надписей или открыть уже загруженную на пк. Так же здесь мы сохраняем (\"Save as\"), переименовываем (\"Rename\") и меняем формат нашего документа (\"Download as\" и затем выбираем нужный нам формат - чаще всего это .html и .ipynb. Последний - формат, где мы пишем код)"
   ]
  },
  {
   "cell_type": "markdown",
   "metadata": {},
   "source": [
    "Чтобы выполнить код, написанный в ячейке, нужно нажать \"cntr\" + \"enter\". После этого под ячейкой появится результат нашего кода\n",
    "Очень часто во время выполнения кода мы будем совершать ошибки, и нам нужно будет сделать так, чтобы система, грубо говоря, \"забыла\" написанный ранне код (например, очистить заданные нами переменные). Для этого в разделе \"Kernel\" нужно выбрать \"Restart\". Так мы сможем перезапустить все ячейки.\"Restart & Clear output\" сделает то же самое и вдобавок сотрет результат кода под ячейкой.\"Restart & Run All\" - то же самое, но автоматически запустит все ячейки в порядке от верхнего к нижнему. "
   ]
  },
  {
   "cell_type": "markdown",
   "metadata": {},
   "source": [
    "# Типы данных"
   ]
  },
  {
   "cell_type": "markdown",
   "metadata": {},
   "source": [
    "Все языки программировния можно разделить на две группы: языки с неявной типизацией и на языки с явной типизацией. При явной типизации необходимо указать, к какому типу данных принадлежит задаваемая нами переменная. Так нужно делать в языках Java или C++. К счастью, Python не принадлежит к этой группе, так что задавать тип переменной не нужно. Однако, иногда придется приводить данные из одного типа в другой – Python не позволяет производить опреации с данными различных типов.\n",
    "Ниже будет приведен полный список типов данных, со многими из которых вы познакомитесь в последующих статьях"
   ]
  },
  {
   "cell_type": "markdown",
   "metadata": {},
   "source": [
    "1) None, оно же неопределенное значение переменной\n",
    "\n",
    "Здесь вроде бы все интуитивно понятно"
   ]
  },
  {
   "cell_type": "code",
   "execution_count": 44,
   "metadata": {},
   "outputs": [
    {
     "data": {
      "text/plain": [
       "NoneType"
      ]
     },
     "execution_count": 44,
     "metadata": {},
     "output_type": "execute_result"
    }
   ],
   "source": [
    "n = None\n",
    "type(n)"
   ]
  },
  {
   "cell_type": "markdown",
   "metadata": {},
   "source": [
    "2)\tЛогические переменные (Boolean Type)\n",
    "\n",
    "Логические переменные как бы «проверяют» наши данные на соответствие условию, которое мы задаем (для этого нужно использовать символ \"==\", сперва пишем данные, потом \"==\", затем условие). Если данные соответствуют этому условию, то система выдаст “True”, а если нет – “False”. Также мы можем использовать и другие типы данных, которые будут интерпретироваться системой, как ложные. Например, число 0, пустые списки, множества, словари, кортежи и объекты None будут равноценны \"False\". Для того, чтобы проверить истинность переменной (или любого другого объекта, с которым мы работаем), можно использовать функцией \"bool()\", а для сравнения использовать знаки \"<\" - менее, и \">\" - более.  \n"
   ]
  },
  {
   "cell_type": "code",
   "execution_count": 19,
   "metadata": {},
   "outputs": [
    {
     "name": "stdout",
     "output_type": "stream",
     "text": [
      "False\n",
      "True\n"
     ]
    }
   ],
   "source": [
    "a = 0\n",
    "b = 1\n",
    "print(bool(a))\n",
    "print(bool(b))"
   ]
  },
  {
   "cell_type": "code",
   "execution_count": 22,
   "metadata": {},
   "outputs": [
    {
     "name": "stdout",
     "output_type": "stream",
     "text": [
      "False\n",
      "True\n"
     ]
    }
   ],
   "source": [
    "print(a == b)\n",
    "print(a < b)"
   ]
  },
  {
   "cell_type": "code",
   "execution_count": 24,
   "metadata": {},
   "outputs": [
    {
     "data": {
      "text/plain": [
       "True"
      ]
     },
     "execution_count": 24,
     "metadata": {},
     "output_type": "execute_result"
    }
   ],
   "source": [
    "#при сравнении мы можем использовать любые арифметические операции\n",
    "a + 10 > b"
   ]
  },
  {
   "cell_type": "markdown",
   "metadata": {},
   "source": [
    "3) Числа \n",
    "\n",
    "a)\tint – только целые числа\n",
    "\n",
    "b)\tfloat – число с плавающей точкой, то есть как целые числа, так и десятичные дроби\n",
    "\n",
    "c)\tcomplex – комплексное число (этот тип подробно разберем позднее)\n",
    "\n"
   ]
  },
  {
   "cell_type": "code",
   "execution_count": 25,
   "metadata": {},
   "outputs": [
    {
     "data": {
      "text/plain": [
       "int"
      ]
     },
     "execution_count": 25,
     "metadata": {},
     "output_type": "execute_result"
    }
   ],
   "source": [
    "x = 1\n",
    "type(x)"
   ]
  },
  {
   "cell_type": "code",
   "execution_count": 28,
   "metadata": {},
   "outputs": [
    {
     "name": "stdout",
     "output_type": "stream",
     "text": [
      "0.75\n"
     ]
    },
    {
     "data": {
      "text/plain": [
       "float"
      ]
     },
     "execution_count": 28,
     "metadata": {},
     "output_type": "execute_result"
    }
   ],
   "source": [
    "y = 3/4\n",
    "print(y)\n",
    "type(y)"
   ]
  },
  {
   "cell_type": "markdown",
   "metadata": {},
   "source": [
    "4)\tКонтейнеры данных (Sequence Type)\n",
    "\n",
    "a)\tlist – список\n",
    "\n",
    "b)\ttuple – кортеж\n",
    "\n",
    "c)\trange – диапазон \n"
   ]
  },
  {
   "cell_type": "code",
   "execution_count": 36,
   "metadata": {},
   "outputs": [
    {
     "name": "stdout",
     "output_type": "stream",
     "text": [
      "[1, 2, 3, 10, 4]\n"
     ]
    },
    {
     "data": {
      "text/plain": [
       "list"
      ]
     },
     "execution_count": 36,
     "metadata": {},
     "output_type": "execute_result"
    }
   ],
   "source": [
    "#придумаем список,где a и b - заданные раннее переменные\n",
    "spisok = [1, 2, 3, a, b]\n",
    "print(spisok)\n",
    "type(spisok)"
   ]
  },
  {
   "cell_type": "code",
   "execution_count": 37,
   "metadata": {},
   "outputs": [
    {
     "data": {
      "text/plain": [
       "tuple"
      ]
     },
     "execution_count": 37,
     "metadata": {},
     "output_type": "execute_result"
    }
   ],
   "source": [
    "#придумаем кортеж\n",
    "cort = (1, 2, 3)\n",
    "type(cort)"
   ]
  },
  {
   "cell_type": "code",
   "execution_count": 42,
   "metadata": {},
   "outputs": [
    {
     "name": "stdout",
     "output_type": "stream",
     "text": [
      "range(1, 9)\n"
     ]
    }
   ],
   "source": [
    "#придумаем диапазон\n",
    "r = range(1,9)\n",
    "print(r)"
   ]
  },
  {
   "cell_type": "markdown",
   "metadata": {},
   "source": [
    "5)\tСтроки (Text Sequence Type )\n",
    "\n",
    "Этот тип данных обозначается, как \"str\" и представляют из себя текст \n"
   ]
  },
  {
   "cell_type": "code",
   "execution_count": 31,
   "metadata": {},
   "outputs": [
    {
     "data": {
      "text/plain": [
       "str"
      ]
     },
     "execution_count": 31,
     "metadata": {},
     "output_type": "execute_result"
    }
   ],
   "source": [
    "#назовем переменную \"text\", и закрипим за ней объект типа \"str\"\n",
    "text = \"hello world\"\n",
    "type(text)"
   ]
  },
  {
   "cell_type": "markdown",
   "metadata": {},
   "source": [
    "7)\tМножества (Set Types) \n",
    "\n",
    "a)\tset – множество \n",
    "\n",
    "b)\tfrozenset – неизменяемое множество \n",
    "\n"
   ]
  },
  {
   "cell_type": "markdown",
   "metadata": {},
   "source": [
    "8)\tСловари (Mapping Types) - dict \n",
    "\n"
   ]
  },
  {
   "cell_type": "code",
   "execution_count": 46,
   "metadata": {},
   "outputs": [
    {
     "data": {
      "text/plain": [
       "dict"
      ]
     },
     "execution_count": 46,
     "metadata": {},
     "output_type": "execute_result"
    }
   ],
   "source": [
    "#создадим пустой словарь, то есть словарь без значений внутри\n",
    "d = dict()\n",
    "type(d)"
   ]
  },
  {
   "cell_type": "markdown",
   "metadata": {},
   "source": [
    "Сейчас довольно трудно понять, что представляет из себя каждый тип данных, поэтому лучше будет сразу начать знакомитья с ними на практике и учиться, как с ними работать."
   ]
  },
  {
   "cell_type": "markdown",
   "metadata": {},
   "source": [
    "# Арифметика"
   ]
  },
  {
   "cell_type": "markdown",
   "metadata": {},
   "source": [
    "Очевидно, здесь мы будем работать с таким типом данных, как числа. Как уже было сказано выше, числа могут быть целыми (int), с плавающей точкой (float) и комплексными. "
   ]
  },
  {
   "cell_type": "markdown",
   "metadata": {},
   "source": [
    "Начнем с наиболее простых операций: сложение и вычитание. Здесь все просто, прямо как на калькуляторе:"
   ]
  },
  {
   "cell_type": "code",
   "execution_count": 3,
   "metadata": {},
   "outputs": [
    {
     "data": {
      "text/plain": [
       "7"
      ]
     },
     "execution_count": 3,
     "metadata": {},
     "output_type": "execute_result"
    }
   ],
   "source": [
    "3+4"
   ]
  },
  {
   "cell_type": "code",
   "execution_count": 4,
   "metadata": {},
   "outputs": [
    {
     "data": {
      "text/plain": [
       "3"
      ]
     },
     "execution_count": 4,
     "metadata": {},
     "output_type": "execute_result"
    }
   ],
   "source": [
    "5-2"
   ]
  },
  {
   "cell_type": "markdown",
   "metadata": {},
   "source": [
    "Однако есть одно важно отличие: в питоне можно задавать переменные, и затем работать с ними. Допустим, что у нас есть переменная a, равная 10, и переменная b, равная 4. Сразу разберем одну из особенностей написания кода. Если у нас есть одно действие, то при выполнения кода ответ автоматически будет выведен под ячейкой. Однако если нам нужно вывести сразу несколько результатов кода, нужно воспользоваться функцией \"print()\", как это показано ниже"
   ]
  },
  {
   "cell_type": "code",
   "execution_count": 29,
   "metadata": {},
   "outputs": [
    {
     "name": "stdout",
     "output_type": "stream",
     "text": [
      "14\n",
      "6\n",
      "-6\n"
     ]
    }
   ],
   "source": [
    "#зададим переменные: a и b будут именами переменных, через знак \"=\" мы сохраняем за ними определенные значения (здесь это 10 и 4)\n",
    "a = 10\n",
    "b = 4\n",
    "#произведем сложение и вычесление с заданными переменными\n",
    "print(a+b)\n",
    "print(a-b)\n",
    "print(b-a)"
   ]
  },
  {
   "cell_type": "code",
   "execution_count": 8,
   "metadata": {},
   "outputs": [
    {
     "data": {
      "text/plain": [
       "14"
      ]
     },
     "execution_count": 8,
     "metadata": {},
     "output_type": "execute_result"
    }
   ],
   "source": [
    "#также мы можем записать действия с переменнами в другую переменнную, например:\n",
    "c = a + b\n",
    "c"
   ]
  },
  {
   "cell_type": "markdown",
   "metadata": {},
   "source": [
    "Аналогично работает умножение и деление (знаки \"*\" и \"/\" соответственно) "
   ]
  },
  {
   "cell_type": "code",
   "execution_count": 11,
   "metadata": {},
   "outputs": [
    {
     "data": {
      "text/plain": [
       "40"
      ]
     },
     "execution_count": 11,
     "metadata": {},
     "output_type": "execute_result"
    }
   ],
   "source": [
    "10*4"
   ]
  },
  {
   "cell_type": "code",
   "execution_count": 14,
   "metadata": {},
   "outputs": [
    {
     "data": {
      "text/plain": [
       "2.5"
      ]
     },
     "execution_count": 14,
     "metadata": {},
     "output_type": "execute_result"
    }
   ],
   "source": [
    "10/4"
   ]
  },
  {
   "cell_type": "markdown",
   "metadata": {},
   "source": [
    "Однако с делением все немного сложнее: помимо стандартного деления, мы можем посмотреть только целу часть от деления (знак \"//\") или только остаток от деления (знак \"%\")"
   ]
  },
  {
   "cell_type": "code",
   "execution_count": 16,
   "metadata": {},
   "outputs": [
    {
     "data": {
      "text/plain": [
       "2"
      ]
     },
     "execution_count": 16,
     "metadata": {},
     "output_type": "execute_result"
    }
   ],
   "source": [
    "10%4"
   ]
  },
  {
   "cell_type": "markdown",
   "metadata": {},
   "source": [
    "Последней арифмитической операцией является возведение в степень. Здесь все работает так же, как и с умножением, только используется знак \"**\""
   ]
  },
  {
   "cell_type": "code",
   "execution_count": 17,
   "metadata": {},
   "outputs": [
    {
     "data": {
      "text/plain": [
       "4"
      ]
     },
     "execution_count": 17,
     "metadata": {},
     "output_type": "execute_result"
    }
   ],
   "source": [
    "2**2"
   ]
  },
  {
   "cell_type": "code",
   "execution_count": 18,
   "metadata": {},
   "outputs": [
    {
     "data": {
      "text/plain": [
       "9"
      ]
     },
     "execution_count": 18,
     "metadata": {},
     "output_type": "execute_result"
    }
   ],
   "source": [
    "3**2"
   ]
  },
  {
   "cell_type": "code",
   "execution_count": 19,
   "metadata": {},
   "outputs": [
    {
     "data": {
      "text/plain": [
       "27"
      ]
     },
     "execution_count": 19,
     "metadata": {},
     "output_type": "execute_result"
    }
   ],
   "source": [
    "3**3"
   ]
  },
  {
   "cell_type": "markdown",
   "metadata": {},
   "source": [
    "# Комплексные числа"
   ]
  },
  {
   "cell_type": "markdown",
   "metadata": {},
   "source": [
    "Чтобы создать комплексное число, нужно либо использовать функцию \"complex(a, b)\", где a - действительная часть, а в b - мнимая. Другой вариант - записать число в виде \"a + bj\". Комплексные числа можно складывать, вычитать, умножать, делить и\n",
    "возводить в степень (все работает по такому же принципу, как и с обычными числами). Чтобы извлечь действительную часть, нужно использовать функцию \".real\", а для мнимой - \".imag\""
   ]
  },
  {
   "cell_type": "code",
   "execution_count": 23,
   "metadata": {},
   "outputs": [
    {
     "name": "stdout",
     "output_type": "stream",
     "text": [
      "(4+7j)\n",
      "4.0\n",
      "7.0\n"
     ]
    }
   ],
   "source": [
    "x = complex(4, 7)\n",
    "print(x)\n",
    "print(x.real)\n",
    "print(x.imag)"
   ]
  },
  {
   "cell_type": "markdown",
   "metadata": {},
   "source": [
    "# Условный оператор"
   ]
  },
  {
   "cell_type": "markdown",
   "metadata": {},
   "source": [
    "Условный оператор - это по сути цикл с условиями, по которым мы прогоняем наши данные, и в зависимости от соответствия наших данных этим условиям производим какой-то набор операций. Проще говоря, мы обозначаем какое-либо условие, и если данные ему соответствуют, делаем одно, если нет - то что-то другое. "
   ]
  },
  {
   "cell_type": "markdown",
   "metadata": {},
   "source": [
    "Самый простой условный оператор - if. После оператора if необходимо записать выражение, которое будет провверяться на истинность. Приведем несколько примеров"
   ]
  },
  {
   "cell_type": "code",
   "execution_count": 32,
   "metadata": {},
   "outputs": [
    {
     "name": "stdout",
     "output_type": "stream",
     "text": [
      "a is bigger\n"
     ]
    }
   ],
   "source": [
    "a = 17\n",
    "b = 7\n",
    "#Важно: после выражения оператора необходимо поставить двоеточие, инструкция пишется с отступом\n",
    "if a > b:\n",
    "    print('a is bigger')"
   ]
  },
  {
   "cell_type": "markdown",
   "metadata": {},
   "source": [
    "Мы можем усложнить наш оператор и использовать конструкцию if - else. Так, после else мы пишем инструкцию, которая будет испольняться в том случае, если выражение окажется ложным"
   ]
  },
  {
   "cell_type": "code",
   "execution_count": 33,
   "metadata": {},
   "outputs": [
    {
     "name": "stdout",
     "output_type": "stream",
     "text": [
      "a is fewer\n"
     ]
    }
   ],
   "source": [
    "a = 1\n",
    "b = 7\n",
    "if a > b:\n",
    "    print('a is bigger')\n",
    "else:\n",
    "    print('a is fewer')"
   ]
  },
  {
   "cell_type": "code",
   "execution_count": 36,
   "metadata": {},
   "outputs": [
    {
     "name": "stdout",
     "output_type": "stream",
     "text": [
      "22\n"
     ]
    }
   ],
   "source": [
    "#попробуйте изменить \"a\" и \"b\" и посмотрите, как меняется вывод\n",
    "a = 2\n",
    "b = 11\n",
    "if a < b:\n",
    "    a*=b\n",
    "    print(a)\n",
    "else:\n",
    "    print(a)"
   ]
  },
  {
   "cell_type": "markdown",
   "metadata": {},
   "source": [
    "Последняя конструкция условного оператора -  if – elif – else. Принцип такой же, как у предыдущей конструкции, разница в том, что мы можем добавлять бесконечное множество инструкций, записывая их под условием elif (означает \"else if\"). Вот типичный пример такой конструкции:"
   ]
  },
  {
   "cell_type": "code",
   "execution_count": 65,
   "metadata": {},
   "outputs": [
    {
     "name": "stdout",
     "output_type": "stream",
     "text": [
      "x is pretty negative\n"
     ]
    }
   ],
   "source": [
    "x = -40\n",
    "if x >= 0:\n",
    "    print('x is positve')\n",
    "elif x >= -10:\n",
    "    print('x is slightly negative')\n",
    "elif x >= -100:\n",
    "    print('x is pretty negative')\n",
    "else:\n",
    "    print('x is totally negative')"
   ]
  },
  {
   "cell_type": "markdown",
   "metadata": {},
   "source": [
    "Однако, есть принципиальное различие между этой конструкцией, и многократным повторением условия \"if\". Для наглядности приведу пример:"
   ]
  },
  {
   "cell_type": "code",
   "execution_count": 66,
   "metadata": {},
   "outputs": [
    {
     "name": "stdout",
     "output_type": "stream",
     "text": [
      "x is positve\n",
      "x is slightly negative\n",
      "x is pretty negative\n"
     ]
    }
   ],
   "source": [
    "x = 10\n",
    "if x >= 0:\n",
    "    print('x is positve')\n",
    "if x >= -10:\n",
    "    print('x is slightly negative')\n",
    "if x >= -100:\n",
    "    print('x is pretty negative')"
   ]
  },
  {
   "cell_type": "markdown",
   "metadata": {},
   "source": [
    "Как можете видеть, первая конструкция проверяет все условия поэтапно, и выполняет инструкцию сразу после первого соответствия условию, после чего \"заканчивает работу\". Вторая конструкция работает как множество отдельных циклов \"if\", и выполняет каждую инструкцию, где данные соответстуют условию - поэтому и выдает множество ответов. Попробуйте поменять несколько раз значение \"x\" в каждой конструкции и посмотреть, как будет меняться ответ."
   ]
  }
 ],
 "metadata": {
  "kernelspec": {
   "display_name": "Python 3",
   "language": "python",
   "name": "python3"
  },
  "language_info": {
   "codemirror_mode": {
    "name": "ipython",
    "version": 3
   },
   "file_extension": ".py",
   "mimetype": "text/x-python",
   "name": "python",
   "nbconvert_exporter": "python",
   "pygments_lexer": "ipython3",
   "version": "3.6.6"
  }
 },
 "nbformat": 4,
 "nbformat_minor": 4
}
