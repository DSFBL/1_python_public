{
 "cells": [
  {
   "cell_type": "code",
   "execution_count": 1,
   "metadata": {},
   "outputs": [
    {
     "name": "stdout",
     "output_type": "stream",
     "text": [
      "Requirement already satisfied: numpy in /Library/Frameworks/Python.framework/Versions/3.6/lib/python3.6/site-packages (1.18.1)\n",
      "\u001b[33mWARNING: You are using pip version 20.3.1; however, version 21.0.1 is available.\n",
      "You should consider upgrading via the '/Library/Frameworks/Python.framework/Versions/3.6/bin/python3.6 -m pip install --upgrade pip' command.\u001b[0m\n"
     ]
    }
   ],
   "source": [
    "!pip install numpy"
   ]
  },
  {
   "cell_type": "code",
   "execution_count": 2,
   "metadata": {},
   "outputs": [],
   "source": [
    "import numpy as np"
   ]
  },
  {
   "cell_type": "code",
   "execution_count": 3,
   "metadata": {},
   "outputs": [],
   "source": [
    "a = [1, 2, 3]\n",
    "b = [4, 5, 6]"
   ]
  },
  {
   "cell_type": "code",
   "execution_count": 4,
   "metadata": {},
   "outputs": [
    {
     "data": {
      "text/plain": [
       "[1, 2, 3, 4, 5, 6]"
      ]
     },
     "execution_count": 4,
     "metadata": {},
     "output_type": "execute_result"
    }
   ],
   "source": [
    "a + b"
   ]
  },
  {
   "cell_type": "code",
   "execution_count": 5,
   "metadata": {},
   "outputs": [],
   "source": [
    "a_arr = np.array(a)\n",
    "b_arr = np.array(b)"
   ]
  },
  {
   "cell_type": "code",
   "execution_count": 6,
   "metadata": {},
   "outputs": [
    {
     "data": {
      "text/plain": [
       "array([5, 7, 9])"
      ]
     },
     "execution_count": 6,
     "metadata": {},
     "output_type": "execute_result"
    }
   ],
   "source": [
    "a_arr + b_arr"
   ]
  },
  {
   "cell_type": "code",
   "execution_count": 7,
   "metadata": {},
   "outputs": [],
   "source": [
    "matrix = np.array([[1, 2, 3], [4, 5, 6], [7, 8, 9]])"
   ]
  },
  {
   "cell_type": "code",
   "execution_count": 8,
   "metadata": {},
   "outputs": [
    {
     "data": {
      "text/plain": [
       "array([[1, 2, 3],\n",
       "       [4, 5, 6],\n",
       "       [7, 8, 9]])"
      ]
     },
     "execution_count": 8,
     "metadata": {},
     "output_type": "execute_result"
    }
   ],
   "source": [
    "matrix"
   ]
  },
  {
   "cell_type": "code",
   "execution_count": 9,
   "metadata": {},
   "outputs": [],
   "source": [
    "matrix_random = np.ndarray(shape=(3, 3), dtype='int')"
   ]
  },
  {
   "cell_type": "code",
   "execution_count": 10,
   "metadata": {},
   "outputs": [
    {
     "data": {
      "text/plain": [
       "array([[                   0, -2305843008942609324,           4337631237],\n",
       "       [          4317392896,         431214255880,                    0],\n",
       "       [                   0,              3290372,                    0]])"
      ]
     },
     "execution_count": 10,
     "metadata": {},
     "output_type": "execute_result"
    }
   ],
   "source": [
    "matrix_random"
   ]
  },
  {
   "cell_type": "code",
   "execution_count": 11,
   "metadata": {},
   "outputs": [
    {
     "data": {
      "text/plain": [
       "array([[                   1, -2305843008942609322,           4337631240],\n",
       "       [          4317392900,         431214255885,                    6],\n",
       "       [                   7,              3290380,                    9]])"
      ]
     },
     "execution_count": 11,
     "metadata": {},
     "output_type": "execute_result"
    }
   ],
   "source": [
    "matrix + matrix_random"
   ]
  },
  {
   "cell_type": "code",
   "execution_count": 16,
   "metadata": {},
   "outputs": [
    {
     "data": {
      "text/plain": [
       "array([[1, 2],\n",
       "       [3, 4]])"
      ]
     },
     "execution_count": 16,
     "metadata": {},
     "output_type": "execute_result"
    }
   ],
   "source": [
    "np.ndarray(shape=(2, 2), dtype='int', buffer=np.array([1, 2, 3, 4, 5, 6, 7, 8, 9]))"
   ]
  },
  {
   "cell_type": "code",
   "execution_count": 17,
   "metadata": {},
   "outputs": [
    {
     "data": {
      "text/plain": [
       "array([0., 0., 0., 0., 0.])"
      ]
     },
     "execution_count": 17,
     "metadata": {},
     "output_type": "execute_result"
    }
   ],
   "source": [
    "np.zeros((5,))"
   ]
  },
  {
   "cell_type": "code",
   "execution_count": 18,
   "metadata": {},
   "outputs": [
    {
     "data": {
      "text/plain": [
       "array([[1., 1., 1., 1., 1.],\n",
       "       [1., 1., 1., 1., 1.]])"
      ]
     },
     "execution_count": 18,
     "metadata": {},
     "output_type": "execute_result"
    }
   ],
   "source": [
    "np.ones((2, 5))"
   ]
  },
  {
   "cell_type": "code",
   "execution_count": 19,
   "metadata": {},
   "outputs": [
    {
     "data": {
      "text/plain": [
       "array([[1., 0., 0.],\n",
       "       [0., 1., 0.],\n",
       "       [0., 0., 1.]])"
      ]
     },
     "execution_count": 19,
     "metadata": {},
     "output_type": "execute_result"
    }
   ],
   "source": [
    "np.identity(3)"
   ]
  },
  {
   "cell_type": "code",
   "execution_count": 20,
   "metadata": {},
   "outputs": [
    {
     "data": {
      "text/plain": [
       "array([[0.0e+000, 0.0e+000, 3.5e-323, 0.0e+000],\n",
       "       [0.0e+000, 0.0e+000, 0.0e+000, 0.0e+000],\n",
       "       [0.0e+000, 0.0e+000, 0.0e+000, 0.0e+000]])"
      ]
     },
     "execution_count": 20,
     "metadata": {},
     "output_type": "execute_result"
    }
   ],
   "source": [
    "np.empty((3, 4))"
   ]
  },
  {
   "cell_type": "code",
   "execution_count": 22,
   "metadata": {},
   "outputs": [
    {
     "data": {
      "text/plain": [
       "array([0, 1, 2, 3, 4, 5, 6, 7])"
      ]
     },
     "execution_count": 22,
     "metadata": {},
     "output_type": "execute_result"
    }
   ],
   "source": [
    "np.arange(8)"
   ]
  },
  {
   "cell_type": "code",
   "execution_count": 23,
   "metadata": {},
   "outputs": [
    {
     "data": {
      "text/plain": [
       "array([ 1,  2,  3,  4,  5,  6,  7,  8,  9, 10])"
      ]
     },
     "execution_count": 23,
     "metadata": {},
     "output_type": "execute_result"
    }
   ],
   "source": [
    "np.arange(1, 11)"
   ]
  },
  {
   "cell_type": "code",
   "execution_count": 24,
   "metadata": {},
   "outputs": [
    {
     "data": {
      "text/plain": [
       "array([1, 3, 5, 7, 9])"
      ]
     },
     "execution_count": 24,
     "metadata": {},
     "output_type": "execute_result"
    }
   ],
   "source": [
    "np.arange(1, 11, 2)"
   ]
  },
  {
   "cell_type": "code",
   "execution_count": 25,
   "metadata": {},
   "outputs": [
    {
     "data": {
      "text/plain": [
       "array([[0, 1, 2],\n",
       "       [3, 4, 5],\n",
       "       [6, 7, 8]])"
      ]
     },
     "execution_count": 25,
     "metadata": {},
     "output_type": "execute_result"
    }
   ],
   "source": [
    "np.arange(9).reshape(3, 3)"
   ]
  },
  {
   "cell_type": "code",
   "execution_count": 26,
   "metadata": {},
   "outputs": [
    {
     "data": {
      "text/plain": [
       "array([0, 1, 2, 3, 4, 5, 6, 7, 8])"
      ]
     },
     "execution_count": 26,
     "metadata": {},
     "output_type": "execute_result"
    }
   ],
   "source": [
    "np.arange(9)"
   ]
  },
  {
   "cell_type": "code",
   "execution_count": 27,
   "metadata": {},
   "outputs": [
    {
     "ename": "ValueError",
     "evalue": "cannot reshape array of size 8 into shape (3,3)",
     "output_type": "error",
     "traceback": [
      "\u001b[0;31m---------------------------------------------------------------------------\u001b[0m",
      "\u001b[0;31mValueError\u001b[0m                                Traceback (most recent call last)",
      "\u001b[0;32m<ipython-input-27-3d271260fd93>\u001b[0m in \u001b[0;36m<module>\u001b[0;34m\u001b[0m\n\u001b[0;32m----> 1\u001b[0;31m \u001b[0mnp\u001b[0m\u001b[0;34m.\u001b[0m\u001b[0marange\u001b[0m\u001b[0;34m(\u001b[0m\u001b[0;36m8\u001b[0m\u001b[0;34m)\u001b[0m\u001b[0;34m.\u001b[0m\u001b[0mreshape\u001b[0m\u001b[0;34m(\u001b[0m\u001b[0;36m3\u001b[0m\u001b[0;34m,\u001b[0m \u001b[0;36m3\u001b[0m\u001b[0;34m)\u001b[0m\u001b[0;34m\u001b[0m\u001b[0m\n\u001b[0m",
      "\u001b[0;31mValueError\u001b[0m: cannot reshape array of size 8 into shape (3,3)"
     ]
    }
   ],
   "source": [
    "np.arange(8).reshape(3, 3)"
   ]
  },
  {
   "cell_type": "code",
   "execution_count": 28,
   "metadata": {},
   "outputs": [
    {
     "data": {
      "text/plain": [
       "array([[0, 1],\n",
       "       [2, 3],\n",
       "       [4, 5],\n",
       "       [6, 7]])"
      ]
     },
     "execution_count": 28,
     "metadata": {},
     "output_type": "execute_result"
    }
   ],
   "source": [
    "np.arange(8).reshape(4, -1)"
   ]
  },
  {
   "cell_type": "code",
   "execution_count": 30,
   "metadata": {},
   "outputs": [
    {
     "data": {
      "text/plain": [
       "array([12, 15, 18])"
      ]
     },
     "execution_count": 30,
     "metadata": {},
     "output_type": "execute_result"
    }
   ],
   "source": [
    "sum(matrix)"
   ]
  },
  {
   "cell_type": "code",
   "execution_count": 31,
   "metadata": {},
   "outputs": [
    {
     "data": {
      "text/plain": [
       "45"
      ]
     },
     "execution_count": 31,
     "metadata": {},
     "output_type": "execute_result"
    }
   ],
   "source": [
    "np.sum(matrix)"
   ]
  },
  {
   "cell_type": "code",
   "execution_count": 32,
   "metadata": {},
   "outputs": [
    {
     "data": {
      "text/plain": [
       "array([12, 15, 18])"
      ]
     },
     "execution_count": 32,
     "metadata": {},
     "output_type": "execute_result"
    }
   ],
   "source": [
    "np.sum(matrix, axis=0)"
   ]
  },
  {
   "cell_type": "code",
   "execution_count": 33,
   "metadata": {},
   "outputs": [
    {
     "data": {
      "text/plain": [
       "array([ 6, 15, 24])"
      ]
     },
     "execution_count": 33,
     "metadata": {},
     "output_type": "execute_result"
    }
   ],
   "source": [
    "np.sum(matrix, axis=1)"
   ]
  },
  {
   "cell_type": "code",
   "execution_count": 29,
   "metadata": {},
   "outputs": [
    {
     "data": {
      "text/plain": [
       "array([[1, 2, 3],\n",
       "       [4, 5, 6],\n",
       "       [7, 8, 9]])"
      ]
     },
     "execution_count": 29,
     "metadata": {},
     "output_type": "execute_result"
    }
   ],
   "source": [
    "matrix"
   ]
  },
  {
   "cell_type": "code",
   "execution_count": 34,
   "metadata": {},
   "outputs": [
    {
     "data": {
      "text/plain": [
       "array([1, 2, 3])"
      ]
     },
     "execution_count": 34,
     "metadata": {},
     "output_type": "execute_result"
    }
   ],
   "source": [
    "matrix[0]"
   ]
  },
  {
   "cell_type": "code",
   "execution_count": 35,
   "metadata": {},
   "outputs": [
    {
     "data": {
      "text/plain": [
       "array([[4, 5, 6],\n",
       "       [7, 8, 9]])"
      ]
     },
     "execution_count": 35,
     "metadata": {},
     "output_type": "execute_result"
    }
   ],
   "source": [
    "matrix[1:]"
   ]
  },
  {
   "cell_type": "code",
   "execution_count": 36,
   "metadata": {},
   "outputs": [
    {
     "data": {
      "text/plain": [
       "2"
      ]
     },
     "execution_count": 36,
     "metadata": {},
     "output_type": "execute_result"
    }
   ],
   "source": [
    "matrix[0][1]"
   ]
  },
  {
   "cell_type": "code",
   "execution_count": 37,
   "metadata": {},
   "outputs": [
    {
     "data": {
      "text/plain": [
       "2"
      ]
     },
     "execution_count": 37,
     "metadata": {},
     "output_type": "execute_result"
    }
   ],
   "source": [
    "matrix[0, 1]"
   ]
  },
  {
   "cell_type": "code",
   "execution_count": 38,
   "metadata": {},
   "outputs": [
    {
     "data": {
      "text/plain": [
       "8"
      ]
     },
     "execution_count": 38,
     "metadata": {},
     "output_type": "execute_result"
    }
   ],
   "source": [
    "matrix.argmax()"
   ]
  },
  {
   "cell_type": "code",
   "execution_count": 39,
   "metadata": {},
   "outputs": [
    {
     "data": {
      "text/plain": [
       "8"
      ]
     },
     "execution_count": 39,
     "metadata": {},
     "output_type": "execute_result"
    }
   ],
   "source": [
    "np.argmax(matrix)"
   ]
  },
  {
   "cell_type": "markdown",
   "metadata": {},
   "source": [
    "https://pythonworld.ru/numpy/100-exercises.html"
   ]
  },
  {
   "cell_type": "code",
   "execution_count": 40,
   "metadata": {},
   "outputs": [
    {
     "data": {
      "text/plain": [
       "array([[1, 2, 3],\n",
       "       [4, 5, 6],\n",
       "       [7, 8, 9]])"
      ]
     },
     "execution_count": 40,
     "metadata": {},
     "output_type": "execute_result"
    }
   ],
   "source": [
    "matrix"
   ]
  },
  {
   "cell_type": "code",
   "execution_count": 41,
   "metadata": {},
   "outputs": [
    {
     "data": {
      "text/plain": [
       "array([[False, False, False],\n",
       "       [False,  True,  True],\n",
       "       [ True,  True,  True]])"
      ]
     },
     "execution_count": 41,
     "metadata": {},
     "output_type": "execute_result"
    }
   ],
   "source": [
    "matrix > 4"
   ]
  },
  {
   "cell_type": "code",
   "execution_count": 42,
   "metadata": {},
   "outputs": [
    {
     "data": {
      "text/plain": [
       "array([[False, False, False],\n",
       "       [False,  True,  True],\n",
       "       [ True,  True, False]])"
      ]
     },
     "execution_count": 42,
     "metadata": {},
     "output_type": "execute_result"
    }
   ],
   "source": [
    "(matrix > 4) & (matrix < 9)"
   ]
  },
  {
   "cell_type": "code",
   "execution_count": 43,
   "metadata": {},
   "outputs": [
    {
     "data": {
      "text/plain": [
       "array([5, 6, 7, 8, 9])"
      ]
     },
     "execution_count": 43,
     "metadata": {},
     "output_type": "execute_result"
    }
   ],
   "source": [
    "matrix[matrix > 4]"
   ]
  },
  {
   "cell_type": "code",
   "execution_count": 44,
   "metadata": {},
   "outputs": [
    {
     "data": {
      "text/plain": [
       "4"
      ]
     },
     "execution_count": 44,
     "metadata": {},
     "output_type": "execute_result"
    }
   ],
   "source": [
    "((matrix > 4) & (matrix < 9)).sum()"
   ]
  },
  {
   "cell_type": "code",
   "execution_count": 45,
   "metadata": {},
   "outputs": [
    {
     "data": {
      "text/plain": [
       "9"
      ]
     },
     "execution_count": 45,
     "metadata": {},
     "output_type": "execute_result"
    }
   ],
   "source": [
    "((matrix > 4) | (matrix < 9)).sum()"
   ]
  },
  {
   "cell_type": "code",
   "execution_count": 76,
   "metadata": {},
   "outputs": [
    {
     "name": "stdout",
     "output_type": "stream",
     "text": [
      "[6 3 7 4 6]\n",
      "[9 2 6 7 4]\n"
     ]
    }
   ],
   "source": [
    "np.random.seed(42)\n",
    "c = np.array([7, 3, 8, 2, 1])\n",
    "d = np.random.randint(0, 10, 5)\n",
    "print(d)\n",
    "ddd = np.random.randint(0, 10, 5)\n",
    "print(ddd)"
   ]
  },
  {
   "cell_type": "code",
   "execution_count": 95,
   "metadata": {},
   "outputs": [
    {
     "data": {
      "text/plain": [
       "array([1, 0, 6, 6, 7])"
      ]
     },
     "execution_count": 95,
     "metadata": {},
     "output_type": "execute_result"
    }
   ],
   "source": [
    "ddd2 = np.random.randint(0, 10, 5)\n",
    "ddd2"
   ]
  },
  {
   "cell_type": "code",
   "execution_count": 97,
   "metadata": {},
   "outputs": [
    {
     "data": {
      "text/plain": [
       "array([7, 3, 8, 2, 1])"
      ]
     },
     "execution_count": 97,
     "metadata": {},
     "output_type": "execute_result"
    }
   ],
   "source": [
    "c"
   ]
  },
  {
   "cell_type": "code",
   "execution_count": 98,
   "metadata": {},
   "outputs": [
    {
     "data": {
      "text/plain": [
       "array([6, 3, 7, 4, 6])"
      ]
     },
     "execution_count": 98,
     "metadata": {},
     "output_type": "execute_result"
    }
   ],
   "source": [
    "d"
   ]
  },
  {
   "cell_type": "code",
   "execution_count": 99,
   "metadata": {},
   "outputs": [
    {
     "data": {
      "text/plain": [
       "121"
      ]
     },
     "execution_count": 99,
     "metadata": {},
     "output_type": "execute_result"
    }
   ],
   "source": [
    "# <c, d> = 7*6 + 3*3 + 8*7 + 2*4 + 1*6\n",
    "c @ d"
   ]
  },
  {
   "cell_type": "code",
   "execution_count": 101,
   "metadata": {},
   "outputs": [
    {
     "data": {
      "text/plain": [
       "121"
      ]
     },
     "execution_count": 101,
     "metadata": {},
     "output_type": "execute_result"
    }
   ],
   "source": [
    "c.dot(d)"
   ]
  },
  {
   "cell_type": "code",
   "execution_count": 102,
   "metadata": {},
   "outputs": [
    {
     "data": {
      "text/plain": [
       "121"
      ]
     },
     "execution_count": 102,
     "metadata": {},
     "output_type": "execute_result"
    }
   ],
   "source": [
    "np.dot(c, d)"
   ]
  },
  {
   "cell_type": "code",
   "execution_count": 103,
   "metadata": {},
   "outputs": [
    {
     "data": {
      "text/plain": [
       "array([1, 2, 3])"
      ]
     },
     "execution_count": 103,
     "metadata": {},
     "output_type": "execute_result"
    }
   ],
   "source": []
  },
  {
   "cell_type": "code",
   "execution_count": 104,
   "metadata": {},
   "outputs": [],
   "source": [
    "np.random.seed(0)\n",
    "m1 = np.random.randint(0, 10, (2, 2))\n",
    "m2 = np.random.randint(0, 10, (2, 2))"
   ]
  },
  {
   "cell_type": "code",
   "execution_count": 105,
   "metadata": {},
   "outputs": [
    {
     "data": {
      "text/plain": [
       "array([[5, 0],\n",
       "       [3, 3]])"
      ]
     },
     "execution_count": 105,
     "metadata": {},
     "output_type": "execute_result"
    }
   ],
   "source": [
    "m1"
   ]
  },
  {
   "cell_type": "code",
   "execution_count": 110,
   "metadata": {},
   "outputs": [
    {
     "data": {
      "text/plain": [
       "array([[7, 9],\n",
       "       [3, 5]])"
      ]
     },
     "execution_count": 110,
     "metadata": {},
     "output_type": "execute_result"
    }
   ],
   "source": [
    "m2"
   ]
  },
  {
   "cell_type": "code",
   "execution_count": 112,
   "metadata": {},
   "outputs": [
    {
     "data": {
      "text/plain": [
       "35"
      ]
     },
     "execution_count": 112,
     "metadata": {},
     "output_type": "execute_result"
    }
   ],
   "source": [
    "5*7 + 0*3 # первый элемент – первую строку м1 на первый столбец м2"
   ]
  },
  {
   "cell_type": "code",
   "execution_count": 113,
   "metadata": {},
   "outputs": [
    {
     "data": {
      "text/plain": [
       "45"
      ]
     },
     "execution_count": 113,
     "metadata": {},
     "output_type": "execute_result"
    }
   ],
   "source": [
    "5*9 + 0*5 # второй элемент – первую строку м1 на второй столбец м2"
   ]
  },
  {
   "cell_type": "code",
   "execution_count": 114,
   "metadata": {},
   "outputs": [
    {
     "data": {
      "text/plain": [
       "30"
      ]
     },
     "execution_count": 114,
     "metadata": {},
     "output_type": "execute_result"
    }
   ],
   "source": [
    "3*7 + 3*3 # третий элемент – вторую строку м1 на первый столбец м2"
   ]
  },
  {
   "cell_type": "code",
   "execution_count": 109,
   "metadata": {},
   "outputs": [
    {
     "data": {
      "text/plain": [
       "42"
      ]
     },
     "execution_count": 109,
     "metadata": {},
     "output_type": "execute_result"
    }
   ],
   "source": [
    "3*9 + 3*5 # четвертый элемент – вторую строку м1 на второй столбец м2"
   ]
  },
  {
   "cell_type": "code",
   "execution_count": 107,
   "metadata": {},
   "outputs": [
    {
     "data": {
      "text/plain": [
       "array([[35, 45],\n",
       "       [30, 42]])"
      ]
     },
     "execution_count": 107,
     "metadata": {},
     "output_type": "execute_result"
    }
   ],
   "source": [
    "m1 @ m2"
   ]
  },
  {
   "cell_type": "markdown",
   "metadata": {},
   "source": [
    "Умножение матриц возможно, если чисто столбцов m1 равно числоу строк m2\n",
    "\n",
    "$c_{ij} = \\sum_{r=1}^{k} a_{ir}b_{rj}$\n",
    "\n",
    "<img src=\"data:image/jpeg;base64,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\">"
   ]
  },
  {
   "cell_type": "code",
   "execution_count": 115,
   "metadata": {},
   "outputs": [
    {
     "data": {
      "text/plain": [
       "array([[35, 45],\n",
       "       [30, 42]])"
      ]
     },
     "execution_count": 115,
     "metadata": {},
     "output_type": "execute_result"
    }
   ],
   "source": [
    "m1.dot(m2)"
   ]
  },
  {
   "cell_type": "code",
   "execution_count": 116,
   "metadata": {},
   "outputs": [
    {
     "data": {
      "text/plain": [
       "array([[35, 45],\n",
       "       [30, 42]])"
      ]
     },
     "execution_count": 116,
     "metadata": {},
     "output_type": "execute_result"
    }
   ],
   "source": [
    "np.dot(m1, m2)"
   ]
  },
  {
   "cell_type": "code",
   "execution_count": 121,
   "metadata": {},
   "outputs": [
    {
     "data": {
      "text/plain": [
       "array([5, 0, 3, 3])"
      ]
     },
     "execution_count": 121,
     "metadata": {},
     "output_type": "execute_result"
    }
   ],
   "source": [
    "v = m1.reshape(1, -1)[0]\n",
    "v"
   ]
  },
  {
   "cell_type": "code",
   "execution_count": 123,
   "metadata": {},
   "outputs": [
    {
     "data": {
      "text/plain": [
       "array([5, 0, 0, 0])"
      ]
     },
     "execution_count": 123,
     "metadata": {},
     "output_type": "execute_result"
    }
   ],
   "source": [
    "np.where(v != 3, v, 0)"
   ]
  },
  {
   "cell_type": "code",
   "execution_count": 125,
   "metadata": {},
   "outputs": [
    {
     "data": {
      "text/plain": [
       "array([5, 0])"
      ]
     },
     "execution_count": 125,
     "metadata": {},
     "output_type": "execute_result"
    }
   ],
   "source": [
    "v[np.where(v!=3)]"
   ]
  },
  {
   "cell_type": "code",
   "execution_count": 127,
   "metadata": {},
   "outputs": [
    {
     "data": {
      "text/plain": [
       "array([0, 3, 3, 5])"
      ]
     },
     "execution_count": 127,
     "metadata": {},
     "output_type": "execute_result"
    }
   ],
   "source": [
    "np.sort(v)"
   ]
  },
  {
   "cell_type": "code",
   "execution_count": 128,
   "metadata": {},
   "outputs": [
    {
     "data": {
      "text/plain": [
       "array([1, 2, 3, 0])"
      ]
     },
     "execution_count": 128,
     "metadata": {},
     "output_type": "execute_result"
    }
   ],
   "source": [
    "np.argsort(v) # индексы списка до сортировки"
   ]
  },
  {
   "cell_type": "code",
   "execution_count": null,
   "metadata": {},
   "outputs": [],
   "source": []
  }
 ],
 "metadata": {
  "kernelspec": {
   "display_name": "Python 3",
   "language": "python",
   "name": "python3"
  },
  "language_info": {
   "codemirror_mode": {
    "name": "ipython",
    "version": 3
   },
   "file_extension": ".py",
   "mimetype": "text/x-python",
   "name": "python",
   "nbconvert_exporter": "python",
   "pygments_lexer": "ipython3",
   "version": "3.6.6"
  }
 },
 "nbformat": 4,
 "nbformat_minor": 4
}
