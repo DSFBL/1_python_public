{
 "cells": [
  {
   "cell_type": "markdown",
   "metadata": {},
   "source": [
    "\n",
    "# Урок 2. Списки, кортежи, множества\n",
    "Наиболее часто используемая структура данных в Python - это список (list). С английского list переводится как список.\n",
    "\n",
    "Список -  упорядоченная последовательность объектов. Объектом может быть что угодно: числа, строки или данных любого доступного типа. Сам список тоже является объектом - мы можем включать списки в более сложные структуры данных, о которых мы с вами еще поговорим. "
   ]
  },
  {
   "cell_type": "markdown",
   "metadata": {},
   "source": [
    "# 2.1. Списки\n",
    "\n",
    "## Как создать список?\n",
    "Чтобы использовать списки, их нужно создать –– для этого есть несколько несложных способов, которые нам нужно знать. Начнем с самого эффективного: использование оператора нижнего индекса."
   ]
  },
  {
   "cell_type": "markdown",
   "metadata": {},
   "source": [
    "###  Оператор нижнего индекса - первый способ создать список\n",
    "Для того, чтобы вызвать оператор нижнего индекса напишем квадратные скобки []. Это самый быстрый способ создать список с помощью Питона.\n",
    "\n",
    "Элементы списка записываются через запятую. Список может включать в себя любое количество элементов, и каждый элемент может принадлежать к разному типу данных (число, строка и т.д.). Если список состоит только из одного типа данных, то он называется однородным, если из разных - разнородным."
   ]
  },
  {
   "cell_type": "markdown",
   "metadata": {},
   "source": [
    "**Пример пустого списка.** Пустым списком называется список, который не содержит в себе объектов."
   ]
  },
  {
   "cell_type": "code",
   "execution_count": 15,
   "metadata": {},
   "outputs": [],
   "source": [
    "L1 = []  # Создаем пустой список "
   ]
  },
  {
   "cell_type": "code",
   "execution_count": 17,
   "metadata": {},
   "outputs": [
    {
     "data": {
      "text/plain": [
       "[]"
      ]
     },
     "execution_count": 17,
     "metadata": {},
     "output_type": "execute_result"
    }
   ],
   "source": [
    "L1 #Просим Питон вывести созданный список "
   ]
  },
  {
   "cell_type": "markdown",
   "metadata": {},
   "source": [
    "**Пример списка, состоящего из чисел.** "
   ]
  },
  {
   "cell_type": "code",
   "execution_count": 5,
   "metadata": {},
   "outputs": [],
   "source": [
    "a1, a2, a3, a4 = 1, 2, 3, 4 #мы задали числа, которые являются объектами списка (1, 2, 3, 4)\n",
    "L2 = [a1, a2, a3, a4] #мы использовали квадратные скобки, чтобы из этих чисел создать список"
   ]
  },
  {
   "cell_type": "markdown",
   "metadata": {},
   "source": [
    "После ввода этого кода пока что вы ничего не увидите. Но если вы попросите Питон показать вам список L2 таким образом, то он выдаст вам следующее:"
   ]
  },
  {
   "cell_type": "code",
   "execution_count": 9,
   "metadata": {
    "scrolled": true
   },
   "outputs": [
    {
     "data": {
      "text/plain": [
       "[1, 2, 3, 4]"
      ]
     },
     "execution_count": 9,
     "metadata": {},
     "output_type": "execute_result"
    }
   ],
   "source": [
    "L2"
   ]
  },
  {
   "cell_type": "markdown",
   "metadata": {},
   "source": [
    "То же самое можно сделать короче, сразу же записав числа в квадратные скобки:"
   ]
  },
  {
   "cell_type": "code",
   "execution_count": 5,
   "metadata": {},
   "outputs": [
    {
     "data": {
      "text/plain": [
       "[1, 2, 3, 4]"
      ]
     },
     "execution_count": 5,
     "metadata": {},
     "output_type": "execute_result"
    }
   ],
   "source": [
    "L2=[1, 2, 3, 4] \n",
    "L2 #не забывайте печатать название списка, чтобы питон его вам выдал"
   ]
  },
  {
   "cell_type": "markdown",
   "metadata": {},
   "source": [
    "**Пример списка, состоящего из строк.**\n",
    "\n",
    "*Напомним, что строки - Этот тип данных обозначается, как \"str\" и представляют из себя текст*\n"
   ]
  },
  {
   "cell_type": "code",
   "execution_count": 6,
   "metadata": {},
   "outputs": [
    {
     "data": {
      "text/plain": [
       "['One', 'Two', 'Three']"
      ]
     },
     "execution_count": 6,
     "metadata": {},
     "output_type": "execute_result"
    }
   ],
   "source": [
    "L3 = [\"One\", \"Two\", \"Three\"]\n",
    "L3"
   ]
  },
  {
   "cell_type": "markdown",
   "metadata": {},
   "source": [
    "**Пример списка, состоящего из разных типов данных.** Мы можем добавить в список разные типы данных: целые числа (int), дробные числа (float), строки (str) и так далее."
   ]
  },
  {
   "cell_type": "code",
   "execution_count": 11,
   "metadata": {},
   "outputs": [],
   "source": [
    "L4 = [1, \"Hello\", 3.4] #создали список из разных типов данных"
   ]
  },
  {
   "cell_type": "code",
   "execution_count": 13,
   "metadata": {},
   "outputs": [
    {
     "data": {
      "text/plain": [
       "[1, 'Hello', 3.4]"
      ]
     },
     "execution_count": 13,
     "metadata": {},
     "output_type": "execute_result"
    }
   ],
   "source": [
    "L4 #попросили питон вывести созданный нами список"
   ]
  },
  {
   "cell_type": "markdown",
   "metadata": {},
   "source": [
    "**Список, состоящий из других списков (список с вложенными списками)**\n",
    "\n",
    "Мы можем составить список из списков. Для этого также используем квадратные скобки:\n",
    "        "
   ]
  },
  {
   "cell_type": "code",
   "execution_count": 7,
   "metadata": {},
   "outputs": [
    {
     "data": {
      "text/plain": [
       "[['one', 'two', 'three', 'four'], [1, 2, 3, 4, 5]]"
      ]
     },
     "execution_count": 7,
     "metadata": {},
     "output_type": "execute_result"
    }
   ],
   "source": [
    "L4 = [[\"one\",\"two\",\"three\",\"four\"],[1,2,3,4,5]]\n",
    "L4"
   ]
  },
  {
   "cell_type": "markdown",
   "metadata": {},
   "source": [
    "### Встроенная функция list - второй способ задать список\n",
    "Функция List принимает в качестве аргумента последовательность элементов и преобразует их в список Python."
   ]
  },
  {
   "cell_type": "code",
   "execution_count": 57,
   "metadata": {},
   "outputs": [
    {
     "data": {
      "text/plain": [
       "[1, 2, 3]"
      ]
     },
     "execution_count": 57,
     "metadata": {},
     "output_type": "execute_result"
    }
   ],
   "source": [
    "L1 = list([1, 2, 3]) # Создание списка\n",
    "L1\n"
   ]
  },
  {
   "cell_type": "code",
   "execution_count": 59,
   "metadata": {},
   "outputs": [
    {
     "data": {
      "text/plain": [
       "[]"
      ]
     },
     "execution_count": 59,
     "metadata": {},
     "output_type": "execute_result"
    }
   ],
   "source": [
    "L2 = list() # Пустой список\n",
    "L2"
   ]
  },
  {
   "cell_type": "markdown",
   "metadata": {},
   "source": [
    "Вы можете использовать любой удобный для вас способ"
   ]
  },
  {
   "cell_type": "markdown",
   "metadata": {},
   "source": [
    "### Создание списка с определенным размером\n",
    "Можно создать последовательность с заранее определенным размером, указав начальное значение для каждого элемента."
   ]
  },
  {
   "cell_type": "code",
   "execution_count": 127,
   "metadata": {},
   "outputs": [
    {
     "data": {
      "text/plain": [
       "[0, 0, 0]"
      ]
     },
     "execution_count": 127,
     "metadata": {},
     "output_type": "execute_result"
    }
   ],
   "source": [
    "Example = [0]*3  #создаем список, который состоит из элемента 0, повторенного 3 раза\n",
    "Example"
   ]
  },
  {
   "cell_type": "code",
   "execution_count": 126,
   "metadata": {
    "scrolled": true
   },
   "outputs": [
    {
     "data": {
      "text/plain": [
       "['Кошка', 'Белка', 'Кошка', 'Белка']"
      ]
     },
     "execution_count": 126,
     "metadata": {},
     "output_type": "execute_result"
    }
   ],
   "source": [
    "Example2 = [\"Кошка\", \"Белка\"]*2  #создаем список, который состоит из элементов \"Кошка\" и \"Белка\", повторенного 2 раза\n",
    "Example2"
   ]
  },
  {
   "cell_type": "markdown",
   "metadata": {},
   "source": [
    "## Индексация\n",
    "Каждый элемент списка занимает определенное место, позицию в списке. Этот номер называется **индексом**. Индекс назначается автоматически, вам не нужно предпринимать дополнительных действий, чтобы назначить индекс элементу.\n",
    "\n",
    "**ВАЖНО!** Первый индекс начинается с нуля, следующий - с единицы и так далее. Поэтому если в вашем списке 4 элемента (например, список L2= [1, 2, 3, 4]), то элемент \"1\" имеет индекс 0, а элемент \"4\" имеет индекс 3. "
   ]
  },
  {
   "cell_type": "markdown",
   "metadata": {},
   "source": [
    "### Примеры работы с индексами. \n"
   ]
  },
  {
   "cell_type": "markdown",
   "metadata": {},
   "source": [
    "**Поиск элемента с определенным номером индекса.** Воспользуемся списком L2= [1, 2, 3, 4]. Он у нас уже задан ранее. Мы хотим, чтобы нам питон выдал элемент с индексом 1, то есть второй элемент списка (так как нумерация начинается с 0). Для этого пишем название списка и в квадратных скобках указываем индекс нужного нам элемента:"
   ]
  },
  {
   "cell_type": "code",
   "execution_count": 25,
   "metadata": {},
   "outputs": [
    {
     "data": {
      "text/plain": [
       "2"
      ]
     },
     "execution_count": 25,
     "metadata": {},
     "output_type": "execute_result"
    }
   ],
   "source": [
    "L2[1] #получаем цифру 2 - она как раз имеет индекс 1!"
   ]
  },
  {
   "cell_type": "markdown",
   "metadata": {},
   "source": [
    "Более долгий способ сделать то же самое:"
   ]
  },
  {
   "cell_type": "code",
   "execution_count": 32,
   "metadata": {},
   "outputs": [
    {
     "name": "stdout",
     "output_type": "stream",
     "text": [
      "2\n"
     ]
    }
   ],
   "source": [
    "element = L2[1]  # обозначаем, что переменная элемент - это элемент из списка L2 с индексом 1 \n",
    "print(element) # просим вывести переменную элемент"
   ]
  },
  {
   "cell_type": "markdown",
   "metadata": {},
   "source": [
    "**Поиск элементов, начиная с определенного индекса.** Например, нам нужно, чтобы питон выдал нам все элементы после элемента, с индексом 1 включительно. Для этого в квадратных скобках после индекса пишем двоеточие:"
   ]
  },
  {
   "cell_type": "code",
   "execution_count": 11,
   "metadata": {},
   "outputs": [
    {
     "data": {
      "text/plain": [
       "[2, 3, 4]"
      ]
     },
     "execution_count": 11,
     "metadata": {},
     "output_type": "execute_result"
    }
   ],
   "source": [
    "L2[1:] #Получили все элементы, начиная с 1 индекса, включительно. Это элементы 2 (индекс 1), 3 (индекс 2) и 4 (индекс 3)"
   ]
  },
  {
   "cell_type": "markdown",
   "metadata": {},
   "source": [
    "**Поиск элементов, располагающиеся между определенными индексами.** Для этого делаем:"
   ]
  },
  {
   "cell_type": "code",
   "execution_count": 13,
   "metadata": {},
   "outputs": [
    {
     "data": {
      "text/plain": [
       "[2, 3]"
      ]
     },
     "execution_count": 13,
     "metadata": {},
     "output_type": "execute_result"
    }
   ],
   "source": [
    "L2[1:3]"
   ]
  },
  {
   "cell_type": "markdown",
   "metadata": {},
   "source": [
    "Заметили что-то интересное? \n",
    "\n",
    "Присмотритесь. Мы указали, что мы начинаем поиск с элемента с индексом 1 (мы уже знаем, что это число 2). Потом через двоеточие мы указали, что заканчиваем на числе с индексом 3 (мы уже знаем, что это число 4). Теперь посмотрим, что нам выдала команда: она выдала нам 2 (индекс 1) и 3 (индекс 2). Но при этом не выдало 4 (индекс 3). \n",
    "\n",
    "Объяснение простое: элемент с индексом, которого мы начинаем, включается в выдачу, а элемент, индексом которого мы заканчиваем, не включается в выдачу. \n",
    "\n",
    "Закрепим это еще одним примером:"
   ]
  },
  {
   "cell_type": "code",
   "execution_count": 17,
   "metadata": {},
   "outputs": [
    {
     "data": {
      "text/plain": [
       "[1, 2, 3]"
      ]
     },
     "execution_count": 17,
     "metadata": {},
     "output_type": "execute_result"
    }
   ],
   "source": [
    "L2[0:3] #элемент с индексом 0 включаем, включаем все элементы между индексами 0 и 3, а индекс 3 не включаем.\n"
   ]
  },
  {
   "cell_type": "markdown",
   "metadata": {},
   "source": [
    "**Выдача элементов с четными/нечетными индексами.**\n",
    "\n",
    "*На всякий случай: Четное число- это число делится на 2 без остатка (0, 2, 4, 6 и так далее. если поделим 4 на 2, то получим в итоге целое число 2). Да, 0 - это четное число. Если если ноль разделить на 2, то мы получим 0, это целое число без остатка, значит, 0 - четное число.   Нечетный - это когда не делится на 2 без остатка (1, 3, 5 и так далее. Нельзя поделить 3 на 2 и получить в результате целое число, получим дробное число 1.5).* \n",
    "\n",
    "\n",
    "Если мы хотим, что питон нам выдал элементы с четным индексом, то пишем:\n"
   ]
  },
  {
   "cell_type": "code",
   "execution_count": 37,
   "metadata": {},
   "outputs": [],
   "source": [
    "myList = [1, 0.76, 563, 10, 11] #Список можем называть не только L1, L2 :) можно дать ему красивое название, например, MyList - мой список"
   ]
  },
  {
   "cell_type": "code",
   "execution_count": 22,
   "metadata": {},
   "outputs": [
    {
     "data": {
      "text/plain": [
       "[1, 563, 11]"
      ]
     },
     "execution_count": 22,
     "metadata": {},
     "output_type": "execute_result"
    }
   ],
   "source": [
    "myList[::2] #нам выдались элементы с индексом 0, 2 и 4. "
   ]
  },
  {
   "cell_type": "markdown",
   "metadata": {},
   "source": [
    "Объясним, почему команда пишется именно так. Разберем то, что написано в скобках по частям. Вы можете переписать myList[0::2] и получите тот же самый результат. Но так как мы начинаем с нулевого индекса, то можно 0 упустить - это предуматривается по дефолту. Далее, ставя \":\" мы говорим \"начиная с 0 индекса, включительно\". Далее мы пишем \":2\", что означает шаг в два, то есть просим вывести питон каждый второй элемент, начиная с индекса 0.\n",
    "\n",
    "*На всякий случай: шаг в два означает \"каждый второй\" или \"через один\".*\n"
   ]
  },
  {
   "cell_type": "markdown",
   "metadata": {},
   "source": [
    "**Элементы с нечетным индексом:**"
   ]
  },
  {
   "cell_type": "code",
   "execution_count": 24,
   "metadata": {},
   "outputs": [
    {
     "data": {
      "text/plain": [
       "[0.76, 10]"
      ]
     },
     "execution_count": 24,
     "metadata": {},
     "output_type": "execute_result"
    }
   ],
   "source": [
    "myList[1::2] #нам выдались элементы с индексом 1 и 3 - действительно нечетные!"
   ]
  },
  {
   "cell_type": "markdown",
   "metadata": {},
   "source": [
    "Теперь разберем, как работает эта команда. Мы начинаем с первого нечетного индекса. Это индекс 1. Далее, ставя \":\" мы говорим \"начиная с 1 индекса, включительно\". Далее мы пишем \":2\", что означает шаг в два, то есть просим вывести питон каждый второй элемент, начиная с индекса 1. Что такое \"начинаем с 1 и делаем шаг в 2\"? Это означает, что начинаем с 1, следующее число (2) пропускаем, следующее число (3) пишем, затем- снова пропуска, потом- снова пишем. "
   ]
  },
  {
   "cell_type": "markdown",
   "metadata": {},
   "source": [
    "Изменяя первую цифру в квадратных скобках, мы указываем с какого индекса мы начинаем, а изменяя вторую - указываем шаг."
   ]
  },
  {
   "cell_type": "code",
   "execution_count": 44,
   "metadata": {},
   "outputs": [
    {
     "data": {
      "text/plain": [
       "[563, 11, 13, 0.433, 'кошка']"
      ]
     },
     "execution_count": 44,
     "metadata": {},
     "output_type": "execute_result"
    }
   ],
   "source": [
    "myList2 = [1, 0.76, 563, 10, 11, 5, 13, 3, 0.433, 1000, \"кошка\", \"белка\"] #сделали новый список \n",
    "myList2[2::2] #начинаем с индекса 2 (соответствует элементу 563) и делаем шаг 2 (то есть каждый второй элемент)"
   ]
  },
  {
   "cell_type": "code",
   "execution_count": 45,
   "metadata": {},
   "outputs": [
    {
     "data": {
      "text/plain": [
       "[0.76, 11, 3, 'кошка']"
      ]
     },
     "execution_count": 45,
     "metadata": {},
     "output_type": "execute_result"
    }
   ],
   "source": [
    "myList2[1::3] #начинаем с индекса 1 и делаем шаг в 3 (то есть каждый третий элемент)"
   ]
  },
  {
   "cell_type": "markdown",
   "metadata": {},
   "source": [
    "**Отрицательная индексация**\n",
    "\n",
    "Иногда наши списки очень длинные, а перед нами стоит задача вывести последний или предпоследний элемент списка. Для этого удобно использовать отрицательная индексация. Последний элемент имеет индекс -1 (не -0 :)) , предпоследний элемент имеет индекс -2 и так далее."
   ]
  },
  {
   "cell_type": "code",
   "execution_count": 46,
   "metadata": {},
   "outputs": [
    {
     "data": {
      "text/plain": [
       "'белка'"
      ]
     },
     "execution_count": 46,
     "metadata": {},
     "output_type": "execute_result"
    }
   ],
   "source": [
    "myList2[-1] #выводит последний элемент"
   ]
  },
  {
   "cell_type": "code",
   "execution_count": 47,
   "metadata": {},
   "outputs": [
    {
     "data": {
      "text/plain": [
       "'кошка'"
      ]
     },
     "execution_count": 47,
     "metadata": {},
     "output_type": "execute_result"
    }
   ],
   "source": [
    "myList2[-2] #выводит предпоследний элемент"
   ]
  },
  {
   "cell_type": "markdown",
   "metadata": {},
   "source": [
    "С помощью отрицательной индексации мы можем развернуть список:"
   ]
  },
  {
   "cell_type": "code",
   "execution_count": 49,
   "metadata": {},
   "outputs": [
    {
     "data": {
      "text/plain": [
       "['белка', 'кошка', 1000, 0.433, 3, 13, 5, 11, 10, 563, 0.76, 1]"
      ]
     },
     "execution_count": 49,
     "metadata": {},
     "output_type": "execute_result"
    }
   ],
   "source": [
    "myList2[::-1]"
   ]
  },
  {
   "cell_type": "markdown",
   "metadata": {},
   "source": [
    "Можем попросить Питон выдать нам каждый второй элемент, считая с конца:"
   ]
  },
  {
   "cell_type": "code",
   "execution_count": 51,
   "metadata": {},
   "outputs": [
    {
     "data": {
      "text/plain": [
       "['белка', 1000, 3, 5, 10, 0.76]"
      ]
     },
     "execution_count": 51,
     "metadata": {},
     "output_type": "execute_result"
    }
   ],
   "source": [
    "myList[::-2]"
   ]
  },
  {
   "cell_type": "markdown",
   "metadata": {},
   "source": [
    "## Операции над списками\n",
    "Теперь мы разобрались с созданием списков, перейдем к операциям над ними."
   ]
  },
  {
   "cell_type": "markdown",
   "metadata": {},
   "source": [
    "### Замена элементов списка\n",
    "Наш список имеет вид:"
   ]
  },
  {
   "cell_type": "code",
   "execution_count": 64,
   "metadata": {},
   "outputs": [
    {
     "name": "stdout",
     "output_type": "stream",
     "text": [
      "['one', 2, 3, 4]\n"
     ]
    }
   ],
   "source": [
    "L1 = [1,2,3,4] \n",
    "L1[0]=\"one\" # Заменяем элемент с индексом 0 на новый элемент \n",
    "print(L1) # выводим обновленный список"
   ]
  },
  {
   "cell_type": "markdown",
   "metadata": {},
   "source": [
    "### Добавить или убрать элемент списка\n",
    "\n",
    "**Добавление одного элемента** Чтобы добавить элемент в конец списка, можно использовать метод append ()  *(переводится как \"добавить\")*"
   ]
  },
  {
   "cell_type": "code",
   "execution_count": 66,
   "metadata": {},
   "outputs": [
    {
     "name": "stdout",
     "output_type": "stream",
     "text": [
      "[1, 2, 3, 4, 'five']\n"
     ]
    }
   ],
   "source": [
    "L1 = [1,2,3,4]\n",
    "L1.append(\"five\") # добавляем в конец новый элемент\n",
    "print(L1) "
   ]
  },
  {
   "cell_type": "markdown",
   "metadata": {},
   "source": [
    "**Добавление нескольких элементов**. Метод extend () используется для добавления более одного элемента в конец списка. *(переводится как \"расширить\")*"
   ]
  },
  {
   "cell_type": "code",
   "execution_count": 108,
   "metadata": {},
   "outputs": [
    {
     "name": "stdout",
     "output_type": "stream",
     "text": [
      "[1, 2, 3, 4, 5, 6, 7]\n"
     ]
    }
   ],
   "source": [
    "L1 = [1,2,3,4]\n",
    "L1.extend([5, 6, 7])\n",
    "print(L1)"
   ]
  },
  {
   "cell_type": "markdown",
   "metadata": {},
   "source": [
    "**Удаление элементов** Аналогично, можно удалять элементы из списка с помощью метода remove () *(переводится как \"убрать\")*"
   ]
  },
  {
   "cell_type": "code",
   "execution_count": 86,
   "metadata": {},
   "outputs": [
    {
     "name": "stdout",
     "output_type": "stream",
     "text": [
      "[1, 2, 3, 4]\n"
     ]
    }
   ],
   "source": [
    "L1 = [1,2,3,4, \"five\"]\n",
    "L1.remove(\"five\") \n",
    "print(L1) "
   ]
  },
  {
   "cell_type": "markdown",
   "metadata": {},
   "source": [
    "Если один и тот же элемент встречается несколько раз, удаляется только первое совпадение"
   ]
  },
  {
   "cell_type": "code",
   "execution_count": 68,
   "metadata": {},
   "outputs": [
    {
     "name": "stdout",
     "output_type": "stream",
     "text": [
      "[1, 2, 4, 3]\n"
     ]
    }
   ],
   "source": [
    "L1 = [1,2,3,4,3]\n",
    "L1.remove(3)\n",
    "print(L1)"
   ]
  },
  {
   "cell_type": "markdown",
   "metadata": {},
   "source": [
    "### Расставить элементы в обратном порядке\n",
    "\n",
    "Операция reverse () используется для «разворота» элементов списка. Этот метод изменяет исходный список. \n",
    "\n",
    "Чтобы «развернуть» список без изменения исходного, мы используем отрицательные индексы, которые мы прошли немного ранее."
   ]
  },
  {
   "cell_type": "code",
   "execution_count": 76,
   "metadata": {},
   "outputs": [
    {
     "data": {
      "text/plain": [
       "[4, 3, 2, 1]"
      ]
     },
     "execution_count": 76,
     "metadata": {},
     "output_type": "execute_result"
    }
   ],
   "source": [
    "#использование отрицательных индексов\n",
    "L1 = [1,2,3,4]\n",
    "L1[::-1] "
   ]
  },
  {
   "cell_type": "code",
   "execution_count": 79,
   "metadata": {},
   "outputs": [
    {
     "data": {
      "text/plain": [
       "[1, 2, 3, 4]"
      ]
     },
     "execution_count": 79,
     "metadata": {},
     "output_type": "execute_result"
    }
   ],
   "source": [
    "#проверим, что нам выдаст питон, если запросим изначальный список\n",
    "L1 #действительно, изначальный список не изменился"
   ]
  },
  {
   "cell_type": "code",
   "execution_count": 82,
   "metadata": {},
   "outputs": [
    {
     "data": {
      "text/plain": [
       "[4, 3, 2, 1]"
      ]
     },
     "execution_count": 82,
     "metadata": {},
     "output_type": "execute_result"
    }
   ],
   "source": [
    "L1 = [1,2,3,4] \n",
    "L1.reverse() #разворачиваем список\n",
    "L1 #просим питон выдасть нам список. Теперь список L1 изменился: было [1,2,3,4], а стало [4,3,2,1]"
   ]
  },
  {
   "cell_type": "markdown",
   "metadata": {},
   "source": [
    "### Длина списка  - len\n",
    "Метод len () возвращает длину списка, то есть количество элементов в списке. *(len от слова length, что переводится как \"длина\")*"
   ]
  },
  {
   "cell_type": "code",
   "execution_count": 83,
   "metadata": {},
   "outputs": [
    {
     "data": {
      "text/plain": [
       "4"
      ]
     },
     "execution_count": 83,
     "metadata": {},
     "output_type": "execute_result"
    }
   ],
   "source": [
    "L1 = [1,2,3,4]\n",
    "len(L1)"
   ]
  },
  {
   "cell_type": "markdown",
   "metadata": {},
   "source": [
    "А что если у нас список с вложенными списками? Какая для него будет длина? Функция посчитает длину как количество вложенных списков, а не общее количество всех элементов."
   ]
  },
  {
   "cell_type": "code",
   "execution_count": 94,
   "metadata": {},
   "outputs": [
    {
     "data": {
      "text/plain": [
       "3"
      ]
     },
     "execution_count": 94,
     "metadata": {},
     "output_type": "execute_result"
    }
   ],
   "source": [
    "L1= [[1,3],[2,4,8,9],[5,6,7]] #список, составленный из 3 списков\n",
    "len(L1)"
   ]
  },
  {
   "cell_type": "markdown",
   "metadata": {},
   "source": [
    "Если мы хотим посчитать длину первого вложенного списка [1;3] в списке L1, то печатаем следующую функцию: "
   ]
  },
  {
   "cell_type": "code",
   "execution_count": 95,
   "metadata": {},
   "outputs": [
    {
     "data": {
      "text/plain": [
       "2"
      ]
     },
     "execution_count": 95,
     "metadata": {},
     "output_type": "execute_result"
    }
   ],
   "source": [
    "len(L1[0]) #пишем 0, так как список [1,3] имеет индекс 0"
   ]
  },
  {
   "cell_type": "markdown",
   "metadata": {},
   "source": [
    "### Минимум/Максимум"
   ]
  },
  {
   "cell_type": "markdown",
   "metadata": {},
   "source": [
    "Метод min () показывает минимальное значение элемента в списке. Метод max () показывает максимальное значение в списке. Оба метода принимают только однородные списки, то есть списки, содержащие элементы одного типа.\n"
   ]
  },
  {
   "cell_type": "code",
   "execution_count": 86,
   "metadata": {},
   "outputs": [
    {
     "name": "stdout",
     "output_type": "stream",
     "text": [
      "-1000\n"
     ]
    }
   ],
   "source": [
    "L1 = [0, -1000,150,2,17]\n",
    "print(min(L1))"
   ]
  },
  {
   "cell_type": "code",
   "execution_count": 87,
   "metadata": {},
   "outputs": [
    {
     "name": "stdout",
     "output_type": "stream",
     "text": [
      "150\n"
     ]
    }
   ],
   "source": [
    "L1 = [0, -1000, 150,2,17]\n",
    "print(max(L1))"
   ]
  },
  {
   "cell_type": "markdown",
   "metadata": {},
   "source": [
    "### Сортировка\n",
    "Метод sort() сортирует список в порядке возрастания. Эта операция может выполняться только с однородными списками, то есть списками, имеющими элементы аналогичного типа."
   ]
  },
  {
   "cell_type": "code",
   "execution_count": 96,
   "metadata": {},
   "outputs": [
    {
     "name": "stdout",
     "output_type": "stream",
     "text": [
      "[1, 2, 3, 4]\n"
     ]
    }
   ],
   "source": [
    "L1 = [4,2,1,3]\n",
    "L1.sort()\n",
    "L1"
   ]
  },
  {
   "cell_type": "code",
   "execution_count": 107,
   "metadata": {},
   "outputs": [
    {
     "data": {
      "text/plain": [
       "[0.1, 0.3, 1, 1.5]"
      ]
     },
     "execution_count": 107,
     "metadata": {},
     "output_type": "execute_result"
    }
   ],
   "source": [
    "L1=[0.3, 0.1, 1, 1.5] \n",
    "L1.sort()\n",
    "L1"
   ]
  },
  {
   "cell_type": "code",
   "execution_count": 104,
   "metadata": {},
   "outputs": [
    {
     "data": {
      "text/plain": [
       "['белка', 'кит', 'кошка', 'собака', 'ягуар']"
      ]
     },
     "execution_count": 104,
     "metadata": {},
     "output_type": "execute_result"
    }
   ],
   "source": [
    "L1=[\"ягуар\", \"кошка\", \"белка\", \"собака\", \"кит\"] #для сортировки истользуется алфавитный принцип. если первые буквы совпадают, то сортировка происходит по второй букве\n",
    "L1.sort()\n",
    "L1"
   ]
  },
  {
   "cell_type": "code",
   "execution_count": 106,
   "metadata": {},
   "outputs": [
    {
     "ename": "TypeError",
     "evalue": "'<' not supported between instances of 'str' and 'float'",
     "output_type": "error",
     "traceback": [
      "\u001b[1;31m---------------------------------------------------------------------------\u001b[0m",
      "\u001b[1;31mTypeError\u001b[0m                                 Traceback (most recent call last)",
      "\u001b[1;32m<ipython-input-106-31eda7548068>\u001b[0m in \u001b[0;36m<module>\u001b[1;34m\u001b[0m\n\u001b[0;32m      1\u001b[0m \u001b[0mL1\u001b[0m\u001b[1;33m=\u001b[0m\u001b[1;33m[\u001b[0m\u001b[1;36m0.3\u001b[0m\u001b[1;33m,\u001b[0m \u001b[1;36m0.1\u001b[0m\u001b[1;33m,\u001b[0m \u001b[1;36m1.5\u001b[0m\u001b[1;33m,\u001b[0m \u001b[1;34m\"питон\"\u001b[0m\u001b[1;33m]\u001b[0m\u001b[1;33m\u001b[0m\u001b[1;33m\u001b[0m\u001b[0m\n\u001b[1;32m----> 2\u001b[1;33m \u001b[0mL1\u001b[0m\u001b[1;33m.\u001b[0m\u001b[0msort\u001b[0m\u001b[1;33m(\u001b[0m\u001b[1;33m)\u001b[0m\u001b[1;33m\u001b[0m\u001b[1;33m\u001b[0m\u001b[0m\n\u001b[0m\u001b[0;32m      3\u001b[0m \u001b[0mL1\u001b[0m\u001b[1;33m\u001b[0m\u001b[1;33m\u001b[0m\u001b[0m\n",
      "\u001b[1;31mTypeError\u001b[0m: '<' not supported between instances of 'str' and 'float'"
     ]
    }
   ],
   "source": [
    "L1=[0.3, 0.1, 1.5, \"питон\"] #данные разные, поэтому ошибка\n",
    "L1.sort()\n",
    "L1"
   ]
  },
  {
   "cell_type": "markdown",
   "metadata": {},
   "source": [
    "### Сложение\n",
    "Можно также складывать списки, объединяя их в один. Похоже на функцию Extend, но в этом случае вы создаете 2 списка, а не добавляете несколько элементов к одному списку. Несмотря на то, что эта функция использует знак \"+\", в результате мы не получим сложение каждого элемента списков друг с другом."
   ]
  },
  {
   "cell_type": "code",
   "execution_count": 113,
   "metadata": {},
   "outputs": [
    {
     "data": {
      "text/plain": [
       "[5, 6, 7, 8, 1, 2, 3, 4]"
      ]
     },
     "execution_count": 113,
     "metadata": {},
     "output_type": "execute_result"
    }
   ],
   "source": [
    "L1 = [5,6,7,8]\n",
    "L2 = [1,2,3,4]\n",
    "L1+L2 #получили список из 8 элементов, а не список [6, 8, 10, 12]. То есть + не про сложение элементов, а про объединение списков"
   ]
  },
  {
   "cell_type": "code",
   "execution_count": 112,
   "metadata": {},
   "outputs": [
    {
     "data": {
      "text/plain": [
       "[1, 2, 3, 4, 5, 6, 7, 8]"
      ]
     },
     "execution_count": 112,
     "metadata": {},
     "output_type": "execute_result"
    }
   ],
   "source": [
    "L2+L1 #можем менять порядок, тогда изменится порядок"
   ]
  },
  {
   "cell_type": "code",
   "execution_count": 117,
   "metadata": {},
   "outputs": [
    {
     "data": {
      "text/plain": [
       "[5, 6, 7, 8, 1, 2, 3, 4, 1, 3]"
      ]
     },
     "execution_count": 117,
     "metadata": {},
     "output_type": "execute_result"
    }
   ],
   "source": [
    "L3=[1,3]\n",
    "L1+L2+L3 #можно складывать какое угодно количество списков, не обязательно только 2"
   ]
  },
  {
   "cell_type": "markdown",
   "metadata": {},
   "source": [
    "А вот вычитание невозможно. Использование знака \"-\" выдаст вам ошибку: "
   ]
  },
  {
   "cell_type": "code",
   "execution_count": 70,
   "metadata": {},
   "outputs": [
    {
     "ename": "TypeError",
     "evalue": "unsupported operand type(s) for -: 'list' and 'list'",
     "output_type": "error",
     "traceback": [
      "\u001b[1;31m---------------------------------------------------------------------------\u001b[0m",
      "\u001b[1;31mTypeError\u001b[0m                                 Traceback (most recent call last)",
      "\u001b[1;32m<ipython-input-70-3637b0f32b48>\u001b[0m in \u001b[0;36m<module>\u001b[1;34m\u001b[0m\n\u001b[1;32m----> 1\u001b[1;33m \u001b[0mL1\u001b[0m\u001b[1;33m-\u001b[0m\u001b[0mL2\u001b[0m\u001b[1;33m\u001b[0m\u001b[1;33m\u001b[0m\u001b[0m\n\u001b[0m",
      "\u001b[1;31mTypeError\u001b[0m: unsupported operand type(s) for -: 'list' and 'list'"
     ]
    }
   ],
   "source": [
    "L1-L2"
   ]
  },
  {
   "cell_type": "markdown",
   "metadata": {},
   "source": [
    "### Умножение\n",
    "Python также позволяет умножать список в n раз. Результирующий список - это исходный список, повторенный n раз."
   ]
  },
  {
   "cell_type": "code",
   "execution_count": 119,
   "metadata": {},
   "outputs": [
    {
     "data": {
      "text/plain": [
       "[1, 2, 3, 4, 1, 2, 3, 4, 1, 2, 3, 4]"
      ]
     },
     "execution_count": 119,
     "metadata": {},
     "output_type": "execute_result"
    }
   ],
   "source": [
    "L1 = [1,2,3,4] \n",
    "L1*3 "
   ]
  },
  {
   "cell_type": "markdown",
   "metadata": {},
   "source": [
    "# 2.2 Кортежи\n",
    "Кортеж (tuple) - это набор упорядоченных и неизменяемых объектов. Кортежи - это последовательности, как и списки. Различия между кортежами и списками заключаются в том, что кортежи нельзя изменить. Зачем нам нужна неизменяемость?  Благодаря свойству неизменяемости кортеж защищен от намеренных и случайных изменений.\n",
    "\n",
    "Чтобы записать кортеж используйте круглые скобки (для списков мы использовали квадратные). "
   ]
  },
  {
   "cell_type": "code",
   "execution_count": 120,
   "metadata": {},
   "outputs": [
    {
     "data": {
      "text/plain": [
       "()"
      ]
     },
     "execution_count": 120,
     "metadata": {},
     "output_type": "execute_result"
    }
   ],
   "source": [
    "# Пустой кортеж\n",
    "T1 = ()\n",
    "T1"
   ]
  },
  {
   "cell_type": "code",
   "execution_count": 121,
   "metadata": {},
   "outputs": [
    {
     "data": {
      "text/plain": [
       "(1, 2, 3)"
      ]
     },
     "execution_count": 121,
     "metadata": {},
     "output_type": "execute_result"
    }
   ],
   "source": [
    "# Кортеж с целыми числами\n",
    "T2 = (1, 2, 3)\n",
    "T2"
   ]
  },
  {
   "cell_type": "code",
   "execution_count": 122,
   "metadata": {},
   "outputs": [
    {
     "data": {
      "text/plain": [
       "(1, 'Hello', 3.4)"
      ]
     },
     "execution_count": 122,
     "metadata": {},
     "output_type": "execute_result"
    }
   ],
   "source": [
    "# Кортеж с разными типами данных\n",
    "T3 = (1, \"Hello\", 3.4)\n",
    "T3"
   ]
  },
  {
   "cell_type": "code",
   "execution_count": 123,
   "metadata": {},
   "outputs": [
    {
     "name": "stdout",
     "output_type": "stream",
     "text": [
      "('кошка', [8, 4, 6], (1, 2, 3))\n"
     ]
    }
   ],
   "source": [
    "# Вложенный кортеж\n",
    "T4 = (\"кошка\", [8, 4, 6], (1, 2, 3))\n",
    "print(T4)"
   ]
  },
  {
   "cell_type": "markdown",
   "metadata": {},
   "source": [
    "Индексы существуют для кортежей и расставляются так же:"
   ]
  },
  {
   "cell_type": "code",
   "execution_count": 136,
   "metadata": {},
   "outputs": [
    {
     "data": {
      "text/plain": [
       "3"
      ]
     },
     "execution_count": 136,
     "metadata": {},
     "output_type": "execute_result"
    }
   ],
   "source": [
    "T1=(1, 2, 3, 4)\n",
    "T1[2] #элемент кортежа с индексом 2"
   ]
  },
  {
   "cell_type": "markdown",
   "metadata": {},
   "source": [
    "В отличие от списков, кортежи неизменяемы. Это означает, что элементы кортежа нельзя изменить после того, как они были назначены. Продемонстрируем это:"
   ]
  },
  {
   "cell_type": "code",
   "execution_count": 134,
   "metadata": {},
   "outputs": [
    {
     "ename": "TypeError",
     "evalue": "'tuple' object does not support item assignment",
     "output_type": "error",
     "traceback": [
      "\u001b[1;31m---------------------------------------------------------------------------\u001b[0m",
      "\u001b[1;31mTypeError\u001b[0m                                 Traceback (most recent call last)",
      "\u001b[1;32m<ipython-input-134-944619e3fc03>\u001b[0m in \u001b[0;36m<module>\u001b[1;34m\u001b[0m\n\u001b[0;32m      1\u001b[0m \u001b[0mL1\u001b[0m \u001b[1;33m=\u001b[0m \u001b[1;33m(\u001b[0m\u001b[1;36m1\u001b[0m\u001b[1;33m,\u001b[0m\u001b[1;36m2\u001b[0m\u001b[1;33m,\u001b[0m\u001b[1;36m3\u001b[0m\u001b[1;33m,\u001b[0m\u001b[1;36m4\u001b[0m\u001b[1;33m)\u001b[0m\u001b[1;33m\u001b[0m\u001b[1;33m\u001b[0m\u001b[0m\n\u001b[1;32m----> 2\u001b[1;33m \u001b[0mL1\u001b[0m\u001b[1;33m[\u001b[0m\u001b[1;36m0\u001b[0m\u001b[1;33m]\u001b[0m\u001b[1;33m=\u001b[0m\u001b[1;34m\"one\"\u001b[0m \u001b[1;31m# Заменяем элемент с индексом 0 на новый элемент\u001b[0m\u001b[1;33m\u001b[0m\u001b[1;33m\u001b[0m\u001b[0m\n\u001b[0m\u001b[0;32m      3\u001b[0m \u001b[0mL1\u001b[0m \u001b[1;31m# выводим и получаем ошибку 'tuple' object does not support item assignment, что переводится как \"объект 'кортеж' не поддерживает подобное действие\")\u001b[0m\u001b[1;33m\u001b[0m\u001b[1;33m\u001b[0m\u001b[0m\n",
      "\u001b[1;31mTypeError\u001b[0m: 'tuple' object does not support item assignment"
     ]
    }
   ],
   "source": [
    "L1 = (1,2,3,4)\n",
    "L1[0]=\"one\" # Заменяем элемент с индексом 0 на новый элемент \n",
    "L1 # выводим и получаем ошибку 'tuple' object does not support item assignment, что переводится как \"объект 'кортеж' не поддерживает подобное действие\")"
   ]
  },
  {
   "cell_type": "markdown",
   "metadata": {},
   "source": [
    "Но если один из элементов кортежа сам по себе является изменяемым типом данных, например списком, то вложенные элементы этого элемента могут быть изменены."
   ]
  },
  {
   "cell_type": "code",
   "execution_count": 137,
   "metadata": {},
   "outputs": [
    {
     "data": {
      "text/plain": [
       "(4, 2, 3, [9, 5])"
      ]
     },
     "execution_count": 137,
     "metadata": {},
     "output_type": "execute_result"
    }
   ],
   "source": [
    "T1 = (4, 2, 3, [6, 5])\n",
    "T1[3][0] = 9 #список имеет индекс 3, в этом элементе мы меняем элемент с индексом 0 на 9, то есть 6 должно измениться на 9\n",
    "T1 "
   ]
  },
  {
   "cell_type": "markdown",
   "metadata": {},
   "source": [
    "# Множества\n",
    "Множество (set) - это неупорядоченный набор элементов. Каждый элемент набора уникален (без дубликатов) и должен быть неизменным (не может быть изменен).Однако, мы можем добавлять в него элементы или удалять их.\n",
    "Множества также могут использоваться для выполнения математических операций, таких как объединение, пересечение, симметричная разность и т.д."
   ]
  },
  {
   "cell_type": "markdown",
   "metadata": {},
   "source": [
    "Множество создается путем помещения всех элементов в фигурные скобки {}, разделенных запятыми, или с помощью встроенной функции set (). Оно может иметь любое количество элементов, и они могут быть разных типов (целые числа, кортеж, строка и т.д.). Но набор не может иметь в качестве своих элементов изменяемые элементы, такие как списки, наборы или словари."
   ]
  },
  {
   "cell_type": "code",
   "execution_count": 76,
   "metadata": {},
   "outputs": [
    {
     "name": "stdout",
     "output_type": "stream",
     "text": [
      "{1, 2, 3}\n"
     ]
    }
   ],
   "source": [
    "# Множество целых чисел\n",
    "S1 = {1, 2, 3}\n",
    "print(S1)"
   ]
  },
  {
   "cell_type": "code",
   "execution_count": 77,
   "metadata": {},
   "outputs": [
    {
     "name": "stdout",
     "output_type": "stream",
     "text": [
      "{1.0, 'Hello', (1, 2, 3)}\n"
     ]
    }
   ],
   "source": [
    "# Множество с разными типами данных\n",
    "S2 = {1.0, \"Hello\", (1, 2, 3)}\n",
    "print(S2)"
   ]
  },
  {
   "cell_type": "markdown",
   "metadata": {},
   "source": [
    "# Пример использования множества\n",
    "Множества могут использоваться для выполнения математических операций, таких как объединение, пересечение, разность и симметричная разность. Чтобы лучше понять, как выглядят все операции, посмотрите лекцию 2на Youtube канале или прочитайте дополнительно о кругах Эйлера."
   ]
  },
  {
   "cell_type": "code",
   "execution_count": 138,
   "metadata": {},
   "outputs": [
    {
     "name": "stdout",
     "output_type": "stream",
     "text": [
      "{1, 2, 3, 4, 5, 6, 7, 8}\n"
     ]
    }
   ],
   "source": [
    "S1 = {1, 2, 3, 4, 5} \n",
    "S2 = {4, 5, 6, 7, 8}\n",
    "#Множества S1 и S2 содержат общие элементы 4 и 5\n",
    "print(S1 | S2) # Объединение множеств"
   ]
  },
  {
   "cell_type": "code",
   "execution_count": 80,
   "metadata": {},
   "outputs": [
    {
     "name": "stdout",
     "output_type": "stream",
     "text": [
      "{4, 5}\n"
     ]
    }
   ],
   "source": [
    "S1 = {1, 2, 3, 4, 5}\n",
    "S2 = {4, 5, 6, 7, 8}\n",
    "print(S1 & S2) # Пересечение множеств"
   ]
  },
  {
   "cell_type": "code",
   "execution_count": 81,
   "metadata": {},
   "outputs": [
    {
     "name": "stdout",
     "output_type": "stream",
     "text": [
      "{1, 2, 3}\n"
     ]
    }
   ],
   "source": [
    "S1 = {1, 2, 3, 4, 5}\n",
    "S2 = {4, 5, 6, 7, 8}\n",
    "print(S1 - S2) # Разность"
   ]
  },
  {
   "cell_type": "code",
   "execution_count": 83,
   "metadata": {},
   "outputs": [
    {
     "name": "stdout",
     "output_type": "stream",
     "text": [
      "{1, 2, 3, 6, 7, 8}\n"
     ]
    }
   ],
   "source": [
    "S1 = {1, 2, 3, 4, 5}\n",
    "S2 = {4, 5, 6, 7, 8}\n",
    "print(S1 ^ S2) # Симметричная разность"
   ]
  }
 ],
 "metadata": {
  "kernelspec": {
   "display_name": "Python 3",
   "language": "python",
   "name": "python3"
  },
  "language_info": {
   "codemirror_mode": {
    "name": "ipython",
    "version": 3
   },
   "file_extension": ".py",
   "mimetype": "text/x-python",
   "name": "python",
   "nbconvert_exporter": "python",
   "pygments_lexer": "ipython3",
   "version": "3.7.6"
  }
 },
 "nbformat": 4,
 "nbformat_minor": 4
}
