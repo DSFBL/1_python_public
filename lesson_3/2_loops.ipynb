{
 "cells": [
  {
   "cell_type": "markdown",
   "metadata": {},
   "source": [
    "# Циклы"
   ]
  },
  {
   "cell_type": "markdown",
   "metadata": {},
   "source": [
    "В Python есть два типа циклов –– for и while."
   ]
  },
  {
   "cell_type": "markdown",
   "metadata": {},
   "source": [
    "# for\n",
    "Цикл for в Python используется для перебора последовательности (списка, кортежа, строки) или других объектов."
   ]
  },
  {
   "cell_type": "code",
   "execution_count": null,
   "metadata": {},
   "outputs": [],
   "source": [
    "# Синтаксис\n",
    "for var in sequence:\n",
    "    Body of for"
   ]
  },
  {
   "cell_type": "markdown",
   "metadata": {},
   "source": [
    "Здесь var - это переменная, которая принимает значение элемента внутри последовательности на каждой итерации. Цикл продолжается, пока мы не дойдем до последнего элемента в последовательности. Тело цикла for отделяется от остального кода с помощью отступов Tab\n",
    "# Пример\n",
    "Рассмотрим пример работающего цикла в списке"
   ]
  },
  {
   "cell_type": "code",
   "execution_count": 6,
   "metadata": {},
   "outputs": [
    {
     "name": "stdout",
     "output_type": "stream",
     "text": [
      "48\n"
     ]
    }
   ],
   "source": [
    "# Найти сумму всех чисел в списке\n",
    "\n",
    "# Список чисел\n",
    "L1 = [6, 5, 3, 8, 4, 2, 5, 4, 11]\n",
    "\n",
    "# Переменная для искомой суммы\n",
    "sum = 0\n",
    "\n",
    "# Цикл, который будет работать в списке\n",
    "for var in L1:\n",
    "    sum = sum+var\n",
    "\n",
    "print(sum)"
   ]
  },
  {
   "cell_type": "markdown",
   "metadata": {},
   "source": [
    "# Функция range()\n",
    "\n",
    "Мы можем сгенерировать последовательность чисел с помощью функции range (). range (10) будет генерировать числа от 0 до 9 (10 чисел).\n",
    "Range не хранит все значения в памяти. Чтобы выводить все элементы в списке, мы можем использовать функцию list ()."
   ]
  },
  {
   "cell_type": "code",
   "execution_count": 10,
   "metadata": {},
   "outputs": [
    {
     "name": "stdout",
     "output_type": "stream",
     "text": [
      "range(0, 10)\n",
      "[0, 1, 2, 3, 4, 5, 6, 7, 8, 9]\n"
     ]
    }
   ],
   "source": [
    "print(range(10)) # Пример без списка\n",
    "print(list(range(10))) # Пример с использованием списка list()"
   ]
  },
  {
   "cell_type": "markdown",
   "metadata": {},
   "source": [
    "Можно использовать функцию range () в циклах for для перебора последовательности чисел. Можно также комбинировать с функцией len () для перебора последовательности с использованием индексации. Например:"
   ]
  },
  {
   "cell_type": "code",
   "execution_count": 14,
   "metadata": {},
   "outputs": [
    {
     "name": "stdout",
     "output_type": "stream",
     "text": [
      "Я люблю яблоки\n",
      "Я люблю груши\n",
      "Я люблю ананасы\n"
     ]
    }
   ],
   "source": [
    "Fruit = ['яблоки', 'груши', 'ананасы']\n",
    "\n",
    "for i in range(len(Fruit)):\n",
    "    print(\"Я люблю\", Fruit[i])"
   ]
  },
  {
   "cell_type": "markdown",
   "metadata": {},
   "source": [
    "# for/else"
   ]
  },
  {
   "cell_type": "markdown",
   "metadata": {},
   "source": [
    "К циклу for можно также добавить блок else. Часть else выполняется, если элементы в последовательности, использованной в цикле for, исчерпываются.\n",
    "\n",
    "Break можно использовать для остановки цикла for. В таких случаях часть else игнорируется.\n",
    "Например, можно перечислить все числа, которые заключены в список и вывести сообщение о том, что список закончился.\n"
   ]
  },
  {
   "cell_type": "code",
   "execution_count": 15,
   "metadata": {},
   "outputs": [
    {
     "name": "stdout",
     "output_type": "stream",
     "text": [
      "1\n",
      "2\n",
      "3\n",
      "4\n",
      "5\n",
      "Перечисление закончено\n"
     ]
    }
   ],
   "source": [
    "L1 = [1, 2, 3, 4, 5]\n",
    "\n",
    "for i in L1:\n",
    "    print(i)\n",
    "else:\n",
    "    print(\"Перечисление закончено\")"
   ]
  },
  {
   "cell_type": "markdown",
   "metadata": {},
   "source": [
    "# While/else"
   ]
  },
  {
   "cell_type": "markdown",
   "metadata": {},
   "source": [
    "Цикл while в Python используется для перебора блока кода, пока проверочное условие истинно. Синтаксис похож на тот, который мы применяем в for\n",
    "Обычно мы используем этот цикл, когда заранее не знаем, сколько раз нужно выполнить итерацию.\n",
    "Часть else выполняется, если условие в цикле while проверочное условие не является истиной."
   ]
  },
  {
   "cell_type": "code",
   "execution_count": 19,
   "metadata": {},
   "outputs": [
    {
     "name": "stdout",
     "output_type": "stream",
     "text": [
      "10\n",
      "9\n",
      "8\n",
      "7\n",
      "Цикл завершен\n"
     ]
    }
   ],
   "source": [
    "num = 10\n",
    "while num > 6:\n",
    "   print(num)\n",
    "   num = num-1\n",
    "else:\n",
    "   print(\"Цикл завершен\")"
   ]
  },
  {
   "cell_type": "markdown",
   "metadata": {},
   "source": [
    "Цикл while можно завершить с помощью оператора break. В таких случаях часть else игнорируется. Следовательно, часть else цикла while выполняется, если не происходит разрыва и условие ложно."
   ]
  },
  {
   "cell_type": "code",
   "execution_count": null,
   "metadata": {},
   "outputs": [],
   "source": []
  }
 ],
 "metadata": {
  "kernelspec": {
   "display_name": "Python 3",
   "language": "python",
   "name": "python3"
  },
  "language_info": {
   "codemirror_mode": {
    "name": "ipython",
    "version": 3
   },
   "file_extension": ".py",
   "mimetype": "text/x-python",
   "name": "python",
   "nbconvert_exporter": "python",
   "pygments_lexer": "ipython3",
   "version": "3.6.6"
  }
 },
 "nbformat": 4,
 "nbformat_minor": 4
}
