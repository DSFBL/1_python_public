{
 "cells": [
  {
   "cell_type": "markdown",
   "metadata": {},
   "source": [
    "\n",
    "# Повторим циклы?:) \n",
    "\n",
    "\n",
    "Сегодня мы поговорим про очень полезную штуку - циклы!\n",
    "\n",
    "Ты можешь спросить: \"А зачем мне это вообще?\" Часто возникают ситуации, в которых вам необходимо выполнить блок кода несколько раз. Как правило, одна и та же команда повторяется и команды выполняются одна вслед за другой. Ну да, мы можем написать код в лоб. Но существуют способы зациклить код, сделать его красивым и менее тяжелым - давай познакомимся с ними и научимся писать!\n",
    "\n",
    "В Python существуют следующют два типа цикличных выражений:\n",
    "\n",
    "1. цикл for\n",
    "2. цикл while\n",
    "\n",
    "Представляете, уже на этом этап вы научитесь что-то оптимизировать: сможете не писать по 10 раз одну и ту же строчку, а просто написать цикл. Сколько рутинной работы можно решить, просто написав короткий цикл. \n",
    "\n",
    "Заинтересовали? Окей, тогда полный вперед;)"
   ]
  },
  {
   "cell_type": "markdown",
   "metadata": {},
   "source": [
    "# Функция range()\n",
    "\n",
    "*Прежде чем говорить про циклы, выучим полезную штуку для них.*\n",
    "\n",
    "Мы можем сгенерировать последовательность целых чисел с помощью функции **range ().** \n",
    "\n",
    "**СТРУКТУРА ФУНКЦИИ RANGE:**\n",
    "*list(range(\"нижняя граница\", \"верхняя граница\", \"шаг\"))*\n",
    "\n",
    "По умолчанию нижняя граница - 0 (не 1), а верхняя граница (то есть то число, что мы указываем в скобках, например, 10) не включается. Шаг - единица. Но эти параметры можно менять - посмотрим ниже как.\n",
    "\n",
    "Range не хранит все значения в памяти. Чтобы выводить все элементы в списке, мы можем использовать функцию list ()."
   ]
  },
  {
   "cell_type": "code",
   "execution_count": 10,
   "metadata": {},
   "outputs": [
    {
     "name": "stdout",
     "output_type": "stream",
     "text": [
      "range(0, 10)\n",
      "[0, 1, 2, 3, 4, 5, 6, 7, 8, 9]\n"
     ]
    }
   ],
   "source": [
    "print(range(10)) # Пример без списка\n",
    "print(list(range(10))) # Пример с использованием списка list()"
   ]
  },
  {
   "cell_type": "code",
   "execution_count": 1,
   "metadata": {},
   "outputs": [
    {
     "data": {
      "text/plain": [
       "range(0, 10)"
      ]
     },
     "execution_count": 1,
     "metadata": {},
     "output_type": "execute_result"
    }
   ],
   "source": [
    "range(10) #как видим, никакой посследовательности мы не получили"
   ]
  },
  {
   "cell_type": "code",
   "execution_count": 1,
   "metadata": {},
   "outputs": [
    {
     "data": {
      "text/plain": [
       "[0, 1, 2, 3, 4, 5, 6, 7, 8, 9]"
      ]
     },
     "execution_count": 1,
     "metadata": {},
     "output_type": "execute_result"
    }
   ],
   "source": [
    "list(range(10)) #вот так надо записывать, чтоб получить последовательность. Это пример range от 0 до 9"
   ]
  },
  {
   "cell_type": "code",
   "execution_count": 1,
   "metadata": {},
   "outputs": [
    {
     "data": {
      "text/plain": [
       "[1, 2, 3, 4, 5, 6, 7, 8, 9, 10]"
      ]
     },
     "execution_count": 1,
     "metadata": {},
     "output_type": "execute_result"
    }
   ],
   "source": [
    "list(range(1, 11)) #поменяли нижнюю границу по умолчанию с 0 на 1. Шаг еще равен 1 по умолчанию"
   ]
  },
  {
   "cell_type": "code",
   "execution_count": 2,
   "metadata": {},
   "outputs": [
    {
     "data": {
      "text/plain": [
       "[1, 3, 5, 7, 9]"
      ]
     },
     "execution_count": 2,
     "metadata": {},
     "output_type": "execute_result"
    }
   ],
   "source": [
    "list(range(1, 11, 2)) #тут уже поменяли шаг с 1 на 2 (каждое второе число от 1 до 10)"
   ]
  },
  {
   "cell_type": "code",
   "execution_count": 4,
   "metadata": {},
   "outputs": [
    {
     "data": {
      "text/plain": [
       "[-10, -9, -8, -7, -6, -5, -4, -3, -2, -1]"
      ]
     },
     "execution_count": 4,
     "metadata": {},
     "output_type": "execute_result"
    }
   ],
   "source": [
    "list(range(-10, 0, 1)) #пример последовательности отрицательных чисел"
   ]
  },
  {
   "cell_type": "code",
   "execution_count": 9,
   "metadata": {},
   "outputs": [
    {
     "data": {
      "text/plain": [
       "[20, 19, 18, 17, 16, 15, 14, 13, 12, 11]"
      ]
     },
     "execution_count": 9,
     "metadata": {},
     "output_type": "execute_result"
    }
   ],
   "source": [
    "list(range(20, 10, -1)) #шаг тоже может быть отрицательным. Только тогда первое число>второго, иначе будет пустая последовательность"
   ]
  },
  {
   "cell_type": "markdown",
   "metadata": {},
   "source": [
    "**ПАМЯТКА**\n",
    "\n",
    "Обобщим то, что мы теперь знаем про функцию range.\n",
    "\n",
    "Она имеет структуру: range(A, B, N), где A, B, N - это какие-то целые числа. А - это нижняя граница, B - это верхняя граница, N - шаг. Все числа могут быть как положительными, так и отрицательными. \n",
    "\n",
    "**Мы можем записать функцию с 1, 2 или всеми 3 аргументами:**\n",
    "1. list (range(В)) - выдаст последовательность от 0 до числа В-1 (если В=10, то до 9) с шагом 1\n",
    "2. list (range(A,B)) - выдаст последовательность целых чисел от А до B-1 с шагом 1\n",
    "3. list (range(A,B,N)) - выдаст последовательность целых чисел от А до В-1 с шагом N \n",
    "\n",
    "Ну что ж, подготовка завершилась, теперь во всеоружии перейдем к циклам!"
   ]
  },
  {
   "cell_type": "markdown",
   "metadata": {},
   "source": [
    "# Цикл for/else"
   ]
  },
  {
   "cell_type": "markdown",
   "metadata": {},
   "source": [
    "Познакомимся с первом типом циклов. Цикл for в Python перебирает элементы итерируемых данных (то есть не из одного элемента) таких как список* или строка.\n",
    "\n",
    "(если забыл_а что такое список, то не беда, беги в [Урок 2]( https://github.com/DSFBL/1_python_public/blob/main/lesson_2/2_lists_sets.ipynb))\n",
    "\n",
    "Как устроен цикл: "
   ]
  },
  {
   "cell_type": "code",
   "execution_count": null,
   "metadata": {},
   "outputs": [],
   "source": [
    "for переменная in условие: #задаем условие. как раз тут используем функцию range, которую уже знаем\n",
    "    тело цикла #грубо говоря, что наш цикл должен делать\n",
    "    print #выдает результат"
   ]
  },
  {
   "cell_type": "markdown",
   "metadata": {},
   "source": [
    "**Простая задачка:** напишем цикл, который выдаст нам все числа от 0 до 10, которые делятся на 3 без остатка (в математике это называет кратны 3 ;) "
   ]
  },
  {
   "cell_type": "code",
   "execution_count": 18,
   "metadata": {},
   "outputs": [
    {
     "name": "stdout",
     "output_type": "stream",
     "text": [
      "0 кратно 3\n",
      "3 кратно 3\n",
      "6 кратно 3\n",
      "9 кратно 3\n"
     ]
    }
   ],
   "source": [
    "for i in range(11): #для каждого объекта i из последовательности от 0 до 10 (с шагом 1)\n",
    "    if i%3==0: #не понимаешь, что тут написано? вернись в урок 1 раздел \"Арифметика\"\n",
    "        print(i, 'кратно 3')"
   ]
  },
  {
   "cell_type": "markdown",
   "metadata": {},
   "source": [
    "К циклу for можно добавить блок else - если условие для for не выполняется, то выдается результат по else:"
   ]
  },
  {
   "cell_type": "code",
   "execution_count": 21,
   "metadata": {},
   "outputs": [
    {
     "name": "stdout",
     "output_type": "stream",
     "text": [
      "0 кратно 3\n",
      "1 некратно 3\n",
      "2 некратно 3\n",
      "3 кратно 3\n",
      "4 некратно 3\n",
      "5 некратно 3\n",
      "6 кратно 3\n",
      "7 некратно 3\n",
      "8 некратно 3\n",
      "9 кратно 3\n",
      "10 некратно 3\n"
     ]
    }
   ],
   "source": [
    "for i in range(11): \n",
    "    if i%3==0: \n",
    "        print(i, 'кратно 3')\n",
    "    else: \n",
    "        print (i, \"некратно 3\")\n",
    "    "
   ]
  },
  {
   "cell_type": "markdown",
   "metadata": {},
   "source": [
    "Ты спросишь нас: \"А я могу несколько условий сделать?\" и ответ будет да! Смотри:"
   ]
  },
  {
   "cell_type": "code",
   "execution_count": 33,
   "metadata": {},
   "outputs": [
    {
     "name": "stdout",
     "output_type": "stream",
     "text": [
      "0 это число четное\n",
      "1 некратно 2 и 3\n",
      "2 это число четное\n",
      "3 число кратно 3\n",
      "4 это число четное\n",
      "5 некратно 2 и 3\n",
      "6 это число четное\n",
      "7 некратно 2 и 3\n",
      "8 это число четное\n",
      "9 число кратно 3\n",
      "10 это число четное\n",
      "задача решена и я супер-победитель_ница\n"
     ]
    }
   ],
   "source": [
    "for i in range(11): \n",
    "    if i%2==0: \n",
    "        print(i, 'это число четное')\n",
    "    elif i%3==0: \n",
    "        print(i, 'число кратно 3')    \n",
    "    else: \n",
    "        print (i, \"некратно 2 и 3\")\n",
    "print(\"задача решена, и я супер-победитель_ница\")"
   ]
  },
  {
   "cell_type": "code",
   "execution_count": null,
   "metadata": {},
   "outputs": [],
   "source": [
    "#просто напоминалка про то, как правильно записывать условие для цикла\n",
    "for i in range() # вот так надо\n",
    "for i in list(range()) # а вот так не надо"
   ]
  },
  {
   "cell_type": "markdown",
   "metadata": {},
   "source": [
    "## Операторы break / continue"
   ]
  },
  {
   "cell_type": "markdown",
   "metadata": {},
   "source": [
    "Мы можем использовать в циклах 2 полезных оператора. Оператор **break** досрочно прерывает цикл. Оператор **continue** прерывает текущую итерацию цикла и начинает следующую. В чем разница?"
   ]
  },
  {
   "cell_type": "code",
   "execution_count": 37,
   "metadata": {},
   "outputs": [],
   "source": [
    "myList_2 = [2, 4, 6, 3, 7, 8]"
   ]
  },
  {
   "cell_type": "code",
   "execution_count": 10,
   "metadata": {},
   "outputs": [
    {
     "name": "stdout",
     "output_type": "stream",
     "text": [
      "2\n",
      "4\n",
      "6\n"
     ]
    }
   ],
   "source": [
    "for num in myList_2:\n",
    "    if num % 2 != 0: \n",
    "        break\n",
    "    print(num) #после первого нечетного числа прервалось"
   ]
  },
  {
   "cell_type": "code",
   "execution_count": 40,
   "metadata": {},
   "outputs": [
    {
     "name": "stdout",
     "output_type": "stream",
     "text": [
      "2\n",
      "4\n",
      "6\n",
      "8\n"
     ]
    }
   ],
   "source": [
    "for num in myList_2:\n",
    "    if num % 2 != 0:\n",
    "        continue\n",
    "    print(num) #после первого нечетного числа продолжило поиск заново (итерацию завершили - начали новую)"
   ]
  },
  {
   "cell_type": "code",
   "execution_count": 39,
   "metadata": {
    "scrolled": true
   },
   "outputs": [
    {
     "name": "stdout",
     "output_type": "stream",
     "text": [
      "2\n",
      "4\n",
      "6\n",
      "3\n"
     ]
    }
   ],
   "source": [
    "for i in myList_2: #просто показываем, что будет если сдвинуть break в конец\n",
    "    print(i)\n",
    "    if i % 2 != 0:\n",
    "        break"
   ]
  },
  {
   "cell_type": "markdown",
   "metadata": {},
   "source": [
    "# While/else"
   ]
  },
  {
   "cell_type": "markdown",
   "metadata": {},
   "source": [
    "Цикл while в Python повторяет указанный блок кода до тех пор, пока указанное в цикле условие будет оставаться истинным.Обычно мы используем этот цикл, когда заранее не знаем, сколько раз нужно выполнить итерацию.\n",
    "\n",
    "Цикл while в Python записывается следующим образом:"
   ]
  },
  {
   "cell_type": "code",
   "execution_count": null,
   "metadata": {},
   "outputs": [],
   "source": [
    "while условие\n",
    "    print () #выражение"
   ]
  },
  {
   "cell_type": "markdown",
   "metadata": {},
   "source": [
    "Else так же применим для while:"
   ]
  },
  {
   "cell_type": "code",
   "execution_count": 19,
   "metadata": {},
   "outputs": [
    {
     "name": "stdout",
     "output_type": "stream",
     "text": [
      "10\n",
      "9\n",
      "8\n",
      "7\n",
      "Цикл завершен\n"
     ]
    }
   ],
   "source": [
    "num = 10 \n",
    "while num > 6:\n",
    "   print(num)\n",
    "   num = num-1\n",
    "else:\n",
    "   print(\"Цикл завершен\")"
   ]
  },
  {
   "cell_type": "markdown",
   "metadata": {},
   "source": [
    "Цикл while можно завершить с помощью оператора break. В таких случаях часть else игнорируется. Следовательно, часть else цикла while выполняется, если не происходит разрыва и условие ложно."
   ]
  }
 ],
 "metadata": {
  "kernelspec": {
   "display_name": "Python 3",
   "language": "python",
   "name": "python3"
  },
  "language_info": {
   "codemirror_mode": {
    "name": "ipython",
    "version": 3
   },
   "file_extension": ".py",
   "mimetype": "text/x-python",
   "name": "python",
   "nbconvert_exporter": "python",
   "pygments_lexer": "ipython3",
   "version": "3.8.3"
  }
 },
 "nbformat": 4,
 "nbformat_minor": 2
}
