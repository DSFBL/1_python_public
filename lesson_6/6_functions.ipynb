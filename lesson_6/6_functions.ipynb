{
 "cells": [
  {
   "cell_type": "markdown",
   "metadata": {},
   "source": [
    "# Функции"
   ]
  },
  {
   "cell_type": "markdown",
   "metadata": {},
   "source": [
    "Функцией называют именованный фрагмент программного кода, к которому можно обратиться из другого места вашей программы. Разберемся, что это означает. Под именнованным фрагментом понимают индивидуальное имя функции, под которым «записывается» определенный порядок действий, который мы хотим совершить с какими-либо данными. Данный порядок «записывается» программным кодом – грубо говоря, это текст, написаный на языке программирования, который «дает команду» программе на выполнение операций. Это можно сравнить с инструкцией, которую пользователь пишет для системы. Главная задача функций – работа с данными. Данные, с которыми работает функция, выступают в ней аргументами. Также функция может формировать некоторое возвращаемое значение. \n",
    "\n",
    "Как и другие сложные инструкции вроде условного оператора и циклов функция состоит из заголовка и тела. Заголовок оканчивается двоеточием и переходом на новую строку. Тело имеет отступ.\n",
    "\n",
    "Функция обычно определеяется с помощью ключевого слова def (от английского - define). Ключевое слово def сообщает интерпретатору, что перед ним именно функция. За def следует имя функции. Оно может быть любым, но мы рекомендуем выбирать такое, чтобы вам и людям, которые будут читать ваш код, было сразу понятно, что эта функция делает. После имени функции ставятся скобки, которые могут быть пустые или же содержать аргументы. Затем - двоеточие, после которого следует тело, содержащее инструкции, которые выполняются при вызове функции. Кроме того, тело имеет отступ в четыре пробела.\n",
    "\n",
    "Для примера напишем простейшую функцию, которая не принимает никаких аргументов и не делает ничего, кроме вывода предопределенного текста на экран:"
   ]
  },
  {
   "cell_type": "code",
   "execution_count": 2,
   "metadata": {},
   "outputs": [],
   "source": [
    "def first_function():\n",
    "    print(\"Это моя первая функция!\")"
   ]
  },
  {
   "cell_type": "markdown",
   "metadata": {},
   "source": [
    "Вызвать функцию довольно просто - вам нужно лишь ввести название функции. На нашем примере убедимся, что first_function действительно не делает ничего, кроме отображения текста:"
   ]
  },
  {
   "cell_type": "code",
   "execution_count": 3,
   "metadata": {},
   "outputs": [
    {
     "name": "stdout",
     "output_type": "stream",
     "text": [
      "Это моя первая функция!\n"
     ]
    }
   ],
   "source": [
    "first_function()"
   ]
  },
  {
   "cell_type": "markdown",
   "metadata": {},
   "source": [
    "Иногда, когда вы пишете какую-либо программу, вам нужно просто ввести определение функции, которое не содержит в себе код - по сути написать пустую функцию. Пустая функция может понадобиться для тестирования, набросков кода, создания абстрактного класса и т.д. Конечно, это больше относится к разработке, нежели к data science, но иметь небольшое представление о таком типе функции не будет лишним (кроме того, мы в скором времени будем обсуждать основы объектно-ориентированного программирования, где эти концепции нередко используются).\n",
    "\n",
    "Такая функция будет выглядеть следующим образом:"
   ]
  },
  {
   "cell_type": "code",
   "execution_count": 4,
   "metadata": {},
   "outputs": [],
   "source": [
    "def empty_func():\n",
    "    pass"
   ]
  },
  {
   "cell_type": "markdown",
   "metadata": {},
   "source": [
    "Здесь мы можем увидеть новый оператор: pass. Это пустая операция, которая означает, что когда оператор pass выполняется, не происходит ничего.\n",
    "\n",
    "Если же мы попытаемся вывести на экран результат выполнения функции, нам вернется значение None:"
   ]
  },
  {
   "cell_type": "code",
   "execution_count": 5,
   "metadata": {},
   "outputs": [
    {
     "name": "stdout",
     "output_type": "stream",
     "text": [
      "None\n"
     ]
    }
   ],
   "source": [
    "print(empty_func())"
   ]
  },
  {
   "cell_type": "markdown",
   "metadata": {},
   "source": [
    "Если, однако, мы хотим, чтобы функция возвращала определенное значение, нужно использовать ключевое слово return. Например: "
   ]
  },
  {
   "cell_type": "code",
   "execution_count": 1,
   "metadata": {},
   "outputs": [],
   "source": [
    "def func():\n",
    "    return 1 # возвращает число 1"
   ]
  },
  {
   "cell_type": "code",
   "execution_count": 2,
   "metadata": {},
   "outputs": [
    {
     "data": {
      "text/plain": [
       "1"
      ]
     },
     "execution_count": 2,
     "metadata": {},
     "output_type": "execute_result"
    }
   ],
   "source": [
    "func()"
   ]
  },
  {
   "cell_type": "markdown",
   "metadata": {},
   "source": [
    "Теперь мы готовы узнать о том, как создать функцию, которая может получать доступ к аргументам, а также как передать аргументы функции. Создадим простую функцию, которая может суммировать два числа:"
   ]
  },
  {
   "cell_type": "code",
   "execution_count": 4,
   "metadata": {},
   "outputs": [],
   "source": [
    "def add(x, y):\n",
    "    return x+y"
   ]
  },
  {
   "cell_type": "markdown",
   "metadata": {},
   "source": [
    "Опять-таки, инструкция return говорит, что функция должна вернуть определённое значение. В нашем случае функция возвращает сумму чисел x и y."
   ]
  },
  {
   "cell_type": "markdown",
   "metadata": {},
   "source": [
    "Мы можем вызвать функцию путем передачи двух значений. Если вы передали недостаточно или слишком много аргументов для данной функции, вы получите ошибку:"
   ]
  },
  {
   "cell_type": "code",
   "execution_count": 11,
   "metadata": {
    "scrolled": true
   },
   "outputs": [
    {
     "ename": "TypeError",
     "evalue": "add() missing 1 required positional argument: 'y'",
     "output_type": "error",
     "traceback": [
      "\u001b[0;31m---------------------------------------------------------------------------\u001b[0m",
      "\u001b[0;31mTypeError\u001b[0m                                 Traceback (most recent call last)",
      "\u001b[0;32m<ipython-input-11-2558a051bacf>\u001b[0m in \u001b[0;36m<module>\u001b[0;34m\u001b[0m\n\u001b[0;32m----> 1\u001b[0;31m \u001b[0madd\u001b[0m\u001b[0;34m(\u001b[0m\u001b[0;36m1\u001b[0m\u001b[0;34m)\u001b[0m\u001b[0;34m\u001b[0m\u001b[0;34m\u001b[0m\u001b[0m\n\u001b[0m",
      "\u001b[0;31mTypeError\u001b[0m: add() missing 1 required positional argument: 'y'"
     ]
    }
   ],
   "source": [
    "add(1)"
   ]
  },
  {
   "cell_type": "markdown",
   "metadata": {},
   "source": [
    "Python обращает наше внимание, что для выполнения функции add() нам не хватает аргумента y. Исправим это и увидим, что на этот раз функция работает без проблем:"
   ]
  },
  {
   "cell_type": "code",
   "execution_count": 13,
   "metadata": {},
   "outputs": [
    {
     "data": {
      "text/plain": [
       "3"
      ]
     },
     "execution_count": 13,
     "metadata": {},
     "output_type": "execute_result"
    }
   ],
   "source": [
    "add(1, 2)"
   ]
  },
  {
   "cell_type": "markdown",
   "metadata": {},
   "source": [
    "Такая функция будет работать в том числе и с данными типа String:"
   ]
  },
  {
   "cell_type": "code",
   "execution_count": 5,
   "metadata": {
    "scrolled": true
   },
   "outputs": [
    {
     "data": {
      "text/plain": [
       "'Hello World'"
      ]
     },
     "execution_count": 5,
     "metadata": {},
     "output_type": "execute_result"
    }
   ],
   "source": [
    "add('Hello ', 'World')"
   ]
  },
  {
   "cell_type": "markdown",
   "metadata": {},
   "source": [
    "Вы также можете вызвать функцию, явно указав наименование аргументов:"
   ]
  },
  {
   "cell_type": "code",
   "execution_count": 7,
   "metadata": {},
   "outputs": [
    {
     "data": {
      "text/plain": [
       "3"
      ]
     },
     "execution_count": 7,
     "metadata": {},
     "output_type": "execute_result"
    }
   ],
   "source": [
    "add(x = 1, y = 2)"
   ]
  },
  {
   "cell_type": "markdown",
   "metadata": {},
   "source": [
    "Стоит отметить, что не важно, в каком порядке вы будете передавать аргументы функции до тех пор, пока они называются корректно:"
   ]
  },
  {
   "cell_type": "code",
   "execution_count": 8,
   "metadata": {},
   "outputs": [
    {
     "data": {
      "text/plain": [
       "3"
      ]
     },
     "execution_count": 8,
     "metadata": {},
     "output_type": "execute_result"
    }
   ],
   "source": [
    "add(y = 2, x = 1)"
   ]
  },
  {
   "cell_type": "markdown",
   "metadata": {},
   "source": [
    "Тем не менее, если мы укажем аргументы, которые названы неправильно, мы получим ошибку, поскольку такие ключевые аргументы функция распознать не сможет:"
   ]
  },
  {
   "cell_type": "code",
   "execution_count": 9,
   "metadata": {},
   "outputs": [
    {
     "ename": "TypeError",
     "evalue": "add() got an unexpected keyword argument 'a'",
     "output_type": "error",
     "traceback": [
      "\u001b[0;31m---------------------------------------------------------------------------\u001b[0m",
      "\u001b[0;31mTypeError\u001b[0m                                 Traceback (most recent call last)",
      "\u001b[0;32m<ipython-input-9-d81a558b3390>\u001b[0m in \u001b[0;36m<module>\u001b[0;34m\u001b[0m\n\u001b[0;32m----> 1\u001b[0;31m \u001b[0madd\u001b[0m\u001b[0;34m(\u001b[0m\u001b[0ma\u001b[0m \u001b[0;34m=\u001b[0m \u001b[0;36m1\u001b[0m\u001b[0;34m,\u001b[0m \u001b[0mb\u001b[0m \u001b[0;34m=\u001b[0m \u001b[0;36m10\u001b[0m\u001b[0;34m)\u001b[0m\u001b[0;34m\u001b[0m\u001b[0;34m\u001b[0m\u001b[0m\n\u001b[0m",
      "\u001b[0;31mTypeError\u001b[0m: add() got an unexpected keyword argument 'a'"
     ]
    }
   ],
   "source": [
    "add(a = 1, b = 10)"
   ]
  },
  {
   "cell_type": "markdown",
   "metadata": {},
   "source": [
    "## Аргументы функции"
   ]
  },
  {
   "cell_type": "markdown",
   "metadata": {},
   "source": [
    "Функция может принимать произвольное количество аргументов или не принимать их вовсе. Более того, они могут принимать как позиционные (обязательные), так и именованные (необязательные) аргументы. \n",
    "\n",
    "Подробнее про именованные аргументы: если при объявлении функции мы назначаем параметру какое-либо значение по умолчанию, то указывать соответствующий аргумент при вызове функции уже вовсе необязательно. Параметр становится опциональным."
   ]
  },
  {
   "cell_type": "markdown",
   "metadata": {},
   "source": [
    "Посмотрим на примере:"
   ]
  },
  {
   "cell_type": "code",
   "execution_count": 10,
   "metadata": {},
   "outputs": [],
   "source": [
    "def func(a, b, c = 2): # c - необязательный аргумент\n",
    "    return a + b + c"
   ]
  },
  {
   "cell_type": "markdown",
   "metadata": {},
   "source": [
    "Здесь a и b - позиционные аргументы, а с - именованный аргумент. Поскольку переменная с у нас изначально определена, мы можем не указывать ее значение при вызове функции, поскольку оно в любом случае будет равно 2. Значения a и b, однако, указать необходимо, потому что на данный момент эти переменные ни на что не указывают. Попробуем вызвать функцию, где укажем два числа - это будут значения a и b, соответственно:"
   ]
  },
  {
   "cell_type": "code",
   "execution_count": 12,
   "metadata": {
    "scrolled": true
   },
   "outputs": [
    {
     "data": {
      "text/plain": [
       "5"
      ]
     },
     "execution_count": 12,
     "metadata": {},
     "output_type": "execute_result"
    }
   ],
   "source": [
    "func(1, 2) # a = 1, b = 2, c = 2 (по умолчанию); "
   ]
  },
  {
   "cell_type": "code",
   "execution_count": 25,
   "metadata": {
    "scrolled": true
   },
   "outputs": [
    {
     "data": {
      "text/plain": [
       "5"
      ]
     },
     "execution_count": 25,
     "metadata": {},
     "output_type": "execute_result"
    }
   ],
   "source": [
    "func(a = 1, b = 2) # c = 2 (по умолчанию); "
   ]
  },
  {
   "cell_type": "markdown",
   "metadata": {},
   "source": [
    "Хотя значение c у нас было определено изначально, ничто не мешает нам переопределить его, указав новое значение при вызове функции:"
   ]
  },
  {
   "cell_type": "code",
   "execution_count": 26,
   "metadata": {},
   "outputs": [
    {
     "data": {
      "text/plain": [
       "6"
      ]
     },
     "execution_count": 26,
     "metadata": {},
     "output_type": "execute_result"
    }
   ],
   "source": [
    "func(a = 1, b = 2, c = 3)"
   ]
  },
  {
   "cell_type": "markdown",
   "metadata": {},
   "source": [
    "Обязательно нужно помнить, что именованные аргументы должны находиться строго после всех позиционных (если таковые имеются). Сами же именованные аргументы можно задавать в любом порядке.\n",
    "\n",
    "Однако, если мы забудем определить один из позиционных аргументов, мы получим ошибку:"
   ]
  },
  {
   "cell_type": "code",
   "execution_count": 27,
   "metadata": {},
   "outputs": [
    {
     "ename": "TypeError",
     "evalue": "func() missing 1 required positional argument: 'b'",
     "output_type": "error",
     "traceback": [
      "\u001b[0;31m---------------------------------------------------------------------------\u001b[0m",
      "\u001b[0;31mTypeError\u001b[0m                                 Traceback (most recent call last)",
      "\u001b[0;32m<ipython-input-27-bf6808f7acf6>\u001b[0m in \u001b[0;36m<module>\u001b[0;34m\u001b[0m\n\u001b[0;32m----> 1\u001b[0;31m \u001b[0mfunc\u001b[0m\u001b[0;34m(\u001b[0m\u001b[0ma\u001b[0m \u001b[0;34m=\u001b[0m \u001b[0;36m1\u001b[0m\u001b[0;34m,\u001b[0m \u001b[0mc\u001b[0m \u001b[0;34m=\u001b[0m \u001b[0;36m5\u001b[0m\u001b[0;34m)\u001b[0m\u001b[0;34m\u001b[0m\u001b[0;34m\u001b[0m\u001b[0m\n\u001b[0m",
      "\u001b[0;31mTypeError\u001b[0m: func() missing 1 required positional argument: 'b'"
     ]
    }
   ],
   "source": [
    "func(a = 1, c = 5) # аргумент b не определён"
   ]
  },
  {
   "cell_type": "markdown",
   "metadata": {},
   "source": [
    "Мы получаем сообщение, что функции необходим позиционный аргумент b. Если мы внесем необходимые поправки, функция будет работать корректно:"
   ]
  },
  {
   "cell_type": "code",
   "execution_count": 28,
   "metadata": {
    "scrolled": true
   },
   "outputs": [
    {
     "data": {
      "text/plain": [
       "9"
      ]
     },
     "execution_count": 28,
     "metadata": {},
     "output_type": "execute_result"
    }
   ],
   "source": [
    "func(a = 1, b = 3, c = 5)"
   ]
  },
  {
   "cell_type": "markdown",
   "metadata": {},
   "source": [
    "## Область видимости. Глобальные и локальные переменные."
   ]
  },
  {
   "cell_type": "markdown",
   "metadata": {},
   "source": [
    "Область видимости указывает нам, когда и где переменная может быть использована. "
   ]
  },
  {
   "cell_type": "markdown",
   "metadata": {},
   "source": [
    "В Python есть два вида переменных: глобальные и локальные. Глобальными переменными называют переменные, которые объявляются вне функции, то есть либо до команды \"def\", либо уже после тела функции и без отступа, однако они будут отображаться как внутри функции, так и вне ее. \n",
    "\n",
    "Если же мы определяем переменные внутри функции, эти переменные не могут быть использованы вне её - с окончанием функции заканчивается и область видимости этих переменных.\n",
    "\n",
    "Приведем несколько примеров."
   ]
  },
  {
   "cell_type": "code",
   "execution_count": 14,
   "metadata": {},
   "outputs": [],
   "source": [
    "glob_1 = 14\n",
    "glob_2 = 4\n",
    "\n",
    "def func(n):\n",
    "    print(glob_1)\n",
    "    glob_2 = glob_1 - n\n",
    "    print(glob_2)"
   ]
  },
  {
   "cell_type": "code",
   "execution_count": 27,
   "metadata": {},
   "outputs": [
    {
     "name": "stdout",
     "output_type": "stream",
     "text": [
      "Вызываем функцию:\n",
      "14\n",
      "2\n",
      "Вызываем глобальные переменные:\n",
      "14\n",
      "4\n"
     ]
    }
   ],
   "source": [
    "print(\"Вызываем функцию:\")\n",
    "func(12)\n",
    "print(\"Вызываем глобальные переменные:\")\n",
    "print(glob_1)\n",
    "print(glob_2)"
   ]
  },
  {
   "cell_type": "markdown",
   "metadata": {},
   "source": [
    "Как видим в данном примере, переменная glob_1 остаётся неизменной вне зависимости от того, вызываем ли мы её внутри функции, или же вне функции (что мы можем видить на первом и третьем числе в output). Однако переменная glob_2 в результате действий, заданных функцией, изменилась, поэтому второе и четвёртое число в выводе отличаюся, хотя и являются одной переменной. Это проиходит потому, что второе число в выводе - локальная переменная, определённая внутри функции. "
   ]
  },
  {
   "cell_type": "markdown",
   "metadata": {},
   "source": [
    "Посмотрим на ещё один пример:"
   ]
  },
  {
   "cell_type": "code",
   "execution_count": 32,
   "metadata": {},
   "outputs": [],
   "source": [
    "def function_a():\n",
    "    a = 1\n",
    "    b = 2\n",
    "    return a+b\n",
    " \n",
    "\n",
    "def function_b():\n",
    "    c = 3\n",
    "    return a+c"
   ]
  },
  {
   "cell_type": "code",
   "execution_count": 33,
   "metadata": {},
   "outputs": [
    {
     "data": {
      "text/plain": [
       "3"
      ]
     },
     "execution_count": 33,
     "metadata": {},
     "output_type": "execute_result"
    }
   ],
   "source": [
    "function_a()"
   ]
  },
  {
   "cell_type": "code",
   "execution_count": 34,
   "metadata": {
    "scrolled": true
   },
   "outputs": [
    {
     "ename": "NameError",
     "evalue": "name 'a' is not defined",
     "output_type": "error",
     "traceback": [
      "\u001b[0;31m---------------------------------------------------------------------------\u001b[0m",
      "\u001b[0;31mNameError\u001b[0m                                 Traceback (most recent call last)",
      "\u001b[0;32m<ipython-input-34-18724ff2982b>\u001b[0m in \u001b[0;36m<module>\u001b[0;34m\u001b[0m\n\u001b[0;32m----> 1\u001b[0;31m \u001b[0mfunction_b\u001b[0m\u001b[0;34m(\u001b[0m\u001b[0;34m)\u001b[0m\u001b[0;34m\u001b[0m\u001b[0;34m\u001b[0m\u001b[0m\n\u001b[0m",
      "\u001b[0;32m<ipython-input-32-cbd17a5b745c>\u001b[0m in \u001b[0;36mfunction_b\u001b[0;34m()\u001b[0m\n\u001b[1;32m      7\u001b[0m \u001b[0;32mdef\u001b[0m \u001b[0mfunction_b\u001b[0m\u001b[0;34m(\u001b[0m\u001b[0;34m)\u001b[0m\u001b[0;34m:\u001b[0m\u001b[0;34m\u001b[0m\u001b[0;34m\u001b[0m\u001b[0m\n\u001b[1;32m      8\u001b[0m     \u001b[0mc\u001b[0m \u001b[0;34m=\u001b[0m \u001b[0;36m3\u001b[0m\u001b[0;34m\u001b[0m\u001b[0;34m\u001b[0m\u001b[0m\n\u001b[0;32m----> 9\u001b[0;31m     \u001b[0;32mreturn\u001b[0m \u001b[0ma\u001b[0m\u001b[0;34m+\u001b[0m\u001b[0mc\u001b[0m\u001b[0;34m\u001b[0m\u001b[0;34m\u001b[0m\u001b[0m\n\u001b[0m",
      "\u001b[0;31mNameError\u001b[0m: name 'a' is not defined"
     ]
    }
   ],
   "source": [
    "function_b()"
   ]
  },
  {
   "cell_type": "markdown",
   "metadata": {},
   "source": [
    "Вызвав вторую функцию (function_b), мы получили ошибку. Это вызвано тем, что переменная а определена локально только внутри первой функции, но при этом не определена во второй. Мы можем обойти этот момент, указав явно, что переменная а – глобальная (global). Давайте посмотрим на то, как это работает:"
   ]
  },
  {
   "cell_type": "code",
   "execution_count": 36,
   "metadata": {},
   "outputs": [],
   "source": [
    "def function_a():\n",
    "    global a\n",
    "    a = 1\n",
    "    b = 2\n",
    "    return a+b\n",
    " \n",
    "\n",
    "def function_b():\n",
    "    c = 3\n",
    "    return a+c"
   ]
  },
  {
   "cell_type": "code",
   "execution_count": 37,
   "metadata": {},
   "outputs": [
    {
     "data": {
      "text/plain": [
       "3"
      ]
     },
     "execution_count": 37,
     "metadata": {},
     "output_type": "execute_result"
    }
   ],
   "source": [
    "function_a()"
   ]
  },
  {
   "cell_type": "code",
   "execution_count": 38,
   "metadata": {
    "scrolled": true
   },
   "outputs": [
    {
     "data": {
      "text/plain": [
       "4"
      ]
     },
     "execution_count": 38,
     "metadata": {},
     "output_type": "execute_result"
    }
   ],
   "source": [
    "function_b()"
   ]
  },
  {
   "cell_type": "markdown",
   "metadata": {},
   "source": [
    "Теперь код работает, так как мы определили а как глобальную переменную, а это значит, что она доступна не только внутри функции, но и вообще где-либо в программе."
   ]
  },
  {
   "cell_type": "markdown",
   "metadata": {},
   "source": [
    "Итак, локальные переменные - это переменные, которым внутри функции присваивается значение. Если имя локальной переменной совпадает с именем глобальной переменной, то все операции внутри функции осуществляются с локальной переменной, а значение глобальной переменной не изменяется. Локальные переменные видны только внутри тела функции."
   ]
  },
  {
   "cell_type": "markdown",
   "metadata": {},
   "source": [
    "## Лямбда-функции"
   ]
  },
  {
   "cell_type": "markdown",
   "metadata": {},
   "source": [
    "Давайте разберем еще один интересный вид функций: лямбда-функции, они же анонимные функции. Главный интерес заключается в том, что в таких функциях нет имени функции, а только тело (поэтому они называются анонимными). Данный тип функций задается следующим образом: первым идет ключевое слово \"lambda\", затем идут параметры функции (если они есть), потом знак \":\", затем определенное действие, которое мы хотим сделать с параметрами. Лямбда-функции, в отличие от обычной, не требуется инструкция return, а в остальном она ведет себя точно так же. \n",
    "\n",
    "Давайте разберемся на примере суммы чисел:"
   ]
  },
  {
   "cell_type": "code",
   "execution_count": 16,
   "metadata": {},
   "outputs": [
    {
     "data": {
      "text/plain": [
       "17"
      ]
     },
     "execution_count": 16,
     "metadata": {},
     "output_type": "execute_result"
    }
   ],
   "source": [
    "func1 = lambda a, b: a + b\n",
    "func1(5, 12)"
   ]
  },
  {
   "cell_type": "markdown",
   "metadata": {},
   "source": [
    "Такую функцию легко можно переписать в традиционном/привычном виде:"
   ]
  },
  {
   "cell_type": "code",
   "execution_count": 41,
   "metadata": {
    "scrolled": true
   },
   "outputs": [
    {
     "data": {
      "text/plain": [
       "17"
      ]
     },
     "execution_count": 41,
     "metadata": {},
     "output_type": "execute_result"
    }
   ],
   "source": [
    "def add_function(a, b):\n",
    "    return a + b\n",
    "\n",
    "add_function(5, 12)"
   ]
  },
  {
   "cell_type": "markdown",
   "metadata": {},
   "source": [
    "Ещё одно отличие от регулярных функций: лямбда-функции совершенно не обязательно присваивать какой-либо переменной - мы можем сразу перейти к lambda выражению: "
   ]
  },
  {
   "cell_type": "code",
   "execution_count": 42,
   "metadata": {},
   "outputs": [
    {
     "data": {
      "text/plain": [
       "17"
      ]
     },
     "execution_count": 42,
     "metadata": {},
     "output_type": "execute_result"
    }
   ],
   "source": [
    "(lambda a, b: a + b)(5, 12)"
   ]
  },
  {
   "cell_type": "markdown",
   "metadata": {},
   "source": [
    "Лямбда-функции могут работать не только с типом int, но и с типом str:"
   ]
  },
  {
   "cell_type": "code",
   "execution_count": 43,
   "metadata": {},
   "outputs": [
    {
     "data": {
      "text/plain": [
       "'ab'"
      ]
     },
     "execution_count": 43,
     "metadata": {},
     "output_type": "execute_result"
    }
   ],
   "source": [
    "func1('a', 'b')"
   ]
  },
  {
   "cell_type": "code",
   "execution_count": 44,
   "metadata": {
    "scrolled": true
   },
   "outputs": [
    {
     "data": {
      "text/plain": [
       "'My string'"
      ]
     },
     "execution_count": 44,
     "metadata": {},
     "output_type": "execute_result"
    }
   ],
   "source": [
    "func1('My ', 'string')"
   ]
  },
  {
   "cell_type": "markdown",
   "metadata": {},
   "source": [
    "Создадим функцию посложнее - с переменной типа str на входе - которая будет возвращать первые три буквы названия страны:"
   ]
  },
  {
   "cell_type": "code",
   "execution_count": 19,
   "metadata": {},
   "outputs": [
    {
     "name": "stdout",
     "output_type": "stream",
     "text": [
      "Nor\n"
     ]
    }
   ],
   "source": [
    "func2 = lambda x: x[0:3]\n",
    "\n",
    "x = \"Norway\"\n",
    "print(func2(x))"
   ]
  },
  {
   "cell_type": "markdown",
   "metadata": {},
   "source": [
    "Точно так же можно работать и со списками. Например, напишем функцию, которая будет выводить первый объект из списка:"
   ]
  },
  {
   "cell_type": "code",
   "execution_count": 29,
   "metadata": {},
   "outputs": [
    {
     "name": "stdout",
     "output_type": "stream",
     "text": [
      "Great Britain\n"
     ]
    }
   ],
   "source": [
    "func3 = lambda x: x[0]\n",
    "\n",
    "countries = ['Great Britain', 'Canada', 'Australia', 'New Zealand']\n",
    "print(func3(countries))"
   ]
  },
  {
   "cell_type": "markdown",
   "metadata": {},
   "source": [
    "Также лямбда-функции можно использовать для обработки списков. Для этого необходимо поместить лямбда-функцию внутри других функций, таких как map(), filter(), reduce(). \n",
    "\n",
    "Например, команда map применяет функцию к каждому элементу последовательности. С помощью map легко можно выполнять преобразования элементов. Нужно всего лишь указать указать 2 аргумента, первый - лямбда-функция, которая будет применена к каждому элементу списка, а второй - название самого списка. Например, возведем каждый элемент списка в третью степень:"
   ]
  },
  {
   "cell_type": "code",
   "execution_count": 22,
   "metadata": {},
   "outputs": [
    {
     "data": {
      "text/plain": [
       "[1, 8, 27, 64, 125, 216, 343]"
      ]
     },
     "execution_count": 22,
     "metadata": {},
     "output_type": "execute_result"
    }
   ],
   "source": [
    "list_1 = [1, 2, 3, 4, 5, 6, 7]\n",
    "list(map(lambda x: x**3, list_1))"
   ]
  },
  {
   "cell_type": "markdown",
   "metadata": {},
   "source": [
    "Функция filter() также применяет функцию ко всем элементам последовательности и возвращает только те объекты, для которых функция вернула True. Например, возьмём предыдущий список и оставим только нечетные числа:"
   ]
  },
  {
   "cell_type": "code",
   "execution_count": 24,
   "metadata": {
    "scrolled": false
   },
   "outputs": [
    {
     "data": {
      "text/plain": [
       "[1, 3, 5, 7]"
      ]
     },
     "execution_count": 24,
     "metadata": {},
     "output_type": "execute_result"
    }
   ],
   "source": [
    "list(filter(lambda x: x%2, list_1)) "
   ]
  },
  {
   "cell_type": "markdown",
   "metadata": {},
   "source": [
    "Мы также можем сортировать списки с помощью команды sorted():"
   ]
  },
  {
   "cell_type": "code",
   "execution_count": 25,
   "metadata": {},
   "outputs": [
    {
     "data": {
      "text/plain": [
       "['Australia', 'Canada', 'Great Britain', 'New Zealand']"
      ]
     },
     "execution_count": 25,
     "metadata": {},
     "output_type": "execute_result"
    }
   ],
   "source": [
    "sorted(countries)"
   ]
  },
  {
   "cell_type": "markdown",
   "metadata": {},
   "source": [
    "Однако по умолчанию списки сортируются в алфавитном порядке. Но что делать, если мы хотим отсортировать список по длине символов каждого объекта? Здесь вновь станет полезной лямбда-функция: "
   ]
  },
  {
   "cell_type": "code",
   "execution_count": 26,
   "metadata": {},
   "outputs": [
    {
     "data": {
      "text/plain": [
       "['Canada', 'Australia', 'New Zealand', 'Great Britain']"
      ]
     },
     "execution_count": 26,
     "metadata": {},
     "output_type": "execute_result"
    }
   ],
   "source": [
    "sorted(countries, key = lambda s:len(s))"
   ]
  },
  {
   "cell_type": "markdown",
   "metadata": {},
   "source": [
    "Теперь вы обладаете основными знаниями, которые необходимы для эффективной работы с функциями. Попрактикуйтесь в создании простых и лямбда-функций, используя разные типы данных, а также попробуйте обращаться к функциям различными способами."
   ]
  }
 ],
 "metadata": {
  "kernelspec": {
   "display_name": "Python 3",
   "language": "python",
   "name": "python3"
  },
  "language_info": {
   "codemirror_mode": {
    "name": "ipython",
    "version": 3
   },
   "file_extension": ".py",
   "mimetype": "text/x-python",
   "name": "python",
   "nbconvert_exporter": "python",
   "pygments_lexer": "ipython3",
   "version": "3.7.1"
  }
 },
 "nbformat": 4,
 "nbformat_minor": 4
}
