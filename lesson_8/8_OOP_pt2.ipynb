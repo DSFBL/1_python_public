{
 "cells": [
  {
   "cell_type": "markdown",
   "metadata": {},
   "source": [
    "## Объектно-ориентированное программирование. Часть 2.\n",
    "\n",
    "*Материал подготовила Арина Ситникова*"
   ]
  },
  {
   "cell_type": "markdown",
   "metadata": {},
   "source": [
    "В данной статье мы продолжим рассматривать концепцию объектно-ориентрованного программирования (ООП). На прошлой неделе мы обсудили основные определения и начали рассматривать главные принципы ООП - как вы помните, мы разговаривали об инкапсуляции.\n",
    "\n",
    "На этот раз мы:\n",
    "\n",
    "- освежим в памяти ключевые определения; как создавать класс и объект; и в чем заключается принцип инкапсуляции;\n",
    "- рассмотрим оставшиеся принципы ООП: наследование, полиморфизм и абстракцию;"
   ]
  },
  {
   "cell_type": "markdown",
   "metadata": {},
   "source": [
    "### Основные определения\n",
    "\n",
    "**Объектно-ориентированное программирование (ООП)** — парадигма программирования, в которой основными концепциями являются понятия объектов и классов.\n",
    "\n",
    "**Класс** – это способ описания сущности, определяющий состояние и поведение, зависящее от этого состояния, а также правила для взаимодействия с данной сущностью. Класс состоит из *атрибутов* и *методов*.\n",
    "\n",
    "**Объект** - это конкретный экземпляр класса, полям которого заданы конкретные значения."
   ]
  },
  {
   "cell_type": "markdown",
   "metadata": {},
   "source": [
    "Давайте быстро вспомним на одном примере, как инициализировать класс и создавать объекты класса:"
   ]
  },
  {
   "cell_type": "code",
   "execution_count": 1,
   "metadata": {},
   "outputs": [],
   "source": [
    "class Vehicle:\n",
    "    \n",
    "    # задаём атрибуты\n",
    "    def __init__(self, model, year, colour):\n",
    "        self.model = model\n",
    "        self.year = year\n",
    "        self.colour = colour\n",
    "    \n",
    "    # определяем два метода\n",
    "    def turn_left(self):\n",
    "        return \"Автомобиль повернул налево\"\n",
    "    \n",
    "    def turn_right(self):\n",
    "        return \"Автомобиль повернул направо\""
   ]
  },
  {
   "cell_type": "code",
   "execution_count": 2,
   "metadata": {},
   "outputs": [],
   "source": [
    "car = Vehicle(\"BMW\", 2020, \"black\") # создаем объект/экземпляр"
   ]
  },
  {
   "cell_type": "code",
   "execution_count": 3,
   "metadata": {},
   "outputs": [
    {
     "name": "stdout",
     "output_type": "stream",
     "text": [
      "BMW\n"
     ]
    }
   ],
   "source": [
    "print(car.model) # выведем значение атрибута model"
   ]
  },
  {
   "cell_type": "code",
   "execution_count": 4,
   "metadata": {},
   "outputs": [
    {
     "data": {
      "text/plain": [
       "'Автомобиль повернул налево'"
      ]
     },
     "execution_count": 4,
     "metadata": {},
     "output_type": "execute_result"
    }
   ],
   "source": [
    "car.turn_left() # вызовем один из методов"
   ]
  },
  {
   "cell_type": "markdown",
   "metadata": {},
   "source": [
    "Полную теорию по данному блоку можно найти в [первой статье](https://github.com/DSFBL/1_python_public/blob/main/lesson_7/7_OOP_pt1.ipynb) по ООП."
   ]
  },
  {
   "cell_type": "markdown",
   "metadata": {},
   "source": [
    "### Ключевые принципы ООП"
   ]
  },
  {
   "cell_type": "markdown",
   "metadata": {},
   "source": [
    "ООП включает три ключевых принципа: наследование, инкапсуляцию и полиморфизм. Нередко к этому списку добавляют абстракцию, суть которой мы рассмотрим в конце статьи.\n",
    "\n",
    "Для начала вновь освежим в памяти концепцию инкапсуляции."
   ]
  },
  {
   "cell_type": "markdown",
   "metadata": {},
   "source": [
    "#### Инкапсуляция (ключевые моменты)\n",
    "\n",
    "**Инкапсуляция** — механизм контроля доступа к данным того или иного класса. Другими словами, это свойство системы, позволяющее скрыть детали реализации и открыть только то, что необходимо в последующем использовании.\n",
    "\n",
    "Чтобы предоставить контролируемый доступ к данным класса в Python, используются следующие **модификаторы доступа**:\n",
    " \n",
    "1) **public** (публичный) - данные будут видны повсюду, как в классе, так и вне его.\n",
    "\n",
    "2) **private** (приватный) - данные будут видны только в классе, где они созданы.\n",
    "\n",
    "3) **protected** (защищенный) - данные будут видны только в классе, где они созданы, а также в классах наследниках.\n",
    "\n",
    "Вспомним, как создавать переменные с различными уровнями доступа:"
   ]
  },
  {
   "cell_type": "code",
   "execution_count": 5,
   "metadata": {},
   "outputs": [],
   "source": [
    "class Vehicle:\n",
    "\n",
    "    def __init__(self, model, year, colour): \n",
    "        self.model = model #public variable\n",
    "        self.__year = year #private variable\n",
    "        self._colour = colour #protected variable "
   ]
  },
  {
   "cell_type": "markdown",
   "metadata": {},
   "source": [
    "Опять-таки, если вы не совсем помните данную концепцию или же вовсе пропустили прошлое занятие, рекомендуем обратиться к [первой статье по ООП](https://github.com/DSFBL/1_python_public/blob/main/lesson_7/7_OOP_pt1.ipynb), где мы подробно рассматривали данный принцип.\n",
    "\n",
    "Далее мы можем перейти к новому материалу: принципам наследования, полиморфизма и абстракции:"
   ]
  },
  {
   "cell_type": "markdown",
   "metadata": {},
   "source": [
    "#### Наследование\n",
    "\n",
    "<img src = \"Inherit.png\">"
   ]
  },
  {
   "cell_type": "markdown",
   "metadata": {},
   "source": [
    "На этот раз мы вновь возвращаемся к проектировке автомобилей. Однако сейчас нашей задачей является разработка современного автомобиля. У нас уже есть предыдущая модель, которая отлично зарекомендовала себя в течение многолетнего использования. Всё бы хорошо, но времена и технологии меняются, а наш современный завод должен стремиться повышать удобство и комфорт выпускаемой продукции и соответствовать современным стандартам.\n",
    "\n",
    "Нам необходимо выпустить целый модельный ряд автомобилей: седан, универсал и джип. Очевидно, что мы не собираемся проектировать новый автомобиль с нуля, а, взяв за основу предыдущее поколение, внесём ряд конструктивных изменений. Конечно, все три модификации будут иметь большинство свойств прежней модели. При этом каждая из моделей будет реализовать некоторую новую функциональность или конструктивную особенность (такую как тип кузова). В данном случае мы имеем дело с *наследованием*.\n",
    "\n",
    "**Наследование** – это свойство системы, позволяющее описать новый класс на основе уже существующего с частично или полностью заимствующейся функциональностью. Класс, от которого производится наследование, называется базовым или родительским. Новый класс – дочерним, наследником или производным классом. Таким образом, объект может наследовать основные свойства другого объекта и добавлять к ним черты, характерные только для него.\n",
    "\n",
    "Наследование является очень важным принципом, поскольку оно позволяет поддерживать концепцию иерархии классов (hierarchical classification). Так, каждый производный класс полностью реализует *интерфейс* (набор методов класса) родительского класса. Обратное не является верным. Действительно, в нашем примере мы могли бы произвести с новыми автомобилями все те же действия, что и со старым: изменить скорость, повернуть, включить аварийный сигнал. Однако дополнительно у нас бы появилась возможность, например, регулировать задние сиденья. Отсутствие обратной совместимости означает, что мы не должны ожидать от старой модели корректной реакции на такие действия, как изменение положения заднего сиденья (такой функции просто нет в старой модели).\n",
    "\n",
    "Рассмотрим очень простой пример наследования на примере всё того же класса Vehicle:"
   ]
  },
  {
   "cell_type": "code",
   "execution_count": 5,
   "metadata": {},
   "outputs": [],
   "source": [
    "class Vehicle:  \n",
    "    def vehicle_method(self):\n",
    "        print(\"Это метод родительского класса Vehicle\")\n",
    "\n",
    "class Car(Vehicle):  \n",
    "    def car_method(self):\n",
    "        print(\"Это метод дочернего класса Car\")"
   ]
  },
  {
   "cell_type": "markdown",
   "metadata": {},
   "source": [
    "В скрипте выше мы создаем два класса: 1) Vehicle; 2) Car, который наследует класс Vehicle. Чтобы наследовать класс, необходимо лишь вписать название родительского класса внутри скобок, которые следуют за названием дочернего класса. Класс Vehicle содержит метод vehicle_method(), а дочерний класс содержит метод car_method(). Однако, так как класс Car наследует класс Vehicle, он также наследует все методы класса Vehicle - в нашем случае, это единственный метод vehicle_method().\n",
    "\n",
    "Увидим наглядно - для этого создадим объекты из обоих классов и попробуем вызвать оба метода для каждого из объектов:"
   ]
  },
  {
   "cell_type": "code",
   "execution_count": 6,
   "metadata": {},
   "outputs": [
    {
     "name": "stdout",
     "output_type": "stream",
     "text": [
      "Это метод родительского класса Vehicle\n"
     ]
    }
   ],
   "source": [
    "vehicle = Vehicle()\n",
    "vehicle.vehicle_method()"
   ]
  },
  {
   "cell_type": "code",
   "execution_count": 7,
   "metadata": {},
   "outputs": [
    {
     "name": "stdout",
     "output_type": "stream",
     "text": [
      "Это метод дочернего класса Car\n"
     ]
    }
   ],
   "source": [
    "car = Car()\n",
    "car.car_method()"
   ]
  },
  {
   "cell_type": "code",
   "execution_count": 8,
   "metadata": {},
   "outputs": [
    {
     "name": "stdout",
     "output_type": "stream",
     "text": [
      "Это метод родительского класса Vehicle\n"
     ]
    }
   ],
   "source": [
    "car.vehicle_method() # можем вызывать метод родительского класса для объекта из дочернего класса"
   ]
  },
  {
   "cell_type": "code",
   "execution_count": 9,
   "metadata": {},
   "outputs": [
    {
     "ename": "AttributeError",
     "evalue": "'Vehicle' object has no attribute 'car_method'",
     "output_type": "error",
     "traceback": [
      "\u001b[0;31m---------------------------------------------------------------------------\u001b[0m",
      "\u001b[0;31mAttributeError\u001b[0m                            Traceback (most recent call last)",
      "\u001b[0;32m<ipython-input-9-d16900977c72>\u001b[0m in \u001b[0;36m<module>\u001b[0;34m\u001b[0m\n\u001b[0;32m----> 1\u001b[0;31m \u001b[0mvehicle\u001b[0m\u001b[0;34m.\u001b[0m\u001b[0mcar_method\u001b[0m\u001b[0;34m(\u001b[0m\u001b[0;34m)\u001b[0m\u001b[0;34m\u001b[0m\u001b[0;34m\u001b[0m\u001b[0m\n\u001b[0m",
      "\u001b[0;31mAttributeError\u001b[0m: 'Vehicle' object has no attribute 'car_method'"
     ]
    }
   ],
   "source": [
    "vehicle.car_method() # не можем вызывать метод дочернего класса для объекта из родительского класса"
   ]
  },
  {
   "cell_type": "markdown",
   "metadata": {},
   "source": [
    "Таким образом, если мы создадим объект из класса Car, мы можем вызвать оба метода, созданных выше. Однако при создании объекта из класса Vehicle мы не можем вызать метод car_method(), поскольку данный метод характерен только для дочернего класса с его расширенным - и в своём роде уникальным - функционалом. Тем не менее, функцию vehicle_method() для данного объекта мы можем вызвать без каких-либо проблем.\n",
    "\n",
    "Мы также можем рассмотреть пример посложнее и присвоить родительскому классу несколько атрибутов. Как и ранее, для этого нам необходимо инициализировать функцию $\\text{__init__}$ в теле класса:"
   ]
  },
  {
   "cell_type": "code",
   "execution_count": 10,
   "metadata": {},
   "outputs": [],
   "source": [
    "class Vehicle:  \n",
    "    \n",
    "    def __init__(self, model, year):\n",
    "        self.model = model\n",
    "        self.year = year\n",
    "    \n",
    "    def vehicle_method(self):\n",
    "        return \"Это метод родительского класса Vehicle\"\n",
    "        \n",
    "\n",
    "class Car(Vehicle):\n",
    "    \n",
    "    def car_method(self):\n",
    "        return \"Это метод дочернего класса Car\""
   ]
  },
  {
   "cell_type": "markdown",
   "metadata": {},
   "source": [
    "Теперь при создании объекта из класса Vehicle мы должны будем передавать два аргумента: один, означающий марку автомобиля, и второй, означающий год выпуска. Ожидаемо, мы легко можем вывести каждый атрибут и вызвать метод vehicle_method() для нового объекта:"
   ]
  },
  {
   "cell_type": "code",
   "execution_count": 11,
   "metadata": {},
   "outputs": [],
   "source": [
    "vehicle = Vehicle(\"BMW\", 2020)"
   ]
  },
  {
   "cell_type": "code",
   "execution_count": 13,
   "metadata": {},
   "outputs": [
    {
     "name": "stdout",
     "output_type": "stream",
     "text": [
      "BMW\n",
      "2020\n"
     ]
    }
   ],
   "source": [
    "print(vehicle.model)\n",
    "print(vehicle.year)"
   ]
  },
  {
   "cell_type": "code",
   "execution_count": 14,
   "metadata": {
    "scrolled": true
   },
   "outputs": [
    {
     "data": {
      "text/plain": [
       "'Это метод родительского класса Vehicle'"
      ]
     },
     "execution_count": 14,
     "metadata": {},
     "output_type": "execute_result"
    }
   ],
   "source": [
    "vehicle.vehicle_method()"
   ]
  },
  {
   "cell_type": "markdown",
   "metadata": {},
   "source": [
    "Стоит заметить, что поскольку дочерний класс наследует все характеристики родительского класса, теперь наш подкласс Car тоже будет иметь те атрибуты, которые мы присвоили классу Vehicle при определении функции $\\text{__init__}$. Соотвественно, мы не сможем создать объект класса Car без передачи тех же самых двух аргументов, что мы использовали для создания объектов класса Vehicle:"
   ]
  },
  {
   "cell_type": "code",
   "execution_count": 15,
   "metadata": {},
   "outputs": [
    {
     "ename": "TypeError",
     "evalue": "__init__() missing 2 required positional arguments: 'model' and 'year'",
     "output_type": "error",
     "traceback": [
      "\u001b[0;31m---------------------------------------------------------------------------\u001b[0m",
      "\u001b[0;31mTypeError\u001b[0m                                 Traceback (most recent call last)",
      "\u001b[0;32m<ipython-input-15-bbefef4a906c>\u001b[0m in \u001b[0;36m<module>\u001b[0;34m\u001b[0m\n\u001b[0;32m----> 1\u001b[0;31m \u001b[0mcar\u001b[0m \u001b[0;34m=\u001b[0m \u001b[0mCar\u001b[0m\u001b[0;34m(\u001b[0m\u001b[0;34m)\u001b[0m\u001b[0;34m\u001b[0m\u001b[0;34m\u001b[0m\u001b[0m\n\u001b[0m",
      "\u001b[0;31mTypeError\u001b[0m: __init__() missing 2 required positional arguments: 'model' and 'year'"
     ]
    }
   ],
   "source": [
    "car = Car()"
   ]
  },
  {
   "cell_type": "markdown",
   "metadata": {},
   "source": [
    "Как мы видим, компилятор выдает ошибку, сообщая, что нам не хватает двух обязательных аргументов: model и year. Исправив это, мы беспрепятственно можем создать новый объект класса Car, вызвать методы данного и родительского классов и получить доступ к значениям атрибутов:"
   ]
  },
  {
   "cell_type": "code",
   "execution_count": 16,
   "metadata": {},
   "outputs": [],
   "source": [
    "car = Car(\"BMW 7\", 2020)"
   ]
  },
  {
   "cell_type": "code",
   "execution_count": 18,
   "metadata": {},
   "outputs": [
    {
     "name": "stdout",
     "output_type": "stream",
     "text": [
      "BMW 7\n",
      "2020\n"
     ]
    }
   ],
   "source": [
    "print(car.model) # получаем новые значения атрибутов - те, которые мы определили при создании объекта car\n",
    "print(car.year)"
   ]
  },
  {
   "cell_type": "code",
   "execution_count": 19,
   "metadata": {},
   "outputs": [
    {
     "data": {
      "text/plain": [
       "'Это метод дочернего класса Car'"
      ]
     },
     "execution_count": 19,
     "metadata": {},
     "output_type": "execute_result"
    }
   ],
   "source": [
    "car.car_method()"
   ]
  },
  {
   "cell_type": "code",
   "execution_count": 20,
   "metadata": {},
   "outputs": [
    {
     "data": {
      "text/plain": [
       "'Это метод родительского класса Vehicle'"
      ]
     },
     "execution_count": 20,
     "metadata": {},
     "output_type": "execute_result"
    }
   ],
   "source": [
    "car.vehicle_method()"
   ]
  },
  {
   "cell_type": "markdown",
   "metadata": {},
   "source": [
    "Если же мы хотим, чтобы наследуемый класс имел более широкий набор атрибутов (или же вовсе другие атрибуты), в таком случае необходимо переопределить функцию $\\text{__init__}$ в теле наследуемого класса:"
   ]
  },
  {
   "cell_type": "code",
   "execution_count": 21,
   "metadata": {},
   "outputs": [],
   "source": [
    "class Vehicle:  \n",
    "    \n",
    "    def __init__(self, model, year):\n",
    "        self.model = model\n",
    "        self.year = year\n",
    "    \n",
    "    def vehicle_method(self):\n",
    "        return \"Это метод родительского класса Vehicle\"\n",
    "        \n",
    "\n",
    "class Car(Vehicle): \n",
    "    \n",
    "    def __init__(self, model, year, colour):\n",
    "        self.model = model\n",
    "        self.year = year\n",
    "        self.colour = colour\n",
    "    \n",
    "    def car_method(self):\n",
    "        return \"Это метод дочернего класса Car\""
   ]
  },
  {
   "cell_type": "markdown",
   "metadata": {},
   "source": [
    "Создадим объект класса Vehicle с двумя атрибутами, выведем их значения на экран и вызовем единственный для данного класса метод vehicle_method():"
   ]
  },
  {
   "cell_type": "code",
   "execution_count": 22,
   "metadata": {},
   "outputs": [],
   "source": [
    "vehicle = Vehicle(\"Mercedes\", 2019)"
   ]
  },
  {
   "cell_type": "code",
   "execution_count": 23,
   "metadata": {},
   "outputs": [
    {
     "name": "stdout",
     "output_type": "stream",
     "text": [
      "Mercedes\n",
      "2019\n"
     ]
    }
   ],
   "source": [
    "print(vehicle.model)\n",
    "print(vehicle.year)"
   ]
  },
  {
   "cell_type": "code",
   "execution_count": 24,
   "metadata": {},
   "outputs": [
    {
     "data": {
      "text/plain": [
       "'Это метод родительского класса Vehicle'"
      ]
     },
     "execution_count": 24,
     "metadata": {},
     "output_type": "execute_result"
    }
   ],
   "source": [
    "vehicle.vehicle_method()"
   ]
  },
  {
   "cell_type": "markdown",
   "metadata": {},
   "source": [
    "Теперь создадим объект класса Car. Помните, мы переопределяли функцию $\\text{__init__}$ и добавили дополнительный (третий) атрибут для данного класса? Именно поэтому, если мы вновь передадим только два атрибута, мы получим ошибку: "
   ]
  },
  {
   "cell_type": "code",
   "execution_count": 25,
   "metadata": {},
   "outputs": [
    {
     "ename": "TypeError",
     "evalue": "__init__() missing 1 required positional argument: 'colour'",
     "output_type": "error",
     "traceback": [
      "\u001b[0;31m---------------------------------------------------------------------------\u001b[0m",
      "\u001b[0;31mTypeError\u001b[0m                                 Traceback (most recent call last)",
      "\u001b[0;32m<ipython-input-25-9ba6f211efc8>\u001b[0m in \u001b[0;36m<module>\u001b[0;34m\u001b[0m\n\u001b[0;32m----> 1\u001b[0;31m \u001b[0mcar\u001b[0m \u001b[0;34m=\u001b[0m \u001b[0mCar\u001b[0m\u001b[0;34m(\u001b[0m\u001b[0;34m\"Mercedes C200\"\u001b[0m\u001b[0;34m,\u001b[0m \u001b[0;36m2019\u001b[0m\u001b[0;34m)\u001b[0m\u001b[0;34m\u001b[0m\u001b[0;34m\u001b[0m\u001b[0m\n\u001b[0m",
      "\u001b[0;31mTypeError\u001b[0m: __init__() missing 1 required positional argument: 'colour'"
     ]
    }
   ],
   "source": [
    "car = Car(\"Mercedes C200\", 2019)"
   ]
  },
  {
   "cell_type": "markdown",
   "metadata": {},
   "source": [
    "Нам сообщают, что нам не хватает одного позиционного аргумента - colour. Проблема выше решается при передачи третьего аргумента внутри круглых скобок:"
   ]
  },
  {
   "cell_type": "code",
   "execution_count": 26,
   "metadata": {},
   "outputs": [],
   "source": [
    "car = Car(\"Mercedes C200\", 2019, \"red\")"
   ]
  },
  {
   "cell_type": "markdown",
   "metadata": {},
   "source": [
    "Теперь мы имеем доступ к трём атрибутам класса Car, методу car_method() класса Car и методу vehicle_method() родительского класса Vehicle:"
   ]
  },
  {
   "cell_type": "code",
   "execution_count": 27,
   "metadata": {},
   "outputs": [
    {
     "name": "stdout",
     "output_type": "stream",
     "text": [
      "Mercedes C200\n",
      "2019\n",
      "red\n"
     ]
    }
   ],
   "source": [
    "print(car.model)\n",
    "print(car.year)\n",
    "print(car.colour)"
   ]
  },
  {
   "cell_type": "code",
   "execution_count": 28,
   "metadata": {},
   "outputs": [
    {
     "data": {
      "text/plain": [
       "'Это метод дочернего класса Car'"
      ]
     },
     "execution_count": 28,
     "metadata": {},
     "output_type": "execute_result"
    }
   ],
   "source": [
    "car.car_method()"
   ]
  },
  {
   "cell_type": "code",
   "execution_count": 29,
   "metadata": {},
   "outputs": [
    {
     "data": {
      "text/plain": [
       "'Это метод родительского класса Vehicle'"
      ]
     },
     "execution_count": 29,
     "metadata": {},
     "output_type": "execute_result"
    }
   ],
   "source": [
    "car.vehicle_method()"
   ]
  },
  {
   "cell_type": "markdown",
   "metadata": {},
   "source": [
    "Родительский класс может иметь несколько дочерних, и, аналогично, дочерний класс может иметь несколько родительских классов. Давайте рассмотрим оба сценария.\n",
    "\n",
    "1. Один родительский класс, два дочерних класса:"
   ]
  },
  {
   "cell_type": "code",
   "execution_count": 13,
   "metadata": {},
   "outputs": [],
   "source": [
    "class Vehicle:  # имеет доступ только к методу vehicle_method\n",
    "    def vehicle_method(self):\n",
    "        print(\"Это метод родительского класса Vehicle\")\n",
    "        \n",
    "class Car(Vehicle):  # имеет доступ к методам car_method и vehicle_method\n",
    "    def car_method(self):\n",
    "        print(\"Это метод дочернего класса Car\")\n",
    "        \n",
    "class Motorcycle(Vehicle):  # имееть доступ к методам motorcycle_method и vehicle_method\n",
    "    def motorcycle_method(self):\n",
    "        print(\"Это метод дочернего класса Motorcycle\")"
   ]
  },
  {
   "cell_type": "markdown",
   "metadata": {},
   "source": [
    "Здесь родительский класс Vehicle наследуется двумя дочерними классами — Car и Motorcycle. Оба дочерних класса, помимо своих уникальных методов (car_method() и motorcycle_method(), соответственно), будут иметь доступ к vehicle_method() родительского класса.\n",
    "\n",
    "2. Два родительских класса, один дочерний класс:\n"
   ]
  },
  {
   "cell_type": "code",
   "execution_count": 14,
   "metadata": {},
   "outputs": [],
   "source": [
    "class Camera:  # имеет доступ только к методу camera_method\n",
    "    def camera_method(self):\n",
    "        print(\"Это метод родительского класса Camera\")\n",
    "\n",
    "class Internet:  # имеет доступ только к методу internet_method\n",
    "    def internet_method(self):\n",
    "        print(\"Это метод родительского класса Internet\")\n",
    "\n",
    "class iPhone(Camera, Internet):  # имеет доступ к методам iphone_method, internet_method и camera_method\n",
    "     def iphone_method(self):\n",
    "        print(\"Это метод дочернего класса iPhone\")"
   ]
  },
  {
   "cell_type": "markdown",
   "metadata": {},
   "source": [
    "В данном скрипте мы создали три класса: Camera, Internet, и iPhone. Классы Camera и Internet наследуются классом iPhone. Это значит, что класс iPhone будет иметь доступ к методам классов Camera и Internet (camera_method() и internet_method()). Тем не менее, ни класс Camera, ни класс Internet не имеют доступ к методу iphone_method(). \n"
   ]
  },
  {
   "cell_type": "markdown",
   "metadata": {},
   "source": [
    "#### Полиморфизм\n",
    "\n",
    "Любое обучение вождению не имело бы смысла, если бы человек, научившийся водить, скажем, Honda Accord, не смог бы потом водить BMW X3. С другой стороны, трудно представить человека, который смог бы нормально управлять автомобилем, в котором педаль газа находится левее педали тормоза, а вместо руля – джойстик. \n",
    "Всё дело в том, что основные элементы управления автомобиля имеют одну и ту же конструкцию и принцип действия. Водитель точно знает, что для того, чтобы повернуть налево, он должен повернуть руль в ту же сторону. Если человеку надо доехать с работы до дома, то он сядет за руль автомобиля и будет выполнять одни и те же действия, независимо от того, какой именно тип автомобиля он использует. По сути, можно сказать, что все автомобили имеют один и тот же интерфейс, а водитель, абстрагируясь от сущности автомобиля, работает именно с этим интерфейсом. \n",
    "\n",
    "**Полиморфизм** – это свойство системы использовать объекты с одинаковым интерфейсом без информации о типе и внутренней структуре объекта. В более общем смысле, концепцией полиморфизма является идея \"один интерфейс, множество методов\".\n",
    "\n",
    "Полиморфизм в программировании реализуется через *перегрузку* метода, либо через его *переопределение*.\n",
    "\n",
    "1. **Перегрузка метода** относится к свойству метода вести себя по-разному, в зависимости от количества или типа параметров. Взглянем на очень простой пример перегрузки метода. Выполним следующий скрипт:\n"
   ]
  },
  {
   "cell_type": "code",
   "execution_count": 31,
   "metadata": {},
   "outputs": [],
   "source": [
    "class Numbers:  \n",
    "    def action(self, a, b = None):\n",
    "        if b is not None:\n",
    "            print (a + b)\n",
    "        else:\n",
    "            print (a)"
   ]
  },
  {
   "cell_type": "markdown",
   "metadata": {},
   "source": [
    "В данном примере, если метод start() вызывается передачей одного аргумента, значение параметра будет выведено на экран. Однако, если мы передадим 2 аргумента, метод выведет результат суммы этих аргументов. Например, если мы передадим лишь одно число, скажем - 10, то на экране мы увидим также 10. Однако, если мы передадим 10 и 20, выполнется главное условие оператора if-else (b is not None), и в результате в выдаче вы увидите сумму этих чисел, т.е. число 30. Оба примера приведены в скрипте ниже:\n"
   ]
  },
  {
   "cell_type": "code",
   "execution_count": 35,
   "metadata": {},
   "outputs": [],
   "source": [
    "numbers = Numbers()"
   ]
  },
  {
   "cell_type": "code",
   "execution_count": 36,
   "metadata": {},
   "outputs": [
    {
     "name": "stdout",
     "output_type": "stream",
     "text": [
      "10\n"
     ]
    }
   ],
   "source": [
    "numbers.action(10)"
   ]
  },
  {
   "cell_type": "code",
   "execution_count": 34,
   "metadata": {},
   "outputs": [
    {
     "name": "stdout",
     "output_type": "stream",
     "text": [
      "30\n"
     ]
    }
   ],
   "source": [
    "numbers.action(10, 20)"
   ]
  },
  {
   "cell_type": "markdown",
   "metadata": {},
   "source": [
    "2. **Переопределение метода** относится к наличию метода с одинаковым названием в дочернем и родительском классах. Так, определение метода отличается в родительском и дочернем классах, но название остается тем же. Давайте посмотрим на простой пример:\n"
   ]
  },
  {
   "cell_type": "code",
   "execution_count": 38,
   "metadata": {},
   "outputs": [],
   "source": [
    "class Vehicle:  # родительский класс\n",
    "    def print_details(self):\n",
    "        print(\"Метод родительского класса Vehicle\")\n",
    "        \n",
    "class Car(Vehicle): # дочерний класс \n",
    "    def print_details(self):\n",
    "        print(\"Метод дочернего класса Car\")\n",
    "        \n",
    "class Motorcycle(Vehicle):  # дочерний класс\n",
    "    def print_details(self):\n",
    "        print(\"Метод дочернего класса Motorcycle\")"
   ]
  },
  {
   "cell_type": "code",
   "execution_count": 39,
   "metadata": {},
   "outputs": [
    {
     "name": "stdout",
     "output_type": "stream",
     "text": [
      "Метод родительского класса Vehicle\n"
     ]
    }
   ],
   "source": [
    "vehicle = Vehicle()\n",
    "vehicle.print_details()"
   ]
  },
  {
   "cell_type": "code",
   "execution_count": 40,
   "metadata": {},
   "outputs": [
    {
     "name": "stdout",
     "output_type": "stream",
     "text": [
      "Метод дочернего класса Car\n"
     ]
    }
   ],
   "source": [
    "car = Car()\n",
    "car.print_details()"
   ]
  },
  {
   "cell_type": "code",
   "execution_count": 41,
   "metadata": {},
   "outputs": [
    {
     "name": "stdout",
     "output_type": "stream",
     "text": [
      "Метод дочернего класса Motorcycle\n"
     ]
    }
   ],
   "source": [
    "motorcycle = Motorcycle()\n",
    "motorcycle.print_details()"
   ]
  },
  {
   "cell_type": "markdown",
   "metadata": {},
   "source": [
    "Здесь классы Motorcycle и Car наследуют класс Vehicle. Класс Vehicle содержит метод print_details(), который по дефолту выдает фразу \"This is a method from the parent class Vehicle\", но который при этом переопределен дочерними классами. Теперь, если вы вызовите метод print_details(), выдача будет зависеть от объекта, через который вызывается метод. Например, если вы создадите объект класса Car и вызовете метод print_details(), в выдаче вы увидите \"This is a method from the child class Car\". Аналогично, если вы создадите объект класса Motorcycle и вызовете метод print_details(), вы получите \"This is a method from the child class Motorcycle\". Это происходит из-за того, что каждый дочерний класс по-своему переписывает старый метод из родительского класса. \n"
   ]
  },
  {
   "cell_type": "markdown",
   "metadata": {},
   "source": [
    "#### Абстракция\n",
    "\n",
    "Нередко к списку, который включает в себя наследование, инкапсуляцию и полиморфизм, добавляют четвёртый принцип - *абстракцию*, поэтому списывать со счетов данную характеристику не стоит.\n",
    "\n",
    "Любой составной объект реального мира – это абстракция. Говоря \"автомобиль\", вам не требуется дальнейших пояснений, вроде того, что это организованный набор кузова, двигателя, подвески и колёс. Абстракция позволяет игнорировать нерелевантные детали, поэтому для нашего сознания это один из главных способов справляться со сложностью реального мира.\n",
    "\n",
    "Соответственно, **абстракция** – это способ выделить набор наиболее значимых характеристик объекта, исключая из рассмотрения незначимые/второстепенные. Например, для нас важно, что автомобиль может набирать скорость и поворачивать; при этом мы никогда не будем задумываться о влиянии формы кузова на скорость.\n",
    "\n",
    "Что важно: класс называется абстрактным, если он предназначен только для наследования - для него нельзя создать экземпляр. Например, вы можете создать класс Animal (животное). Но нет никакого смысла создавать экземпляр этого класса: на практике вам нужно будет создавать экземпляры конкретных классов, например, Dog (собака) или Cat (кошка). При этом все классы Animal имеют некоторые общие характеристики, например, способность издавать звуки. Но то, что Animal может издавать звуки, еще ни о чем не говорит. Издаваемый звук зависит от вида животного.\n",
    "\n",
    "Таким образом, моделирование заключается в том, чтобы определить общее поведение в абстрактном классе и заставить подклассы реализовывать конкретное поведение, зависящее от их типа.\n",
    "\n",
    "По умолчанию в Python нет синтаксической поддержки абстрактных классов, но есть встроенный модуль abc (расшифровка – abstract base classes), который помогает проектировать абстрактные сущности. Метод становится абстрактным, если перед его определением передать ключ *@abstractmethod*.\n",
    "\n",
    "Рассмотрим простой пример:"
   ]
  },
  {
   "cell_type": "code",
   "execution_count": 19,
   "metadata": {},
   "outputs": [],
   "source": [
    "from abc import ABC,abstractmethod \n",
    "  \n",
    "class Animal(ABC): \n",
    "    #абстрактный метод, который будет необходимо переопределять для каждого подкласса\n",
    "    @abstractmethod\n",
    "    def move(self): \n",
    "        pass\n",
    "    \n",
    "class Cat(Animal): \n",
    "    def move(self): \n",
    "        print(\"Я могу мяукать\") \n",
    "        \n",
    "class Dog(Animal): \n",
    "    def move(self): \n",
    "        print(\"Я могу гавкать\") \n",
    "        \n",
    "class Lion(Animal): \n",
    "    def move(self): \n",
    "        print(\"Я могу рычать\") "
   ]
  },
  {
   "cell_type": "markdown",
   "metadata": {},
   "source": [
    "Итак, что мы сделали в приведённом коде? Для начала мы создали абстрактный класс Animal, который содержит некоторый метод поведения. Поскольку класс абстрактный (соответственно, мы не можем создать экземпляр данного класса), нам необходимо создать подклассы и заставить их реализовывать этот метод. Так, мы создали три подкласса (Cat, Dog и Lion) и реализовали абстрактный метод, переопределив его для каждого подкласса.\n",
    "\n",
    "Для наглядности создадим по одному экземпляру для каждого подкласса и вызовем метод move():\n"
   ]
  },
  {
   "cell_type": "code",
   "execution_count": 20,
   "metadata": {},
   "outputs": [
    {
     "name": "stdout",
     "output_type": "stream",
     "text": [
      "I can meow\n",
      "I can bark\n",
      "I can roar\n"
     ]
    }
   ],
   "source": [
    "cat = Cat() \n",
    "cat.move() \n",
    "  \n",
    "dog = Dog() \n",
    "dog.move() \n",
    "  \n",
    "lion = Lion() \n",
    "lion.move() "
   ]
  },
  {
   "cell_type": "markdown",
   "metadata": {},
   "source": [
    "Ожидаемо, для каждого подкласса мы получили реезультат, соотвествующий переопределённому методу абстрактного класса."
   ]
  },
  {
   "cell_type": "markdown",
   "metadata": {},
   "source": [
    "Опять же, создать экземпляр абстрактного класса невозможно. При попытке сделать это компилятор выдаст ошибку:"
   ]
  },
  {
   "cell_type": "code",
   "execution_count": 21,
   "metadata": {},
   "outputs": [
    {
     "ename": "TypeError",
     "evalue": "Can't instantiate abstract class Animal with abstract methods move",
     "output_type": "error",
     "traceback": [
      "\u001b[0;31m---------------------------------------------------------------------------\u001b[0m",
      "\u001b[0;31mTypeError\u001b[0m                                 Traceback (most recent call last)",
      "\u001b[0;32m<ipython-input-21-4a258759ffcd>\u001b[0m in \u001b[0;36m<module>\u001b[0;34m\u001b[0m\n\u001b[0;32m----> 1\u001b[0;31m \u001b[0manimal\u001b[0m \u001b[0;34m=\u001b[0m \u001b[0mAnimal\u001b[0m\u001b[0;34m(\u001b[0m\u001b[0;34m)\u001b[0m\u001b[0;34m\u001b[0m\u001b[0;34m\u001b[0m\u001b[0m\n\u001b[0m",
      "\u001b[0;31mTypeError\u001b[0m: Can't instantiate abstract class Animal with abstract methods move"
     ]
    }
   ],
   "source": [
    "animal = Animal() "
   ]
  },
  {
   "cell_type": "markdown",
   "metadata": {},
   "source": [
    "### Итоги\n",
    "\n",
    "В данной статье мы освоили оставшиеся принципы ООП и увидели целый ряд примеров с использованием языка Python. С этими знаниями вам будет проще понимать логику написания алгоритмов машинного обучения. Помимо этого, концепции ООП широко используются в разработке программного обеспечения, поэтому понимание данной теории дает вам возможность профессионально развиваться сразу в нескольких направлениях IT.\n"
   ]
  }
 ],
 "metadata": {
  "kernelspec": {
   "display_name": "Python 3",
   "language": "python",
   "name": "python3"
  },
  "language_info": {
   "codemirror_mode": {
    "name": "ipython",
    "version": 3
   },
   "file_extension": ".py",
   "mimetype": "text/x-python",
   "name": "python",
   "nbconvert_exporter": "python",
   "pygments_lexer": "ipython3",
   "version": "3.7.1"
  }
 },
 "nbformat": 4,
 "nbformat_minor": 4
}
