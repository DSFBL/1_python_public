{
 "cells": [
  {
   "cell_type": "markdown",
   "metadata": {
    "id": "zh3XxJT0H7l0"
   },
   "source": [
    "# ***Итераторы-генераторы***\n",
    "\n",
    "---\n",
    "**Материал подготовил Давид Драмбян**\n"
   ]
  },
  {
   "cell_type": "markdown",
   "metadata": {
    "id": "6digt3kEIubL"
   },
   "source": [
    "Приступим к изучению важной темы `итераторов-генераторов`. \n",
    "\n",
    "В этой статье мы углубимся в понимание итераторов и работы с ними в Python, а также разберем устройство популярного цикла `for`."
   ]
  },
  {
   "cell_type": "markdown",
   "metadata": {
    "id": "fMZT5XMaWmCN"
   },
   "source": [
    "***1. Итерация и механизм ее работы***"
   ]
  },
  {
   "cell_type": "markdown",
   "metadata": {
    "id": "1hqIB7EMXYSs"
   },
   "source": [
    "В начале следует разобраться в 3 терминах: `итерируемые объекты`, `итератор`, `итерировать`. Уже звучит пугающе? Давайте разберемся!\n",
    "\n",
    "`Итерируемые объекты` - это последовательности, как списки, строки и кортежи. Однако если элементы последовательности упорядочены, то элементы итерируемых объектов - нет."
   ]
  },
  {
   "cell_type": "code",
   "execution_count": 1,
   "metadata": {
    "id": "NXbxT45CQvc3"
   },
   "outputs": [],
   "source": [
    "x = [1, 2, 3]"
   ]
  },
  {
   "cell_type": "markdown",
   "metadata": {
    "id": "e_Uka4kwQv2K"
   },
   "source": [
    "Из любого `итерируемого объекта` мы можем получить `итератор` с помощью встроенной функции `iter`."
   ]
  },
  {
   "cell_type": "code",
   "execution_count": 2,
   "metadata": {
    "id": "nRXwUSNKP64h"
   },
   "outputs": [],
   "source": [
    "x_iterators = iter(x)"
   ]
  },
  {
   "cell_type": "markdown",
   "metadata": {
    "id": "1ltwd4K7SNb_"
   },
   "source": [
    "Сам по себе `итератор` - это некая сущность, которую мы можем `итерировать`, \n",
    "то есть повторять определенную оперцию, используя результат предыдущей аналогичной операции.\n",
    "\n",
    "Рассмотрим это на примере встроенной функции `next`:"
   ]
  },
  {
   "cell_type": "code",
   "execution_count": 3,
   "metadata": {
    "id": "9eOnyPe4TVd0"
   },
   "outputs": [
    {
     "data": {
      "text/plain": [
       "1"
      ]
     },
     "execution_count": 3,
     "metadata": {},
     "output_type": "execute_result"
    }
   ],
   "source": [
    "next(x_iterators)"
   ]
  },
  {
   "cell_type": "markdown",
   "metadata": {
    "id": "E9YU1t-BTnW4"
   },
   "source": [
    "Повторяя операцию `next`, Python помнит результат прошлой операции, то есть помнит, что уже выводил `1`:"
   ]
  },
  {
   "cell_type": "code",
   "execution_count": 4,
   "metadata": {
    "id": "G2dMObmTTgb_"
   },
   "outputs": [
    {
     "data": {
      "text/plain": [
       "2"
      ]
     },
     "execution_count": 4,
     "metadata": {},
     "output_type": "execute_result"
    }
   ],
   "source": [
    "next(x_iterators)"
   ]
  },
  {
   "cell_type": "code",
   "execution_count": 5,
   "metadata": {
    "id": "s81G_R3KTgjw"
   },
   "outputs": [
    {
     "data": {
      "text/plain": [
       "3"
      ]
     },
     "execution_count": 5,
     "metadata": {},
     "output_type": "execute_result"
    }
   ],
   "source": [
    "next(x_iterators)"
   ]
  },
  {
   "cell_type": "markdown",
   "metadata": {
    "id": "8uAT_vK5T6oo"
   },
   "source": [
    "Когда мы перебрали все элементы итератора, функция выводит исключение `StopIteration`. Это означает, что итератор `x_iterators` теперь пуст и, следовательно, бесполезен в использовании."
   ]
  },
  {
   "cell_type": "code",
   "execution_count": 6,
   "metadata": {
    "id": "cayrHF7wTgta"
   },
   "outputs": [
    {
     "ename": "StopIteration",
     "evalue": "",
     "output_type": "error",
     "traceback": [
      "\u001b[0;31m---------------------------------------------------------------------------\u001b[0m",
      "\u001b[0;31mStopIteration\u001b[0m                             Traceback (most recent call last)",
      "\u001b[0;32m<ipython-input-6-89205397d9a2>\u001b[0m in \u001b[0;36m<module>\u001b[0;34m\u001b[0m\n\u001b[0;32m----> 1\u001b[0;31m \u001b[0mnext\u001b[0m\u001b[0;34m(\u001b[0m\u001b[0mx_iterators\u001b[0m\u001b[0;34m)\u001b[0m\u001b[0;34m\u001b[0m\u001b[0m\n\u001b[0m",
      "\u001b[0;31mStopIteration\u001b[0m: "
     ]
    }
   ],
   "source": [
    "next(x_iterators)"
   ]
  },
  {
   "cell_type": "markdown",
   "metadata": {
    "id": "krNDsWomcV3I"
   },
   "source": [
    "Важно: **Итератор может быть использован только один раз.** "
   ]
  },
  {
   "cell_type": "code",
   "execution_count": 8,
   "metadata": {
    "id": "yLNrSyoBcPMR"
   },
   "outputs": [
    {
     "name": "stdout",
     "output_type": "stream",
     "text": [
      "[]\n"
     ]
    }
   ],
   "source": [
    "print(list(x_iterators))"
   ]
  },
  {
   "cell_type": "markdown",
   "metadata": {
    "id": "Ax3984sBha1P"
   },
   "source": [
    "![1.png](data:image/png;base64,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)"
   ]
  },
  {
   "cell_type": "markdown",
   "metadata": {
    "id": "YP8KDut-X0fo"
   },
   "source": [
    "Если мы будем использовать функцию `iter` к итератору, то получим тот же самый итератор:"
   ]
  },
  {
   "cell_type": "code",
   "execution_count": 9,
   "metadata": {
    "id": "_0dXPNUfX8s8"
   },
   "outputs": [
    {
     "data": {
      "text/plain": [
       "1"
      ]
     },
     "execution_count": 9,
     "metadata": {},
     "output_type": "execute_result"
    }
   ],
   "source": [
    "x = [1, 2, 3]\n",
    "x_iterators = iter(x)\n",
    "next(x_iterators)"
   ]
  },
  {
   "cell_type": "code",
   "execution_count": 10,
   "metadata": {
    "id": "3uzCfVTpYCSR"
   },
   "outputs": [
    {
     "data": {
      "text/plain": [
       "2"
      ]
     },
     "execution_count": 10,
     "metadata": {},
     "output_type": "execute_result"
    }
   ],
   "source": [
    "next(x_iterators)"
   ]
  },
  {
   "cell_type": "code",
   "execution_count": 11,
   "metadata": {
    "id": "BAGc0X83YCcZ"
   },
   "outputs": [
    {
     "data": {
      "text/plain": [
       "3"
      ]
     },
     "execution_count": 11,
     "metadata": {},
     "output_type": "execute_result"
    }
   ],
   "source": [
    "next(x_iterators)"
   ]
  },
  {
   "cell_type": "code",
   "execution_count": 12,
   "metadata": {
    "id": "2KQ5wOc6YCm1"
   },
   "outputs": [
    {
     "ename": "StopIteration",
     "evalue": "",
     "output_type": "error",
     "traceback": [
      "\u001b[0;31m---------------------------------------------------------------------------\u001b[0m",
      "\u001b[0;31mStopIteration\u001b[0m                             Traceback (most recent call last)",
      "\u001b[0;32m<ipython-input-12-89205397d9a2>\u001b[0m in \u001b[0;36m<module>\u001b[0;34m\u001b[0m\n\u001b[0;32m----> 1\u001b[0;31m \u001b[0mnext\u001b[0m\u001b[0;34m(\u001b[0m\u001b[0mx_iterators\u001b[0m\u001b[0;34m)\u001b[0m\u001b[0;34m\u001b[0m\u001b[0m\n\u001b[0m",
      "\u001b[0;31mStopIteration\u001b[0m: "
     ]
    }
   ],
   "source": [
    "next(x_iterators)"
   ]
  },
  {
   "cell_type": "markdown",
   "metadata": {
    "id": "C9ffUPFOUwr1"
   },
   "source": [
    "В каких случаях Python использует итерацию? Скорее всего, вы уже использовали итерацию Python, но просто об этом не знали. \n",
    "\n",
    "Вот несколько примеров неочевдного использования итерации:"
   ]
  },
  {
   "cell_type": "code",
   "execution_count": 13,
   "metadata": {
    "id": "SYhNrC52VjCk"
   },
   "outputs": [],
   "source": [
    "prices = [25, 50, 100]\n",
    "a, b, c = prices"
   ]
  },
  {
   "cell_type": "markdown",
   "metadata": {
    "id": "QIp4awPsWIY3"
   },
   "source": [
    "Или:"
   ]
  },
  {
   "cell_type": "code",
   "execution_count": 14,
   "metadata": {
    "id": "W1noby_iWEGw"
   },
   "outputs": [
    {
     "name": "stdout",
     "output_type": "stream",
     "text": [
      "1 85 2\n"
     ]
    }
   ],
   "source": [
    "x = [1, 85, 2]\n",
    "print(*x)"
   ]
  },
  {
   "cell_type": "markdown",
   "metadata": {
    "id": "XJrfVJ0oZoJT"
   },
   "source": [
    "***2. Создание собственного итератора***"
   ]
  },
  {
   "cell_type": "markdown",
   "metadata": {
    "id": "s8xWnkMIaIkd"
   },
   "source": [
    "Теперь мы знаем, что такое итерация, и как она работает. Однако мы еще не умеем самостоятельно создавать итератор, хотя это является ценным навыком для работы. \n",
    "\n",
    "Попробуем создать класс, который обеспечивает бесконечное умножение числа на 2:"
   ]
  },
  {
   "cell_type": "code",
   "execution_count": 16,
   "metadata": {
    "id": "YAddtwk1ZsuD"
   },
   "outputs": [],
   "source": [
    "class DoubleNumber:\n",
    "    def __init__(self, number):\n",
    "        self.number = number\n",
    "\n",
    "    def next(self):\n",
    "        self.number = self.number * 2\n",
    "        return self.number\n",
    "\n",
    "    def iter(self):\n",
    "        return self"
   ]
  },
  {
   "cell_type": "code",
   "execution_count": 17,
   "metadata": {
    "colab": {
     "base_uri": "https://localhost:8080/",
     "height": 297
    },
    "id": "JeQqO4q9beNB",
    "outputId": "ba6f8e08-b0fa-4a8f-afe4-1624ddf01cae"
   },
   "outputs": [
    {
     "data": {
      "text/plain": [
       "12"
      ]
     },
     "execution_count": 17,
     "metadata": {},
     "output_type": "execute_result"
    }
   ],
   "source": [
    "double_six = DoubleNumber(6)\n",
    "double_six.next()"
   ]
  },
  {
   "cell_type": "code",
   "execution_count": 18,
   "metadata": {
    "colab": {
     "base_uri": "https://localhost:8080/"
    },
    "id": "ZEYw3A0ubwKl",
    "outputId": "0369f08b-494f-40c6-98c0-d8c13462d317"
   },
   "outputs": [
    {
     "data": {
      "text/plain": [
       "24"
      ]
     },
     "execution_count": 18,
     "metadata": {},
     "output_type": "execute_result"
    }
   ],
   "source": [
    "double_six.next()"
   ]
  },
  {
   "cell_type": "code",
   "execution_count": 19,
   "metadata": {
    "colab": {
     "base_uri": "https://localhost:8080/"
    },
    "id": "9R87uXJAbwVm",
    "outputId": "55872c9f-293f-4b2b-c529-0c9e5082f3eb"
   },
   "outputs": [
    {
     "data": {
      "text/plain": [
       "48"
      ]
     },
     "execution_count": 19,
     "metadata": {},
     "output_type": "execute_result"
    }
   ],
   "source": [
    "double_six.next()"
   ]
  },
  {
   "cell_type": "markdown",
   "metadata": {
    "id": "vWH6-7Gs4D_E"
   },
   "source": [
    "### Циклы for и while"
   ]
  },
  {
   "cell_type": "markdown",
   "metadata": {
    "id": "ioHOxnDf4Vvq"
   },
   "source": [
    "Цикл помогает автоматизировать однотипные действия и проходиться по элементам итерабельных(состоящих из несколльких элементов) объектов: спискам, кортежам, ....\n",
    "\n",
    "Вводим итератор i - сущность, с помощью которой будем проходить по итерируемому объекту(в данном случае, по range(5) - по числам от 0 до 4, включительно) и для каждого значения итератора из указанных(от 0 до 4) напечатаем это значение. "
   ]
  },
  {
   "cell_type": "code",
   "execution_count": 20,
   "metadata": {
    "colab": {
     "base_uri": "https://localhost:8080/",
     "height": 102
    },
    "id": "4i3L02uX4AkK",
    "outputId": "6daa5c03-744b-49bc-e7fb-a80b2f5fc9b3"
   },
   "outputs": [
    {
     "name": "stdout",
     "output_type": "stream",
     "text": [
      "0\n",
      "1\n",
      "2\n",
      "3\n",
      "4\n"
     ]
    }
   ],
   "source": [
    "for i in range(5):\n",
    "    print(i)"
   ]
  },
  {
   "cell_type": "markdown",
   "metadata": {
    "id": "6KedySTiGtxr"
   },
   "source": [
    "Циклы можно вкладывать в циклы. Однако важно помнить о том, чтобы названия итераторов в таком случае отличались для разных циклов, чтобы не привести к ошибочному их использованию. "
   ]
  },
  {
   "cell_type": "code",
   "execution_count": 21,
   "metadata": {
    "colab": {
     "base_uri": "https://localhost:8080/",
     "height": 119
    },
    "id": "gUM8OJkDGsR2",
    "outputId": "8ad1bb03-92ad-421e-85b8-24cf6f932b8c"
   },
   "outputs": [
    {
     "name": "stdout",
     "output_type": "stream",
     "text": [
      "0 A\n",
      "0 B\n",
      "1 A\n",
      "1 B\n",
      "2 A\n",
      "2 B\n"
     ]
    }
   ],
   "source": [
    "for i in range(3):\n",
    "    for j in ['A', 'B']:\n",
    "        print(i, j)"
   ]
  },
  {
   "cell_type": "markdown",
   "metadata": {
    "id": "Lkipuay3J5k3"
   },
   "source": [
    "Аналогично можно использовать итератр в цикле while. Он будет проходить, пока выполняется условие прописанное в цикле, или не будет прерван принудительно"
   ]
  },
  {
   "cell_type": "code",
   "execution_count": 22,
   "metadata": {
    "colab": {
     "base_uri": "https://localhost:8080/",
     "height": 119
    },
    "id": "4b7FDE4IJ4Se",
    "outputId": "c5f18c99-51cc-4b20-aa08-d2f913b44041"
   },
   "outputs": [
    {
     "name": "stdout",
     "output_type": "stream",
     "text": [
      "0\n",
      "1\n",
      "4\n",
      "9\n",
      "16\n",
      "25\n"
     ]
    }
   ],
   "source": [
    "a = 0\n",
    "while a <= 5:  # условие выхода из цикла\n",
    "    print(a**2)\n",
    "    a += 1  # обновление значения a"
   ]
  },
  {
   "cell_type": "markdown",
   "metadata": {
    "id": "zu71DrSsLl3Q"
   },
   "source": [
    "## Генераторы"
   ]
  },
  {
   "cell_type": "markdown",
   "metadata": {
    "id": "AnY5vHS_MYrJ"
   },
   "source": [
    "Генераторы - это практически функции-итераторы. Однако вместо стандартного return, в них используется yield для того, чтобы запоминать последнее значение функции и вести от него счет"
   ]
  },
  {
   "cell_type": "code",
   "execution_count": 23,
   "metadata": {
    "id": "_9ZbA36NLjgY"
   },
   "outputs": [],
   "source": [
    "def counter(n):\n",
    "    print('Counting')\n",
    "    while n <= 1000:\n",
    "        yield n\n",
    "        n += 1"
   ]
  },
  {
   "cell_type": "code",
   "execution_count": 24,
   "metadata": {
    "id": "suNvGUopMPs7"
   },
   "outputs": [],
   "source": [
    "a = counter(3) # запомним в переменную a значение функции"
   ]
  },
  {
   "cell_type": "code",
   "execution_count": 25,
   "metadata": {
    "colab": {
     "base_uri": "https://localhost:8080/",
     "height": 51
    },
    "id": "EpX8iIlhL46T",
    "outputId": "12eb5c41-2d09-4735-9c97-d36e6190c848"
   },
   "outputs": [
    {
     "name": "stdout",
     "output_type": "stream",
     "text": [
      "Counting\n"
     ]
    },
    {
     "data": {
      "text/plain": [
       "3"
      ]
     },
     "execution_count": 25,
     "metadata": {},
     "output_type": "execute_result"
    }
   ],
   "source": [
    "next(a) # вернем его с помощью уже использованной для итераторов функции next()"
   ]
  },
  {
   "cell_type": "code",
   "execution_count": 26,
   "metadata": {
    "colab": {
     "base_uri": "https://localhost:8080/",
     "height": 34
    },
    "id": "oPMYz3iFL4kD",
    "outputId": "e5401cc7-ac4e-4a8f-b48e-fa4a63c8f15c"
   },
   "outputs": [
    {
     "data": {
      "text/plain": [
       "4"
      ]
     },
     "execution_count": 26,
     "metadata": {},
     "output_type": "execute_result"
    }
   ],
   "source": [
    "next(a)"
   ]
  },
  {
   "cell_type": "markdown",
   "metadata": {
    "id": "ea-HvU0GNazE"
   },
   "source": [
    "Каждый следующий вызов функции будет возобновлять цикл и возвращать следующий ответ, пока цикл не будет остановлен"
   ]
  },
  {
   "cell_type": "markdown",
   "metadata": {
    "id": "5cUob9L_dZPF"
   },
   "source": [
    "Генератор можно создать в одной строке, похожей по синтаксису на создание списка циклом. Однако при создании генератора используются ()."
   ]
  },
  {
   "cell_type": "code",
   "execution_count": 27,
   "metadata": {
    "id": "jAGS9SGwdLmA"
   },
   "outputs": [],
   "source": [
    "g = (gg**2 for gg in range(5))"
   ]
  },
  {
   "cell_type": "code",
   "execution_count": 28,
   "metadata": {
    "colab": {
     "base_uri": "https://localhost:8080/",
     "height": 34
    },
    "id": "dfUqx-Q2dt0k",
    "outputId": "134dd722-c13f-4ab0-c93e-1e79d2d0f7ab"
   },
   "outputs": [
    {
     "data": {
      "text/plain": [
       "<generator object <genexpr> at 0x10e65d7d8>"
      ]
     },
     "execution_count": 28,
     "metadata": {},
     "output_type": "execute_result"
    }
   ],
   "source": [
    "g"
   ]
  },
  {
   "cell_type": "code",
   "execution_count": 29,
   "metadata": {
    "colab": {
     "base_uri": "https://localhost:8080/",
     "height": 102
    },
    "id": "umXlxRUhdWj8",
    "outputId": "83a9f2be-ed86-4a78-88d6-31afedb8ed8f"
   },
   "outputs": [
    {
     "name": "stdout",
     "output_type": "stream",
     "text": [
      "0\n",
      "1\n",
      "4\n",
      "9\n",
      "16\n"
     ]
    }
   ],
   "source": [
    "for i in range(5):\n",
    "    print(next(g))"
   ]
  },
  {
   "cell_type": "code",
   "execution_count": 30,
   "metadata": {
    "colab": {
     "base_uri": "https://localhost:8080/",
     "height": 34
    },
    "id": "ZefsQFu8d9_V",
    "outputId": "0c35faf2-157a-4e07-c085-f4ee255a9555"
   },
   "outputs": [
    {
     "data": {
      "text/plain": [
       "generator"
      ]
     },
     "execution_count": 30,
     "metadata": {},
     "output_type": "execute_result"
    }
   ],
   "source": [
    "type(g)"
   ]
  },
  {
   "cell_type": "markdown",
   "metadata": {
    "id": "nHkhk4hleBaE"
   },
   "source": [
    ":)"
   ]
  }
 ],
 "metadata": {
  "colab": {
   "collapsed_sections": [],
   "name": "Iterators-Generators.ipynb",
   "provenance": []
  },
  "kernelspec": {
   "display_name": "Python 3",
   "language": "python",
   "name": "python3"
  },
  "language_info": {
   "codemirror_mode": {
    "name": "ipython",
    "version": 3
   },
   "file_extension": ".py",
   "mimetype": "text/x-python",
   "name": "python",
   "nbconvert_exporter": "python",
   "pygments_lexer": "ipython3",
   "version": "3.6.6"
  },
  "toc": {
   "base_numbering": 1,
   "nav_menu": {},
   "number_sections": true,
   "sideBar": true,
   "skip_h1_title": false,
   "title_cell": "Table of Contents",
   "title_sidebar": "Contents",
   "toc_cell": false,
   "toc_position": {},
   "toc_section_display": true,
   "toc_window_display": false
  }
 },
 "nbformat": 4,
 "nbformat_minor": 1
}
